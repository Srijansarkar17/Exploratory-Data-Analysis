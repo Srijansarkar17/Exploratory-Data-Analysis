{
  "nbformat": 4,
  "nbformat_minor": 0,
  "metadata": {
    "colab": {
      "provenance": [],
      "authorship_tag": "ABX9TyPh2vp6NJkzc2ewlPipp+TI",
      "include_colab_link": true
    },
    "kernelspec": {
      "name": "python3",
      "display_name": "Python 3"
    },
    "language_info": {
      "name": "python"
    }
  },
  "cells": [
    {
      "cell_type": "markdown",
      "metadata": {
        "id": "view-in-github",
        "colab_type": "text"
      },
      "source": [
        "<a href=\"https://colab.research.google.com/github/Srijansarkar17/Exploratory-Data-Analysis/blob/main/UKaccidentanalysis.ipynb\" target=\"_parent\"><img src=\"https://colab.research.google.com/assets/colab-badge.svg\" alt=\"Open In Colab\"/></a>"
      ]
    },
    {
      "cell_type": "markdown",
      "source": [
        "#UK ACCIDENT ANALYSIS(2005)\n",
        "- In this project we'll take a deep insight on the dataset and analyse some of the major reasons and causes for accidents in UK in the year 2005\n",
        "- The dataset is taken from Kaggle\n",
        "- Dataset Source - https://www.kaggle.com/datasets/devansodariya/road-accident-united-kingdom-uk-dataset"
      ],
      "metadata": {
        "id": "ZP9v56MBbxnb"
      }
    },
    {
      "cell_type": "code",
      "execution_count": null,
      "metadata": {
        "colab": {
          "base_uri": "https://localhost:8080/"
        },
        "id": "l9_6B9FbtbMI",
        "outputId": "af4b156b-b174-44a0-d472-89d6dc278a18"
      },
      "outputs": [
        {
          "output_type": "stream",
          "name": "stdout",
          "text": [
            "Collecting opendatasets\n",
            "  Downloading opendatasets-0.1.22-py3-none-any.whl (15 kB)\n",
            "Requirement already satisfied: tqdm in /usr/local/lib/python3.10/dist-packages (from opendatasets) (4.66.1)\n",
            "Requirement already satisfied: kaggle in /usr/local/lib/python3.10/dist-packages (from opendatasets) (1.5.16)\n",
            "Requirement already satisfied: click in /usr/local/lib/python3.10/dist-packages (from opendatasets) (8.1.7)\n",
            "Requirement already satisfied: six>=1.10 in /usr/local/lib/python3.10/dist-packages (from kaggle->opendatasets) (1.16.0)\n",
            "Requirement already satisfied: certifi in /usr/local/lib/python3.10/dist-packages (from kaggle->opendatasets) (2023.11.17)\n",
            "Requirement already satisfied: python-dateutil in /usr/local/lib/python3.10/dist-packages (from kaggle->opendatasets) (2.8.2)\n",
            "Requirement already satisfied: requests in /usr/local/lib/python3.10/dist-packages (from kaggle->opendatasets) (2.31.0)\n",
            "Requirement already satisfied: python-slugify in /usr/local/lib/python3.10/dist-packages (from kaggle->opendatasets) (8.0.1)\n",
            "Requirement already satisfied: urllib3 in /usr/local/lib/python3.10/dist-packages (from kaggle->opendatasets) (2.0.7)\n",
            "Requirement already satisfied: bleach in /usr/local/lib/python3.10/dist-packages (from kaggle->opendatasets) (6.1.0)\n",
            "Requirement already satisfied: webencodings in /usr/local/lib/python3.10/dist-packages (from bleach->kaggle->opendatasets) (0.5.1)\n",
            "Requirement already satisfied: text-unidecode>=1.3 in /usr/local/lib/python3.10/dist-packages (from python-slugify->kaggle->opendatasets) (1.3)\n",
            "Requirement already satisfied: charset-normalizer<4,>=2 in /usr/local/lib/python3.10/dist-packages (from requests->kaggle->opendatasets) (3.3.2)\n",
            "Requirement already satisfied: idna<4,>=2.5 in /usr/local/lib/python3.10/dist-packages (from requests->kaggle->opendatasets) (3.6)\n",
            "Installing collected packages: opendatasets\n",
            "Successfully installed opendatasets-0.1.22\n"
          ]
        }
      ],
      "source": [
        "pip install opendatasets\n"
      ]
    },
    {
      "cell_type": "markdown",
      "source": [
        "##Download the Data"
      ],
      "metadata": {
        "id": "WkKyaLaK0RAx"
      }
    },
    {
      "cell_type": "code",
      "source": [
        "import opendatasets as od"
      ],
      "metadata": {
        "id": "2KYv9nSPvmbY"
      },
      "execution_count": null,
      "outputs": []
    },
    {
      "cell_type": "code",
      "source": [
        "data_filename = '/content/UK_Accident.csv'"
      ],
      "metadata": {
        "id": "PifpMb0HvtAB"
      },
      "execution_count": null,
      "outputs": []
    },
    {
      "cell_type": "markdown",
      "source": [
        "##load the file using pandas"
      ],
      "metadata": {
        "id": "D8-iYPOB1OWY"
      }
    },
    {
      "cell_type": "code",
      "source": [
        "import pandas as pd\n",
        "df = pd.read_csv(data_filename)\n",
        "df"
      ],
      "metadata": {
        "colab": {
          "base_uri": "https://localhost:8080/",
          "height": 652
        },
        "id": "QXKiZ72Xwq1x",
        "outputId": "b01cb02b-3ad7-4ad2-ac81-d9641a606318"
      },
      "execution_count": null,
      "outputs": [
        {
          "output_type": "execute_result",
          "data": {
            "text/plain": [
              "      Unnamed: 0 Accident_Index  Location_Easting_OSGR  \\\n",
              "0              0  200501BS00001               525680.0   \n",
              "1              1  200501BS00002               524170.0   \n",
              "2              2  200501BS00003               524520.0   \n",
              "3              3  200501BS00004               526900.0   \n",
              "4              4  200501BS00005               528060.0   \n",
              "...          ...            ...                    ...   \n",
              "6969        6969  200501JC30725               536540.0   \n",
              "6970        6970  200501JC30726               537260.0   \n",
              "6971        6971  200501JC30728               537660.0   \n",
              "6972        6972  200501JC30729               538670.0   \n",
              "6973        6973  200501JC30730               536970.0   \n",
              "\n",
              "      Location_Northing_OSGR  Longitude   Latitude  Police_Force  \\\n",
              "0                   178240.0  -0.191170  51.489096             1   \n",
              "1                   181650.0  -0.211708  51.520075             1   \n",
              "2                   182240.0  -0.206458  51.525301             1   \n",
              "3                   177530.0  -0.173862  51.482442             1   \n",
              "4                   179040.0  -0.156618  51.495752             1   \n",
              "...                      ...        ...        ...           ...   \n",
              "6969                189570.0  -0.030451  51.588394             1   \n",
              "6970                189640.0  -0.020037  51.588848             1   \n",
              "6971                195140.0  -0.012108  51.638174             1   \n",
              "6972                189760.0   0.000349  51.589582             1   \n",
              "6973                187560.0  -0.025031  51.570228             1   \n",
              "\n",
              "      Accident_Severity  Number_of_Vehicles  Number_of_Casualties  ...  \\\n",
              "0                     2                   1                     1  ...   \n",
              "1                     3                   1                     1  ...   \n",
              "2                     3                   2                     1  ...   \n",
              "3                     3                   1                     1  ...   \n",
              "4                     3                   1                     1  ...   \n",
              "...                 ...                 ...                   ...  ...   \n",
              "6969                  3                   1                     1  ...   \n",
              "6970                  3                   1                     1  ...   \n",
              "6971                  3                   1                     1  ...   \n",
              "6972                  3                   2                     1  ...   \n",
              "6973                  3                   2                     1  ...   \n",
              "\n",
              "          Pedestrian_Crossing-Physical_Facilities  \\\n",
              "0                                  Zebra crossing   \n",
              "1     Pedestrian phase at traffic signal junction   \n",
              "2           No physical crossing within 50 meters   \n",
              "3           No physical crossing within 50 meters   \n",
              "4           No physical crossing within 50 meters   \n",
              "...                                           ...   \n",
              "6969        No physical crossing within 50 meters   \n",
              "6970        No physical crossing within 50 meters   \n",
              "6971        No physical crossing within 50 meters   \n",
              "6972        No physical crossing within 50 meters   \n",
              "6973                               Pedestrian pha   \n",
              "\n",
              "                             Light_Conditions          Weather_Conditions  \\\n",
              "0              Daylight: Street light present  Raining without high winds   \n",
              "1     Darkness: Street lights present and lit     Fine without high winds   \n",
              "2     Darkness: Street lights present and lit     Fine without high winds   \n",
              "3              Daylight: Street light present     Fine without high winds   \n",
              "4           Darkness: Street lighting unknown     Fine without high winds   \n",
              "...                                       ...                         ...   \n",
              "6969           Daylight: Street light present     Fine without high winds   \n",
              "6970           Daylight: Street light present     Fine without high winds   \n",
              "6971           Daylight: Street light present     Fine without high winds   \n",
              "6972           Daylight: Street light present     Fine without high winds   \n",
              "6973                                      NaN                         NaN   \n",
              "\n",
              "      Road_Surface_Conditions Special_Conditions_at_Site  Carriageway_Hazards  \\\n",
              "0                    Wet/Damp                       None                 None   \n",
              "1                         Dry                       None                 None   \n",
              "2                         Dry                       None                 None   \n",
              "3                         Dry                       None                 None   \n",
              "4                    Wet/Damp                       None                 None   \n",
              "...                       ...                        ...                  ...   \n",
              "6969                      Dry                       None                 None   \n",
              "6970                      Dry                       None                 None   \n",
              "6971                      Dry                       None                 None   \n",
              "6972                      Dry                       None                 None   \n",
              "6973                      NaN                        NaN                  NaN   \n",
              "\n",
              "      Urban_or_Rural_Area Did_Police_Officer_Attend_Scene_of_Accident  \\\n",
              "0                     1.0                                         Yes   \n",
              "1                     1.0                                         Yes   \n",
              "2                     1.0                                         Yes   \n",
              "3                     1.0                                         Yes   \n",
              "4                     1.0                                         Yes   \n",
              "...                   ...                                         ...   \n",
              "6969                  1.0                                         Yes   \n",
              "6970                  1.0                                         Yes   \n",
              "6971                  1.0                                         Yes   \n",
              "6972                  1.0                                         Yes   \n",
              "6973                  NaN                                         NaN   \n",
              "\n",
              "      LSOA_of_Accident_Location    Year  \n",
              "0                     E01002849  2005.0  \n",
              "1                     E01002909  2005.0  \n",
              "2                     E01002857  2005.0  \n",
              "3                     E01002840  2005.0  \n",
              "4                     E01002863  2005.0  \n",
              "...                         ...     ...  \n",
              "6969                  E01004396  2005.0  \n",
              "6970                  E01004460  2005.0  \n",
              "6971                  E01004350  2005.0  \n",
              "6972                  E01004471  2005.0  \n",
              "6973                        NaN     NaN  \n",
              "\n",
              "[6974 rows x 33 columns]"
            ],
            "text/html": [
              "\n",
              "  <div id=\"df-0981dbce-2937-4c1c-b903-3b07b76f17fb\" class=\"colab-df-container\">\n",
              "    <div>\n",
              "<style scoped>\n",
              "    .dataframe tbody tr th:only-of-type {\n",
              "        vertical-align: middle;\n",
              "    }\n",
              "\n",
              "    .dataframe tbody tr th {\n",
              "        vertical-align: top;\n",
              "    }\n",
              "\n",
              "    .dataframe thead th {\n",
              "        text-align: right;\n",
              "    }\n",
              "</style>\n",
              "<table border=\"1\" class=\"dataframe\">\n",
              "  <thead>\n",
              "    <tr style=\"text-align: right;\">\n",
              "      <th></th>\n",
              "      <th>Unnamed: 0</th>\n",
              "      <th>Accident_Index</th>\n",
              "      <th>Location_Easting_OSGR</th>\n",
              "      <th>Location_Northing_OSGR</th>\n",
              "      <th>Longitude</th>\n",
              "      <th>Latitude</th>\n",
              "      <th>Police_Force</th>\n",
              "      <th>Accident_Severity</th>\n",
              "      <th>Number_of_Vehicles</th>\n",
              "      <th>Number_of_Casualties</th>\n",
              "      <th>...</th>\n",
              "      <th>Pedestrian_Crossing-Physical_Facilities</th>\n",
              "      <th>Light_Conditions</th>\n",
              "      <th>Weather_Conditions</th>\n",
              "      <th>Road_Surface_Conditions</th>\n",
              "      <th>Special_Conditions_at_Site</th>\n",
              "      <th>Carriageway_Hazards</th>\n",
              "      <th>Urban_or_Rural_Area</th>\n",
              "      <th>Did_Police_Officer_Attend_Scene_of_Accident</th>\n",
              "      <th>LSOA_of_Accident_Location</th>\n",
              "      <th>Year</th>\n",
              "    </tr>\n",
              "  </thead>\n",
              "  <tbody>\n",
              "    <tr>\n",
              "      <th>0</th>\n",
              "      <td>0</td>\n",
              "      <td>200501BS00001</td>\n",
              "      <td>525680.0</td>\n",
              "      <td>178240.0</td>\n",
              "      <td>-0.191170</td>\n",
              "      <td>51.489096</td>\n",
              "      <td>1</td>\n",
              "      <td>2</td>\n",
              "      <td>1</td>\n",
              "      <td>1</td>\n",
              "      <td>...</td>\n",
              "      <td>Zebra crossing</td>\n",
              "      <td>Daylight: Street light present</td>\n",
              "      <td>Raining without high winds</td>\n",
              "      <td>Wet/Damp</td>\n",
              "      <td>None</td>\n",
              "      <td>None</td>\n",
              "      <td>1.0</td>\n",
              "      <td>Yes</td>\n",
              "      <td>E01002849</td>\n",
              "      <td>2005.0</td>\n",
              "    </tr>\n",
              "    <tr>\n",
              "      <th>1</th>\n",
              "      <td>1</td>\n",
              "      <td>200501BS00002</td>\n",
              "      <td>524170.0</td>\n",
              "      <td>181650.0</td>\n",
              "      <td>-0.211708</td>\n",
              "      <td>51.520075</td>\n",
              "      <td>1</td>\n",
              "      <td>3</td>\n",
              "      <td>1</td>\n",
              "      <td>1</td>\n",
              "      <td>...</td>\n",
              "      <td>Pedestrian phase at traffic signal junction</td>\n",
              "      <td>Darkness: Street lights present and lit</td>\n",
              "      <td>Fine without high winds</td>\n",
              "      <td>Dry</td>\n",
              "      <td>None</td>\n",
              "      <td>None</td>\n",
              "      <td>1.0</td>\n",
              "      <td>Yes</td>\n",
              "      <td>E01002909</td>\n",
              "      <td>2005.0</td>\n",
              "    </tr>\n",
              "    <tr>\n",
              "      <th>2</th>\n",
              "      <td>2</td>\n",
              "      <td>200501BS00003</td>\n",
              "      <td>524520.0</td>\n",
              "      <td>182240.0</td>\n",
              "      <td>-0.206458</td>\n",
              "      <td>51.525301</td>\n",
              "      <td>1</td>\n",
              "      <td>3</td>\n",
              "      <td>2</td>\n",
              "      <td>1</td>\n",
              "      <td>...</td>\n",
              "      <td>No physical crossing within 50 meters</td>\n",
              "      <td>Darkness: Street lights present and lit</td>\n",
              "      <td>Fine without high winds</td>\n",
              "      <td>Dry</td>\n",
              "      <td>None</td>\n",
              "      <td>None</td>\n",
              "      <td>1.0</td>\n",
              "      <td>Yes</td>\n",
              "      <td>E01002857</td>\n",
              "      <td>2005.0</td>\n",
              "    </tr>\n",
              "    <tr>\n",
              "      <th>3</th>\n",
              "      <td>3</td>\n",
              "      <td>200501BS00004</td>\n",
              "      <td>526900.0</td>\n",
              "      <td>177530.0</td>\n",
              "      <td>-0.173862</td>\n",
              "      <td>51.482442</td>\n",
              "      <td>1</td>\n",
              "      <td>3</td>\n",
              "      <td>1</td>\n",
              "      <td>1</td>\n",
              "      <td>...</td>\n",
              "      <td>No physical crossing within 50 meters</td>\n",
              "      <td>Daylight: Street light present</td>\n",
              "      <td>Fine without high winds</td>\n",
              "      <td>Dry</td>\n",
              "      <td>None</td>\n",
              "      <td>None</td>\n",
              "      <td>1.0</td>\n",
              "      <td>Yes</td>\n",
              "      <td>E01002840</td>\n",
              "      <td>2005.0</td>\n",
              "    </tr>\n",
              "    <tr>\n",
              "      <th>4</th>\n",
              "      <td>4</td>\n",
              "      <td>200501BS00005</td>\n",
              "      <td>528060.0</td>\n",
              "      <td>179040.0</td>\n",
              "      <td>-0.156618</td>\n",
              "      <td>51.495752</td>\n",
              "      <td>1</td>\n",
              "      <td>3</td>\n",
              "      <td>1</td>\n",
              "      <td>1</td>\n",
              "      <td>...</td>\n",
              "      <td>No physical crossing within 50 meters</td>\n",
              "      <td>Darkness: Street lighting unknown</td>\n",
              "      <td>Fine without high winds</td>\n",
              "      <td>Wet/Damp</td>\n",
              "      <td>None</td>\n",
              "      <td>None</td>\n",
              "      <td>1.0</td>\n",
              "      <td>Yes</td>\n",
              "      <td>E01002863</td>\n",
              "      <td>2005.0</td>\n",
              "    </tr>\n",
              "    <tr>\n",
              "      <th>...</th>\n",
              "      <td>...</td>\n",
              "      <td>...</td>\n",
              "      <td>...</td>\n",
              "      <td>...</td>\n",
              "      <td>...</td>\n",
              "      <td>...</td>\n",
              "      <td>...</td>\n",
              "      <td>...</td>\n",
              "      <td>...</td>\n",
              "      <td>...</td>\n",
              "      <td>...</td>\n",
              "      <td>...</td>\n",
              "      <td>...</td>\n",
              "      <td>...</td>\n",
              "      <td>...</td>\n",
              "      <td>...</td>\n",
              "      <td>...</td>\n",
              "      <td>...</td>\n",
              "      <td>...</td>\n",
              "      <td>...</td>\n",
              "      <td>...</td>\n",
              "    </tr>\n",
              "    <tr>\n",
              "      <th>6969</th>\n",
              "      <td>6969</td>\n",
              "      <td>200501JC30725</td>\n",
              "      <td>536540.0</td>\n",
              "      <td>189570.0</td>\n",
              "      <td>-0.030451</td>\n",
              "      <td>51.588394</td>\n",
              "      <td>1</td>\n",
              "      <td>3</td>\n",
              "      <td>1</td>\n",
              "      <td>1</td>\n",
              "      <td>...</td>\n",
              "      <td>No physical crossing within 50 meters</td>\n",
              "      <td>Daylight: Street light present</td>\n",
              "      <td>Fine without high winds</td>\n",
              "      <td>Dry</td>\n",
              "      <td>None</td>\n",
              "      <td>None</td>\n",
              "      <td>1.0</td>\n",
              "      <td>Yes</td>\n",
              "      <td>E01004396</td>\n",
              "      <td>2005.0</td>\n",
              "    </tr>\n",
              "    <tr>\n",
              "      <th>6970</th>\n",
              "      <td>6970</td>\n",
              "      <td>200501JC30726</td>\n",
              "      <td>537260.0</td>\n",
              "      <td>189640.0</td>\n",
              "      <td>-0.020037</td>\n",
              "      <td>51.588848</td>\n",
              "      <td>1</td>\n",
              "      <td>3</td>\n",
              "      <td>1</td>\n",
              "      <td>1</td>\n",
              "      <td>...</td>\n",
              "      <td>No physical crossing within 50 meters</td>\n",
              "      <td>Daylight: Street light present</td>\n",
              "      <td>Fine without high winds</td>\n",
              "      <td>Dry</td>\n",
              "      <td>None</td>\n",
              "      <td>None</td>\n",
              "      <td>1.0</td>\n",
              "      <td>Yes</td>\n",
              "      <td>E01004460</td>\n",
              "      <td>2005.0</td>\n",
              "    </tr>\n",
              "    <tr>\n",
              "      <th>6971</th>\n",
              "      <td>6971</td>\n",
              "      <td>200501JC30728</td>\n",
              "      <td>537660.0</td>\n",
              "      <td>195140.0</td>\n",
              "      <td>-0.012108</td>\n",
              "      <td>51.638174</td>\n",
              "      <td>1</td>\n",
              "      <td>3</td>\n",
              "      <td>1</td>\n",
              "      <td>1</td>\n",
              "      <td>...</td>\n",
              "      <td>No physical crossing within 50 meters</td>\n",
              "      <td>Daylight: Street light present</td>\n",
              "      <td>Fine without high winds</td>\n",
              "      <td>Dry</td>\n",
              "      <td>None</td>\n",
              "      <td>None</td>\n",
              "      <td>1.0</td>\n",
              "      <td>Yes</td>\n",
              "      <td>E01004350</td>\n",
              "      <td>2005.0</td>\n",
              "    </tr>\n",
              "    <tr>\n",
              "      <th>6972</th>\n",
              "      <td>6972</td>\n",
              "      <td>200501JC30729</td>\n",
              "      <td>538670.0</td>\n",
              "      <td>189760.0</td>\n",
              "      <td>0.000349</td>\n",
              "      <td>51.589582</td>\n",
              "      <td>1</td>\n",
              "      <td>3</td>\n",
              "      <td>2</td>\n",
              "      <td>1</td>\n",
              "      <td>...</td>\n",
              "      <td>No physical crossing within 50 meters</td>\n",
              "      <td>Daylight: Street light present</td>\n",
              "      <td>Fine without high winds</td>\n",
              "      <td>Dry</td>\n",
              "      <td>None</td>\n",
              "      <td>None</td>\n",
              "      <td>1.0</td>\n",
              "      <td>Yes</td>\n",
              "      <td>E01004471</td>\n",
              "      <td>2005.0</td>\n",
              "    </tr>\n",
              "    <tr>\n",
              "      <th>6973</th>\n",
              "      <td>6973</td>\n",
              "      <td>200501JC30730</td>\n",
              "      <td>536970.0</td>\n",
              "      <td>187560.0</td>\n",
              "      <td>-0.025031</td>\n",
              "      <td>51.570228</td>\n",
              "      <td>1</td>\n",
              "      <td>3</td>\n",
              "      <td>2</td>\n",
              "      <td>1</td>\n",
              "      <td>...</td>\n",
              "      <td>Pedestrian pha</td>\n",
              "      <td>NaN</td>\n",
              "      <td>NaN</td>\n",
              "      <td>NaN</td>\n",
              "      <td>NaN</td>\n",
              "      <td>NaN</td>\n",
              "      <td>NaN</td>\n",
              "      <td>NaN</td>\n",
              "      <td>NaN</td>\n",
              "      <td>NaN</td>\n",
              "    </tr>\n",
              "  </tbody>\n",
              "</table>\n",
              "<p>6974 rows × 33 columns</p>\n",
              "</div>\n",
              "    <div class=\"colab-df-buttons\">\n",
              "\n",
              "  <div class=\"colab-df-container\">\n",
              "    <button class=\"colab-df-convert\" onclick=\"convertToInteractive('df-0981dbce-2937-4c1c-b903-3b07b76f17fb')\"\n",
              "            title=\"Convert this dataframe to an interactive table.\"\n",
              "            style=\"display:none;\">\n",
              "\n",
              "  <svg xmlns=\"http://www.w3.org/2000/svg\" height=\"24px\" viewBox=\"0 -960 960 960\">\n",
              "    <path d=\"M120-120v-720h720v720H120Zm60-500h600v-160H180v160Zm220 220h160v-160H400v160Zm0 220h160v-160H400v160ZM180-400h160v-160H180v160Zm440 0h160v-160H620v160ZM180-180h160v-160H180v160Zm440 0h160v-160H620v160Z\"/>\n",
              "  </svg>\n",
              "    </button>\n",
              "\n",
              "  <style>\n",
              "    .colab-df-container {\n",
              "      display:flex;\n",
              "      gap: 12px;\n",
              "    }\n",
              "\n",
              "    .colab-df-convert {\n",
              "      background-color: #E8F0FE;\n",
              "      border: none;\n",
              "      border-radius: 50%;\n",
              "      cursor: pointer;\n",
              "      display: none;\n",
              "      fill: #1967D2;\n",
              "      height: 32px;\n",
              "      padding: 0 0 0 0;\n",
              "      width: 32px;\n",
              "    }\n",
              "\n",
              "    .colab-df-convert:hover {\n",
              "      background-color: #E2EBFA;\n",
              "      box-shadow: 0px 1px 2px rgba(60, 64, 67, 0.3), 0px 1px 3px 1px rgba(60, 64, 67, 0.15);\n",
              "      fill: #174EA6;\n",
              "    }\n",
              "\n",
              "    .colab-df-buttons div {\n",
              "      margin-bottom: 4px;\n",
              "    }\n",
              "\n",
              "    [theme=dark] .colab-df-convert {\n",
              "      background-color: #3B4455;\n",
              "      fill: #D2E3FC;\n",
              "    }\n",
              "\n",
              "    [theme=dark] .colab-df-convert:hover {\n",
              "      background-color: #434B5C;\n",
              "      box-shadow: 0px 1px 3px 1px rgba(0, 0, 0, 0.15);\n",
              "      filter: drop-shadow(0px 1px 2px rgba(0, 0, 0, 0.3));\n",
              "      fill: #FFFFFF;\n",
              "    }\n",
              "  </style>\n",
              "\n",
              "    <script>\n",
              "      const buttonEl =\n",
              "        document.querySelector('#df-0981dbce-2937-4c1c-b903-3b07b76f17fb button.colab-df-convert');\n",
              "      buttonEl.style.display =\n",
              "        google.colab.kernel.accessAllowed ? 'block' : 'none';\n",
              "\n",
              "      async function convertToInteractive(key) {\n",
              "        const element = document.querySelector('#df-0981dbce-2937-4c1c-b903-3b07b76f17fb');\n",
              "        const dataTable =\n",
              "          await google.colab.kernel.invokeFunction('convertToInteractive',\n",
              "                                                    [key], {});\n",
              "        if (!dataTable) return;\n",
              "\n",
              "        const docLinkHtml = 'Like what you see? Visit the ' +\n",
              "          '<a target=\"_blank\" href=https://colab.research.google.com/notebooks/data_table.ipynb>data table notebook</a>'\n",
              "          + ' to learn more about interactive tables.';\n",
              "        element.innerHTML = '';\n",
              "        dataTable['output_type'] = 'display_data';\n",
              "        await google.colab.output.renderOutput(dataTable, element);\n",
              "        const docLink = document.createElement('div');\n",
              "        docLink.innerHTML = docLinkHtml;\n",
              "        element.appendChild(docLink);\n",
              "      }\n",
              "    </script>\n",
              "  </div>\n",
              "\n",
              "\n",
              "<div id=\"df-94ca3849-3f83-4d95-8693-dbd52a2eb863\">\n",
              "  <button class=\"colab-df-quickchart\" onclick=\"quickchart('df-94ca3849-3f83-4d95-8693-dbd52a2eb863')\"\n",
              "            title=\"Suggest charts\"\n",
              "            style=\"display:none;\">\n",
              "\n",
              "<svg xmlns=\"http://www.w3.org/2000/svg\" height=\"24px\"viewBox=\"0 0 24 24\"\n",
              "     width=\"24px\">\n",
              "    <g>\n",
              "        <path d=\"M19 3H5c-1.1 0-2 .9-2 2v14c0 1.1.9 2 2 2h14c1.1 0 2-.9 2-2V5c0-1.1-.9-2-2-2zM9 17H7v-7h2v7zm4 0h-2V7h2v10zm4 0h-2v-4h2v4z\"/>\n",
              "    </g>\n",
              "</svg>\n",
              "  </button>\n",
              "\n",
              "<style>\n",
              "  .colab-df-quickchart {\n",
              "      --bg-color: #E8F0FE;\n",
              "      --fill-color: #1967D2;\n",
              "      --hover-bg-color: #E2EBFA;\n",
              "      --hover-fill-color: #174EA6;\n",
              "      --disabled-fill-color: #AAA;\n",
              "      --disabled-bg-color: #DDD;\n",
              "  }\n",
              "\n",
              "  [theme=dark] .colab-df-quickchart {\n",
              "      --bg-color: #3B4455;\n",
              "      --fill-color: #D2E3FC;\n",
              "      --hover-bg-color: #434B5C;\n",
              "      --hover-fill-color: #FFFFFF;\n",
              "      --disabled-bg-color: #3B4455;\n",
              "      --disabled-fill-color: #666;\n",
              "  }\n",
              "\n",
              "  .colab-df-quickchart {\n",
              "    background-color: var(--bg-color);\n",
              "    border: none;\n",
              "    border-radius: 50%;\n",
              "    cursor: pointer;\n",
              "    display: none;\n",
              "    fill: var(--fill-color);\n",
              "    height: 32px;\n",
              "    padding: 0;\n",
              "    width: 32px;\n",
              "  }\n",
              "\n",
              "  .colab-df-quickchart:hover {\n",
              "    background-color: var(--hover-bg-color);\n",
              "    box-shadow: 0 1px 2px rgba(60, 64, 67, 0.3), 0 1px 3px 1px rgba(60, 64, 67, 0.15);\n",
              "    fill: var(--button-hover-fill-color);\n",
              "  }\n",
              "\n",
              "  .colab-df-quickchart-complete:disabled,\n",
              "  .colab-df-quickchart-complete:disabled:hover {\n",
              "    background-color: var(--disabled-bg-color);\n",
              "    fill: var(--disabled-fill-color);\n",
              "    box-shadow: none;\n",
              "  }\n",
              "\n",
              "  .colab-df-spinner {\n",
              "    border: 2px solid var(--fill-color);\n",
              "    border-color: transparent;\n",
              "    border-bottom-color: var(--fill-color);\n",
              "    animation:\n",
              "      spin 1s steps(1) infinite;\n",
              "  }\n",
              "\n",
              "  @keyframes spin {\n",
              "    0% {\n",
              "      border-color: transparent;\n",
              "      border-bottom-color: var(--fill-color);\n",
              "      border-left-color: var(--fill-color);\n",
              "    }\n",
              "    20% {\n",
              "      border-color: transparent;\n",
              "      border-left-color: var(--fill-color);\n",
              "      border-top-color: var(--fill-color);\n",
              "    }\n",
              "    30% {\n",
              "      border-color: transparent;\n",
              "      border-left-color: var(--fill-color);\n",
              "      border-top-color: var(--fill-color);\n",
              "      border-right-color: var(--fill-color);\n",
              "    }\n",
              "    40% {\n",
              "      border-color: transparent;\n",
              "      border-right-color: var(--fill-color);\n",
              "      border-top-color: var(--fill-color);\n",
              "    }\n",
              "    60% {\n",
              "      border-color: transparent;\n",
              "      border-right-color: var(--fill-color);\n",
              "    }\n",
              "    80% {\n",
              "      border-color: transparent;\n",
              "      border-right-color: var(--fill-color);\n",
              "      border-bottom-color: var(--fill-color);\n",
              "    }\n",
              "    90% {\n",
              "      border-color: transparent;\n",
              "      border-bottom-color: var(--fill-color);\n",
              "    }\n",
              "  }\n",
              "</style>\n",
              "\n",
              "  <script>\n",
              "    async function quickchart(key) {\n",
              "      const quickchartButtonEl =\n",
              "        document.querySelector('#' + key + ' button');\n",
              "      quickchartButtonEl.disabled = true;  // To prevent multiple clicks.\n",
              "      quickchartButtonEl.classList.add('colab-df-spinner');\n",
              "      try {\n",
              "        const charts = await google.colab.kernel.invokeFunction(\n",
              "            'suggestCharts', [key], {});\n",
              "      } catch (error) {\n",
              "        console.error('Error during call to suggestCharts:', error);\n",
              "      }\n",
              "      quickchartButtonEl.classList.remove('colab-df-spinner');\n",
              "      quickchartButtonEl.classList.add('colab-df-quickchart-complete');\n",
              "    }\n",
              "    (() => {\n",
              "      let quickchartButtonEl =\n",
              "        document.querySelector('#df-94ca3849-3f83-4d95-8693-dbd52a2eb863 button');\n",
              "      quickchartButtonEl.style.display =\n",
              "        google.colab.kernel.accessAllowed ? 'block' : 'none';\n",
              "    })();\n",
              "  </script>\n",
              "</div>\n",
              "\n",
              "  <div id=\"id_5116b069-26d9-4636-af90-4dddb28b7e63\">\n",
              "    <style>\n",
              "      .colab-df-generate {\n",
              "        background-color: #E8F0FE;\n",
              "        border: none;\n",
              "        border-radius: 50%;\n",
              "        cursor: pointer;\n",
              "        display: none;\n",
              "        fill: #1967D2;\n",
              "        height: 32px;\n",
              "        padding: 0 0 0 0;\n",
              "        width: 32px;\n",
              "      }\n",
              "\n",
              "      .colab-df-generate:hover {\n",
              "        background-color: #E2EBFA;\n",
              "        box-shadow: 0px 1px 2px rgba(60, 64, 67, 0.3), 0px 1px 3px 1px rgba(60, 64, 67, 0.15);\n",
              "        fill: #174EA6;\n",
              "      }\n",
              "\n",
              "      [theme=dark] .colab-df-generate {\n",
              "        background-color: #3B4455;\n",
              "        fill: #D2E3FC;\n",
              "      }\n",
              "\n",
              "      [theme=dark] .colab-df-generate:hover {\n",
              "        background-color: #434B5C;\n",
              "        box-shadow: 0px 1px 3px 1px rgba(0, 0, 0, 0.15);\n",
              "        filter: drop-shadow(0px 1px 2px rgba(0, 0, 0, 0.3));\n",
              "        fill: #FFFFFF;\n",
              "      }\n",
              "    </style>\n",
              "    <button class=\"colab-df-generate\" onclick=\"generateWithVariable('df')\"\n",
              "            title=\"Generate code using this dataframe.\"\n",
              "            style=\"display:none;\">\n",
              "\n",
              "  <svg xmlns=\"http://www.w3.org/2000/svg\" height=\"24px\"viewBox=\"0 0 24 24\"\n",
              "       width=\"24px\">\n",
              "    <path d=\"M7,19H8.4L18.45,9,17,7.55,7,17.6ZM5,21V16.75L18.45,3.32a2,2,0,0,1,2.83,0l1.4,1.43a1.91,1.91,0,0,1,.58,1.4,1.91,1.91,0,0,1-.58,1.4L9.25,21ZM18.45,9,17,7.55Zm-12,3A5.31,5.31,0,0,0,4.9,8.1,5.31,5.31,0,0,0,1,6.5,5.31,5.31,0,0,0,4.9,4.9,5.31,5.31,0,0,0,6.5,1,5.31,5.31,0,0,0,8.1,4.9,5.31,5.31,0,0,0,12,6.5,5.46,5.46,0,0,0,6.5,12Z\"/>\n",
              "  </svg>\n",
              "    </button>\n",
              "    <script>\n",
              "      (() => {\n",
              "      const buttonEl =\n",
              "        document.querySelector('#id_5116b069-26d9-4636-af90-4dddb28b7e63 button.colab-df-generate');\n",
              "      buttonEl.style.display =\n",
              "        google.colab.kernel.accessAllowed ? 'block' : 'none';\n",
              "\n",
              "      buttonEl.onclick = () => {\n",
              "        google.colab.notebook.generateWithVariable('df');\n",
              "      }\n",
              "      })();\n",
              "    </script>\n",
              "  </div>\n",
              "\n",
              "    </div>\n",
              "  </div>\n"
            ]
          },
          "metadata": {},
          "execution_count": 4
        }
      ]
    },
    {
      "cell_type": "markdown",
      "source": [
        "##DATA PREPARATION AND CLEANING\n",
        "- look at some information about the data\n",
        "- fix any missing or incorrect values\n",
        "\n"
      ],
      "metadata": {
        "id": "o7i1Zek90fZn"
      }
    },
    {
      "cell_type": "code",
      "source": [
        "df.info()"
      ],
      "metadata": {
        "colab": {
          "base_uri": "https://localhost:8080/"
        },
        "id": "orQH7n7z2LTc",
        "outputId": "264fa575-c191-4181-c6e7-4847c4fe3352"
      },
      "execution_count": null,
      "outputs": [
        {
          "output_type": "stream",
          "name": "stdout",
          "text": [
            "<class 'pandas.core.frame.DataFrame'>\n",
            "RangeIndex: 6974 entries, 0 to 6973\n",
            "Data columns (total 33 columns):\n",
            " #   Column                                       Non-Null Count  Dtype  \n",
            "---  ------                                       --------------  -----  \n",
            " 0   Unnamed: 0                                   6974 non-null   int64  \n",
            " 1   Accident_Index                               6974 non-null   object \n",
            " 2   Location_Easting_OSGR                        6974 non-null   float64\n",
            " 3   Location_Northing_OSGR                       6974 non-null   float64\n",
            " 4   Longitude                                    6974 non-null   float64\n",
            " 5   Latitude                                     6974 non-null   float64\n",
            " 6   Police_Force                                 6974 non-null   int64  \n",
            " 7   Accident_Severity                            6974 non-null   int64  \n",
            " 8   Number_of_Vehicles                           6974 non-null   int64  \n",
            " 9   Number_of_Casualties                         6974 non-null   int64  \n",
            " 10  Date                                         6974 non-null   object \n",
            " 11  Day_of_Week                                  6974 non-null   int64  \n",
            " 12  Time                                         6974 non-null   object \n",
            " 13  Local_Authority_(District)                   6974 non-null   int64  \n",
            " 14  Local_Authority_(Highway)                    6974 non-null   object \n",
            " 15  1st_Road_Class                               6974 non-null   int64  \n",
            " 16  1st_Road_Number                              6974 non-null   int64  \n",
            " 17  Road_Type                                    6974 non-null   object \n",
            " 18  Speed_limit                                  6974 non-null   int64  \n",
            " 19  Junction_Control                             6974 non-null   object \n",
            " 20  2nd_Road_Class                               6974 non-null   int64  \n",
            " 21  2nd_Road_Number                              6974 non-null   int64  \n",
            " 22  Pedestrian_Crossing-Human_Control            6974 non-null   object \n",
            " 23  Pedestrian_Crossing-Physical_Facilities      6974 non-null   object \n",
            " 24  Light_Conditions                             6973 non-null   object \n",
            " 25  Weather_Conditions                           6973 non-null   object \n",
            " 26  Road_Surface_Conditions                      6973 non-null   object \n",
            " 27  Special_Conditions_at_Site                   6973 non-null   object \n",
            " 28  Carriageway_Hazards                          6973 non-null   object \n",
            " 29  Urban_or_Rural_Area                          6973 non-null   float64\n",
            " 30  Did_Police_Officer_Attend_Scene_of_Accident  6973 non-null   object \n",
            " 31  LSOA_of_Accident_Location                    6955 non-null   object \n",
            " 32  Year                                         6973 non-null   float64\n",
            "dtypes: float64(6), int64(12), object(15)\n",
            "memory usage: 1.8+ MB\n"
          ]
        }
      ]
    },
    {
      "cell_type": "code",
      "source": [
        "df.describe()"
      ],
      "metadata": {
        "colab": {
          "base_uri": "https://localhost:8080/",
          "height": 320
        },
        "id": "fjpdL6sn2LML",
        "outputId": "c7aca409-4469-48c8-e8ed-bfb25860fe6d"
      },
      "execution_count": null,
      "outputs": [
        {
          "output_type": "execute_result",
          "data": {
            "text/plain": [
              "        Unnamed: 0  Location_Easting_OSGR  Location_Northing_OSGR  \\\n",
              "count  6974.000000            6974.000000             6974.000000   \n",
              "mean   3486.500000          530231.670490           182458.140235   \n",
              "std    2013.364721            5079.780643             3348.554713   \n",
              "min       0.000000          503870.000000           174070.000000   \n",
              "25%    1743.250000          526910.000000           180470.000000   \n",
              "50%    3486.500000          529975.000000           181820.000000   \n",
              "75%    5229.750000          533760.000000           184637.500000   \n",
              "max    6973.000000          542470.000000           195580.000000   \n",
              "\n",
              "         Longitude     Latitude  Police_Force  Accident_Severity  \\\n",
              "count  6974.000000  6974.000000   6974.000000        6974.000000   \n",
              "mean     -0.124062    51.525950      3.089188           2.889160   \n",
              "std       0.073945     0.029387      9.687136           0.314413   \n",
              "min      -0.505928    51.455367      1.000000           1.000000   \n",
              "25%      -0.172918    51.508398      1.000000           3.000000   \n",
              "50%      -0.127916    51.520214      1.000000           3.000000   \n",
              "75%      -0.072694    51.545226      1.000000           3.000000   \n",
              "max       0.055966    51.642028     48.000000           3.000000   \n",
              "\n",
              "       Number_of_Vehicles  Number_of_Casualties  Day_of_Week  \\\n",
              "count         6974.000000           6974.000000  6974.000000   \n",
              "mean             1.718383              1.121881     4.123459   \n",
              "std              0.603649              0.419721     1.860729   \n",
              "min              1.000000              1.000000     1.000000   \n",
              "25%              1.000000              1.000000     3.000000   \n",
              "50%              2.000000              1.000000     4.000000   \n",
              "75%              2.000000              1.000000     6.000000   \n",
              "max              6.000000              8.000000     7.000000   \n",
              "\n",
              "       Local_Authority_(District)  1st_Road_Class  1st_Road_Number  \\\n",
              "count                 6974.000000     6974.000000      6974.000000   \n",
              "mean                    31.299541        3.771867       633.501577   \n",
              "std                    116.404413        1.142383      1255.699963   \n",
              "min                      1.000000        1.000000         0.000000   \n",
              "25%                      2.000000        3.000000         0.000000   \n",
              "50%                      4.000000        3.000000       104.000000   \n",
              "75%                     12.000000        5.000000       501.000000   \n",
              "max                    570.000000        6.000000      5210.000000   \n",
              "\n",
              "       Speed_limit  2nd_Road_Class  2nd_Road_Number  Urban_or_Rural_Area  \\\n",
              "count  6974.000000     6974.000000      6974.000000          6973.000000   \n",
              "mean     30.457413        3.203183       266.057929             1.001864   \n",
              "std       2.963540        2.791916       878.863256             0.043141   \n",
              "min      20.000000       -1.000000        -1.000000             1.000000   \n",
              "25%      30.000000       -1.000000         0.000000             1.000000   \n",
              "50%      30.000000        4.000000         0.000000             1.000000   \n",
              "75%      30.000000        6.000000        11.000000             1.000000   \n",
              "max      70.000000        6.000000      5210.000000             2.000000   \n",
              "\n",
              "         Year  \n",
              "count  6973.0  \n",
              "mean   2005.0  \n",
              "std       0.0  \n",
              "min    2005.0  \n",
              "25%    2005.0  \n",
              "50%    2005.0  \n",
              "75%    2005.0  \n",
              "max    2005.0  "
            ],
            "text/html": [
              "\n",
              "  <div id=\"df-f22eb2c4-2734-4fb9-8097-ac345536307e\" class=\"colab-df-container\">\n",
              "    <div>\n",
              "<style scoped>\n",
              "    .dataframe tbody tr th:only-of-type {\n",
              "        vertical-align: middle;\n",
              "    }\n",
              "\n",
              "    .dataframe tbody tr th {\n",
              "        vertical-align: top;\n",
              "    }\n",
              "\n",
              "    .dataframe thead th {\n",
              "        text-align: right;\n",
              "    }\n",
              "</style>\n",
              "<table border=\"1\" class=\"dataframe\">\n",
              "  <thead>\n",
              "    <tr style=\"text-align: right;\">\n",
              "      <th></th>\n",
              "      <th>Unnamed: 0</th>\n",
              "      <th>Location_Easting_OSGR</th>\n",
              "      <th>Location_Northing_OSGR</th>\n",
              "      <th>Longitude</th>\n",
              "      <th>Latitude</th>\n",
              "      <th>Police_Force</th>\n",
              "      <th>Accident_Severity</th>\n",
              "      <th>Number_of_Vehicles</th>\n",
              "      <th>Number_of_Casualties</th>\n",
              "      <th>Day_of_Week</th>\n",
              "      <th>Local_Authority_(District)</th>\n",
              "      <th>1st_Road_Class</th>\n",
              "      <th>1st_Road_Number</th>\n",
              "      <th>Speed_limit</th>\n",
              "      <th>2nd_Road_Class</th>\n",
              "      <th>2nd_Road_Number</th>\n",
              "      <th>Urban_or_Rural_Area</th>\n",
              "      <th>Year</th>\n",
              "    </tr>\n",
              "  </thead>\n",
              "  <tbody>\n",
              "    <tr>\n",
              "      <th>count</th>\n",
              "      <td>6974.000000</td>\n",
              "      <td>6974.000000</td>\n",
              "      <td>6974.000000</td>\n",
              "      <td>6974.000000</td>\n",
              "      <td>6974.000000</td>\n",
              "      <td>6974.000000</td>\n",
              "      <td>6974.000000</td>\n",
              "      <td>6974.000000</td>\n",
              "      <td>6974.000000</td>\n",
              "      <td>6974.000000</td>\n",
              "      <td>6974.000000</td>\n",
              "      <td>6974.000000</td>\n",
              "      <td>6974.000000</td>\n",
              "      <td>6974.000000</td>\n",
              "      <td>6974.000000</td>\n",
              "      <td>6974.000000</td>\n",
              "      <td>6973.000000</td>\n",
              "      <td>6973.0</td>\n",
              "    </tr>\n",
              "    <tr>\n",
              "      <th>mean</th>\n",
              "      <td>3486.500000</td>\n",
              "      <td>530231.670490</td>\n",
              "      <td>182458.140235</td>\n",
              "      <td>-0.124062</td>\n",
              "      <td>51.525950</td>\n",
              "      <td>3.089188</td>\n",
              "      <td>2.889160</td>\n",
              "      <td>1.718383</td>\n",
              "      <td>1.121881</td>\n",
              "      <td>4.123459</td>\n",
              "      <td>31.299541</td>\n",
              "      <td>3.771867</td>\n",
              "      <td>633.501577</td>\n",
              "      <td>30.457413</td>\n",
              "      <td>3.203183</td>\n",
              "      <td>266.057929</td>\n",
              "      <td>1.001864</td>\n",
              "      <td>2005.0</td>\n",
              "    </tr>\n",
              "    <tr>\n",
              "      <th>std</th>\n",
              "      <td>2013.364721</td>\n",
              "      <td>5079.780643</td>\n",
              "      <td>3348.554713</td>\n",
              "      <td>0.073945</td>\n",
              "      <td>0.029387</td>\n",
              "      <td>9.687136</td>\n",
              "      <td>0.314413</td>\n",
              "      <td>0.603649</td>\n",
              "      <td>0.419721</td>\n",
              "      <td>1.860729</td>\n",
              "      <td>116.404413</td>\n",
              "      <td>1.142383</td>\n",
              "      <td>1255.699963</td>\n",
              "      <td>2.963540</td>\n",
              "      <td>2.791916</td>\n",
              "      <td>878.863256</td>\n",
              "      <td>0.043141</td>\n",
              "      <td>0.0</td>\n",
              "    </tr>\n",
              "    <tr>\n",
              "      <th>min</th>\n",
              "      <td>0.000000</td>\n",
              "      <td>503870.000000</td>\n",
              "      <td>174070.000000</td>\n",
              "      <td>-0.505928</td>\n",
              "      <td>51.455367</td>\n",
              "      <td>1.000000</td>\n",
              "      <td>1.000000</td>\n",
              "      <td>1.000000</td>\n",
              "      <td>1.000000</td>\n",
              "      <td>1.000000</td>\n",
              "      <td>1.000000</td>\n",
              "      <td>1.000000</td>\n",
              "      <td>0.000000</td>\n",
              "      <td>20.000000</td>\n",
              "      <td>-1.000000</td>\n",
              "      <td>-1.000000</td>\n",
              "      <td>1.000000</td>\n",
              "      <td>2005.0</td>\n",
              "    </tr>\n",
              "    <tr>\n",
              "      <th>25%</th>\n",
              "      <td>1743.250000</td>\n",
              "      <td>526910.000000</td>\n",
              "      <td>180470.000000</td>\n",
              "      <td>-0.172918</td>\n",
              "      <td>51.508398</td>\n",
              "      <td>1.000000</td>\n",
              "      <td>3.000000</td>\n",
              "      <td>1.000000</td>\n",
              "      <td>1.000000</td>\n",
              "      <td>3.000000</td>\n",
              "      <td>2.000000</td>\n",
              "      <td>3.000000</td>\n",
              "      <td>0.000000</td>\n",
              "      <td>30.000000</td>\n",
              "      <td>-1.000000</td>\n",
              "      <td>0.000000</td>\n",
              "      <td>1.000000</td>\n",
              "      <td>2005.0</td>\n",
              "    </tr>\n",
              "    <tr>\n",
              "      <th>50%</th>\n",
              "      <td>3486.500000</td>\n",
              "      <td>529975.000000</td>\n",
              "      <td>181820.000000</td>\n",
              "      <td>-0.127916</td>\n",
              "      <td>51.520214</td>\n",
              "      <td>1.000000</td>\n",
              "      <td>3.000000</td>\n",
              "      <td>2.000000</td>\n",
              "      <td>1.000000</td>\n",
              "      <td>4.000000</td>\n",
              "      <td>4.000000</td>\n",
              "      <td>3.000000</td>\n",
              "      <td>104.000000</td>\n",
              "      <td>30.000000</td>\n",
              "      <td>4.000000</td>\n",
              "      <td>0.000000</td>\n",
              "      <td>1.000000</td>\n",
              "      <td>2005.0</td>\n",
              "    </tr>\n",
              "    <tr>\n",
              "      <th>75%</th>\n",
              "      <td>5229.750000</td>\n",
              "      <td>533760.000000</td>\n",
              "      <td>184637.500000</td>\n",
              "      <td>-0.072694</td>\n",
              "      <td>51.545226</td>\n",
              "      <td>1.000000</td>\n",
              "      <td>3.000000</td>\n",
              "      <td>2.000000</td>\n",
              "      <td>1.000000</td>\n",
              "      <td>6.000000</td>\n",
              "      <td>12.000000</td>\n",
              "      <td>5.000000</td>\n",
              "      <td>501.000000</td>\n",
              "      <td>30.000000</td>\n",
              "      <td>6.000000</td>\n",
              "      <td>11.000000</td>\n",
              "      <td>1.000000</td>\n",
              "      <td>2005.0</td>\n",
              "    </tr>\n",
              "    <tr>\n",
              "      <th>max</th>\n",
              "      <td>6973.000000</td>\n",
              "      <td>542470.000000</td>\n",
              "      <td>195580.000000</td>\n",
              "      <td>0.055966</td>\n",
              "      <td>51.642028</td>\n",
              "      <td>48.000000</td>\n",
              "      <td>3.000000</td>\n",
              "      <td>6.000000</td>\n",
              "      <td>8.000000</td>\n",
              "      <td>7.000000</td>\n",
              "      <td>570.000000</td>\n",
              "      <td>6.000000</td>\n",
              "      <td>5210.000000</td>\n",
              "      <td>70.000000</td>\n",
              "      <td>6.000000</td>\n",
              "      <td>5210.000000</td>\n",
              "      <td>2.000000</td>\n",
              "      <td>2005.0</td>\n",
              "    </tr>\n",
              "  </tbody>\n",
              "</table>\n",
              "</div>\n",
              "    <div class=\"colab-df-buttons\">\n",
              "\n",
              "  <div class=\"colab-df-container\">\n",
              "    <button class=\"colab-df-convert\" onclick=\"convertToInteractive('df-f22eb2c4-2734-4fb9-8097-ac345536307e')\"\n",
              "            title=\"Convert this dataframe to an interactive table.\"\n",
              "            style=\"display:none;\">\n",
              "\n",
              "  <svg xmlns=\"http://www.w3.org/2000/svg\" height=\"24px\" viewBox=\"0 -960 960 960\">\n",
              "    <path d=\"M120-120v-720h720v720H120Zm60-500h600v-160H180v160Zm220 220h160v-160H400v160Zm0 220h160v-160H400v160ZM180-400h160v-160H180v160Zm440 0h160v-160H620v160ZM180-180h160v-160H180v160Zm440 0h160v-160H620v160Z\"/>\n",
              "  </svg>\n",
              "    </button>\n",
              "\n",
              "  <style>\n",
              "    .colab-df-container {\n",
              "      display:flex;\n",
              "      gap: 12px;\n",
              "    }\n",
              "\n",
              "    .colab-df-convert {\n",
              "      background-color: #E8F0FE;\n",
              "      border: none;\n",
              "      border-radius: 50%;\n",
              "      cursor: pointer;\n",
              "      display: none;\n",
              "      fill: #1967D2;\n",
              "      height: 32px;\n",
              "      padding: 0 0 0 0;\n",
              "      width: 32px;\n",
              "    }\n",
              "\n",
              "    .colab-df-convert:hover {\n",
              "      background-color: #E2EBFA;\n",
              "      box-shadow: 0px 1px 2px rgba(60, 64, 67, 0.3), 0px 1px 3px 1px rgba(60, 64, 67, 0.15);\n",
              "      fill: #174EA6;\n",
              "    }\n",
              "\n",
              "    .colab-df-buttons div {\n",
              "      margin-bottom: 4px;\n",
              "    }\n",
              "\n",
              "    [theme=dark] .colab-df-convert {\n",
              "      background-color: #3B4455;\n",
              "      fill: #D2E3FC;\n",
              "    }\n",
              "\n",
              "    [theme=dark] .colab-df-convert:hover {\n",
              "      background-color: #434B5C;\n",
              "      box-shadow: 0px 1px 3px 1px rgba(0, 0, 0, 0.15);\n",
              "      filter: drop-shadow(0px 1px 2px rgba(0, 0, 0, 0.3));\n",
              "      fill: #FFFFFF;\n",
              "    }\n",
              "  </style>\n",
              "\n",
              "    <script>\n",
              "      const buttonEl =\n",
              "        document.querySelector('#df-f22eb2c4-2734-4fb9-8097-ac345536307e button.colab-df-convert');\n",
              "      buttonEl.style.display =\n",
              "        google.colab.kernel.accessAllowed ? 'block' : 'none';\n",
              "\n",
              "      async function convertToInteractive(key) {\n",
              "        const element = document.querySelector('#df-f22eb2c4-2734-4fb9-8097-ac345536307e');\n",
              "        const dataTable =\n",
              "          await google.colab.kernel.invokeFunction('convertToInteractive',\n",
              "                                                    [key], {});\n",
              "        if (!dataTable) return;\n",
              "\n",
              "        const docLinkHtml = 'Like what you see? Visit the ' +\n",
              "          '<a target=\"_blank\" href=https://colab.research.google.com/notebooks/data_table.ipynb>data table notebook</a>'\n",
              "          + ' to learn more about interactive tables.';\n",
              "        element.innerHTML = '';\n",
              "        dataTable['output_type'] = 'display_data';\n",
              "        await google.colab.output.renderOutput(dataTable, element);\n",
              "        const docLink = document.createElement('div');\n",
              "        docLink.innerHTML = docLinkHtml;\n",
              "        element.appendChild(docLink);\n",
              "      }\n",
              "    </script>\n",
              "  </div>\n",
              "\n",
              "\n",
              "<div id=\"df-2b49d903-7d23-44bc-9e8c-6670dbb87435\">\n",
              "  <button class=\"colab-df-quickchart\" onclick=\"quickchart('df-2b49d903-7d23-44bc-9e8c-6670dbb87435')\"\n",
              "            title=\"Suggest charts\"\n",
              "            style=\"display:none;\">\n",
              "\n",
              "<svg xmlns=\"http://www.w3.org/2000/svg\" height=\"24px\"viewBox=\"0 0 24 24\"\n",
              "     width=\"24px\">\n",
              "    <g>\n",
              "        <path d=\"M19 3H5c-1.1 0-2 .9-2 2v14c0 1.1.9 2 2 2h14c1.1 0 2-.9 2-2V5c0-1.1-.9-2-2-2zM9 17H7v-7h2v7zm4 0h-2V7h2v10zm4 0h-2v-4h2v4z\"/>\n",
              "    </g>\n",
              "</svg>\n",
              "  </button>\n",
              "\n",
              "<style>\n",
              "  .colab-df-quickchart {\n",
              "      --bg-color: #E8F0FE;\n",
              "      --fill-color: #1967D2;\n",
              "      --hover-bg-color: #E2EBFA;\n",
              "      --hover-fill-color: #174EA6;\n",
              "      --disabled-fill-color: #AAA;\n",
              "      --disabled-bg-color: #DDD;\n",
              "  }\n",
              "\n",
              "  [theme=dark] .colab-df-quickchart {\n",
              "      --bg-color: #3B4455;\n",
              "      --fill-color: #D2E3FC;\n",
              "      --hover-bg-color: #434B5C;\n",
              "      --hover-fill-color: #FFFFFF;\n",
              "      --disabled-bg-color: #3B4455;\n",
              "      --disabled-fill-color: #666;\n",
              "  }\n",
              "\n",
              "  .colab-df-quickchart {\n",
              "    background-color: var(--bg-color);\n",
              "    border: none;\n",
              "    border-radius: 50%;\n",
              "    cursor: pointer;\n",
              "    display: none;\n",
              "    fill: var(--fill-color);\n",
              "    height: 32px;\n",
              "    padding: 0;\n",
              "    width: 32px;\n",
              "  }\n",
              "\n",
              "  .colab-df-quickchart:hover {\n",
              "    background-color: var(--hover-bg-color);\n",
              "    box-shadow: 0 1px 2px rgba(60, 64, 67, 0.3), 0 1px 3px 1px rgba(60, 64, 67, 0.15);\n",
              "    fill: var(--button-hover-fill-color);\n",
              "  }\n",
              "\n",
              "  .colab-df-quickchart-complete:disabled,\n",
              "  .colab-df-quickchart-complete:disabled:hover {\n",
              "    background-color: var(--disabled-bg-color);\n",
              "    fill: var(--disabled-fill-color);\n",
              "    box-shadow: none;\n",
              "  }\n",
              "\n",
              "  .colab-df-spinner {\n",
              "    border: 2px solid var(--fill-color);\n",
              "    border-color: transparent;\n",
              "    border-bottom-color: var(--fill-color);\n",
              "    animation:\n",
              "      spin 1s steps(1) infinite;\n",
              "  }\n",
              "\n",
              "  @keyframes spin {\n",
              "    0% {\n",
              "      border-color: transparent;\n",
              "      border-bottom-color: var(--fill-color);\n",
              "      border-left-color: var(--fill-color);\n",
              "    }\n",
              "    20% {\n",
              "      border-color: transparent;\n",
              "      border-left-color: var(--fill-color);\n",
              "      border-top-color: var(--fill-color);\n",
              "    }\n",
              "    30% {\n",
              "      border-color: transparent;\n",
              "      border-left-color: var(--fill-color);\n",
              "      border-top-color: var(--fill-color);\n",
              "      border-right-color: var(--fill-color);\n",
              "    }\n",
              "    40% {\n",
              "      border-color: transparent;\n",
              "      border-right-color: var(--fill-color);\n",
              "      border-top-color: var(--fill-color);\n",
              "    }\n",
              "    60% {\n",
              "      border-color: transparent;\n",
              "      border-right-color: var(--fill-color);\n",
              "    }\n",
              "    80% {\n",
              "      border-color: transparent;\n",
              "      border-right-color: var(--fill-color);\n",
              "      border-bottom-color: var(--fill-color);\n",
              "    }\n",
              "    90% {\n",
              "      border-color: transparent;\n",
              "      border-bottom-color: var(--fill-color);\n",
              "    }\n",
              "  }\n",
              "</style>\n",
              "\n",
              "  <script>\n",
              "    async function quickchart(key) {\n",
              "      const quickchartButtonEl =\n",
              "        document.querySelector('#' + key + ' button');\n",
              "      quickchartButtonEl.disabled = true;  // To prevent multiple clicks.\n",
              "      quickchartButtonEl.classList.add('colab-df-spinner');\n",
              "      try {\n",
              "        const charts = await google.colab.kernel.invokeFunction(\n",
              "            'suggestCharts', [key], {});\n",
              "      } catch (error) {\n",
              "        console.error('Error during call to suggestCharts:', error);\n",
              "      }\n",
              "      quickchartButtonEl.classList.remove('colab-df-spinner');\n",
              "      quickchartButtonEl.classList.add('colab-df-quickchart-complete');\n",
              "    }\n",
              "    (() => {\n",
              "      let quickchartButtonEl =\n",
              "        document.querySelector('#df-2b49d903-7d23-44bc-9e8c-6670dbb87435 button');\n",
              "      quickchartButtonEl.style.display =\n",
              "        google.colab.kernel.accessAllowed ? 'block' : 'none';\n",
              "    })();\n",
              "  </script>\n",
              "</div>\n",
              "\n",
              "    </div>\n",
              "  </div>\n"
            ]
          },
          "metadata": {},
          "execution_count": 6
        }
      ]
    },
    {
      "cell_type": "code",
      "source": [
        "#finding no of columns containing numeric data\n",
        "numerics = ['int16', 'int32', 'int64', 'float16', 'float32', 'float64']\n",
        "numeric_df = df.select_dtypes(include=numerics)\n",
        "len(numeric_df.columns)"
      ],
      "metadata": {
        "id": "WjIbiqSI2K_I",
        "colab": {
          "base_uri": "https://localhost:8080/"
        },
        "outputId": "e3fc6fb9-7ab1-4c76-9bb8-cb2c701c2ddf"
      },
      "execution_count": null,
      "outputs": [
        {
          "output_type": "execute_result",
          "data": {
            "text/plain": [
              "18"
            ]
          },
          "metadata": {},
          "execution_count": 7
        }
      ]
    },
    {
      "cell_type": "code",
      "source": [
        "#gives us the count of missing values per column\n",
        "df.isnull().sum().sort_values(ascending=False)"
      ],
      "metadata": {
        "id": "9Ay9f_Or3NaZ",
        "colab": {
          "base_uri": "https://localhost:8080/"
        },
        "outputId": "d6af39f2-0297-4a99-805b-8efdeb118a77"
      },
      "execution_count": null,
      "outputs": [
        {
          "output_type": "execute_result",
          "data": {
            "text/plain": [
              "LSOA_of_Accident_Location                      19\n",
              "Year                                            1\n",
              "Did_Police_Officer_Attend_Scene_of_Accident     1\n",
              "Urban_or_Rural_Area                             1\n",
              "Carriageway_Hazards                             1\n",
              "Special_Conditions_at_Site                      1\n",
              "Road_Surface_Conditions                         1\n",
              "Weather_Conditions                              1\n",
              "Light_Conditions                                1\n",
              "Road_Type                                       0\n",
              "Pedestrian_Crossing-Physical_Facilities         0\n",
              "Pedestrian_Crossing-Human_Control               0\n",
              "2nd_Road_Number                                 0\n",
              "2nd_Road_Class                                  0\n",
              "Junction_Control                                0\n",
              "Speed_limit                                     0\n",
              "Unnamed: 0                                      0\n",
              "Accident_Index                                  0\n",
              "1st_Road_Class                                  0\n",
              "Local_Authority_(Highway)                       0\n",
              "Local_Authority_(District)                      0\n",
              "Time                                            0\n",
              "Day_of_Week                                     0\n",
              "Date                                            0\n",
              "Number_of_Casualties                            0\n",
              "Number_of_Vehicles                              0\n",
              "Accident_Severity                               0\n",
              "Police_Force                                    0\n",
              "Latitude                                        0\n",
              "Longitude                                       0\n",
              "Location_Northing_OSGR                          0\n",
              "Location_Easting_OSGR                           0\n",
              "1st_Road_Number                                 0\n",
              "dtype: int64"
            ]
          },
          "metadata": {},
          "execution_count": 8
        }
      ]
    },
    {
      "cell_type": "code",
      "source": [
        "#gives us the percentage of missing values per column\n",
        "missing_percentages = df.isnull().sum().sort_values(ascending=False) / len(df)\n",
        "missing_percentages"
      ],
      "metadata": {
        "id": "hoqUelpG3NW-",
        "colab": {
          "base_uri": "https://localhost:8080/"
        },
        "outputId": "5b78aab2-eb74-492d-afcd-e89a89a7b7dd"
      },
      "execution_count": null,
      "outputs": [
        {
          "output_type": "execute_result",
          "data": {
            "text/plain": [
              "LSOA_of_Accident_Location                      0.002724\n",
              "Year                                           0.000143\n",
              "Did_Police_Officer_Attend_Scene_of_Accident    0.000143\n",
              "Urban_or_Rural_Area                            0.000143\n",
              "Carriageway_Hazards                            0.000143\n",
              "Special_Conditions_at_Site                     0.000143\n",
              "Road_Surface_Conditions                        0.000143\n",
              "Weather_Conditions                             0.000143\n",
              "Light_Conditions                               0.000143\n",
              "Road_Type                                      0.000000\n",
              "Pedestrian_Crossing-Physical_Facilities        0.000000\n",
              "Pedestrian_Crossing-Human_Control              0.000000\n",
              "2nd_Road_Number                                0.000000\n",
              "2nd_Road_Class                                 0.000000\n",
              "Junction_Control                               0.000000\n",
              "Speed_limit                                    0.000000\n",
              "Unnamed: 0                                     0.000000\n",
              "Accident_Index                                 0.000000\n",
              "1st_Road_Class                                 0.000000\n",
              "Local_Authority_(Highway)                      0.000000\n",
              "Local_Authority_(District)                     0.000000\n",
              "Time                                           0.000000\n",
              "Day_of_Week                                    0.000000\n",
              "Date                                           0.000000\n",
              "Number_of_Casualties                           0.000000\n",
              "Number_of_Vehicles                             0.000000\n",
              "Accident_Severity                              0.000000\n",
              "Police_Force                                   0.000000\n",
              "Latitude                                       0.000000\n",
              "Longitude                                      0.000000\n",
              "Location_Northing_OSGR                         0.000000\n",
              "Location_Easting_OSGR                          0.000000\n",
              "1st_Road_Number                                0.000000\n",
              "dtype: float64"
            ]
          },
          "metadata": {},
          "execution_count": 9
        }
      ]
    },
    {
      "cell_type": "code",
      "source": [
        "#remove all the columns with zero values\n",
        "missing_percentages[missing_percentages != 0]"
      ],
      "metadata": {
        "colab": {
          "base_uri": "https://localhost:8080/"
        },
        "id": "4gdHhm_Q_bdx",
        "outputId": "bff53f63-7b01-47e7-fef8-590da019357a"
      },
      "execution_count": null,
      "outputs": [
        {
          "output_type": "execute_result",
          "data": {
            "text/plain": [
              "LSOA_of_Accident_Location                      0.002724\n",
              "Year                                           0.000143\n",
              "Did_Police_Officer_Attend_Scene_of_Accident    0.000143\n",
              "Urban_or_Rural_Area                            0.000143\n",
              "Carriageway_Hazards                            0.000143\n",
              "Special_Conditions_at_Site                     0.000143\n",
              "Road_Surface_Conditions                        0.000143\n",
              "Weather_Conditions                             0.000143\n",
              "Light_Conditions                               0.000143\n",
              "dtype: float64"
            ]
          },
          "metadata": {},
          "execution_count": 10
        }
      ]
    },
    {
      "cell_type": "code",
      "source": [
        "missing_percentages[missing_percentages != 0].plot(kind='barh')"
      ],
      "metadata": {
        "colab": {
          "base_uri": "https://localhost:8080/",
          "height": 447
        },
        "id": "jrxoBAIY_bga",
        "outputId": "35b0d902-148c-4177-a5ce-4802fb385bcd"
      },
      "execution_count": null,
      "outputs": [
        {
          "output_type": "execute_result",
          "data": {
            "text/plain": [
              "<Axes: >"
            ]
          },
          "metadata": {},
          "execution_count": 11
        },
        {
          "output_type": "display_data",
          "data": {
            "text/plain": [
              "<Figure size 640x480 with 1 Axes>"
            ],
            "image/png": "[encoded data removed]"
          },
          "metadata": {}
        }
      ]
    },
    {
      "cell_type": "markdown",
      "source": [
        "###Exploratory Analysis and Visualization\n",
        "Columns we'll analyze\n",
        "1. Number_of_vehicles\n",
        "2. Time\n",
        "3. Day_of_Week\n",
        "4. Speed_limit\n",
        "5. Latitude,Longitude of Accident\n"
      ],
      "metadata": {
        "id": "TMbpPhklAu6k"
      }
    },
    {
      "cell_type": "code",
      "source": [
        "df.columns"
      ],
      "metadata": {
        "colab": {
          "base_uri": "https://localhost:8080/"
        },
        "id": "EAixvcDiA5Sg",
        "outputId": "16754ace-87c5-4f84-fa7c-580dc7ab683b"
      },
      "execution_count": null,
      "outputs": [
        {
          "output_type": "execute_result",
          "data": {
            "text/plain": [
              "Index(['Unnamed: 0', 'Accident_Index', 'Location_Easting_OSGR',\n",
              "       'Location_Northing_OSGR', 'Longitude', 'Latitude', 'Police_Force',\n",
              "       'Accident_Severity', 'Number_of_Vehicles', 'Number_of_Casualties',\n",
              "       'Date', 'Day_of_Week', 'Time', 'Local_Authority_(District)',\n",
              "       'Local_Authority_(Highway)', '1st_Road_Class', '1st_Road_Number',\n",
              "       'Road_Type', 'Speed_limit', 'Junction_Control', '2nd_Road_Class',\n",
              "       '2nd_Road_Number', 'Pedestrian_Crossing-Human_Control',\n",
              "       'Pedestrian_Crossing-Physical_Facilities', 'Light_Conditions',\n",
              "       'Weather_Conditions', 'Road_Surface_Conditions',\n",
              "       'Special_Conditions_at_Site', 'Carriageway_Hazards',\n",
              "       'Urban_or_Rural_Area', 'Did_Police_Officer_Attend_Scene_of_Accident',\n",
              "       'LSOA_of_Accident_Location', 'Year'],\n",
              "      dtype='object')"
            ]
          },
          "metadata": {},
          "execution_count": 12
        }
      ]
    },
    {
      "cell_type": "markdown",
      "source": [
        "###No of vehicles"
      ],
      "metadata": {
        "id": "6G6j1qSdd5a5"
      }
    },
    {
      "cell_type": "code",
      "source": [
        "df.Number_of_Vehicles"
      ],
      "metadata": {
        "colab": {
          "base_uri": "https://localhost:8080/"
        },
        "id": "iuV4kqnJA5PH",
        "outputId": "58c57c49-d446-4bbd-9f86-3ad393cf21e4"
      },
      "execution_count": null,
      "outputs": [
        {
          "output_type": "execute_result",
          "data": {
            "text/plain": [
              "0       1\n",
              "1       1\n",
              "2       2\n",
              "3       1\n",
              "4       1\n",
              "       ..\n",
              "6969    1\n",
              "6970    1\n",
              "6971    1\n",
              "6972    2\n",
              "6973    2\n",
              "Name: Number_of_Vehicles, Length: 6974, dtype: int64"
            ]
          },
          "metadata": {},
          "execution_count": 13
        }
      ]
    },
    {
      "cell_type": "code",
      "source": [
        "#no of unique vehicles involved in the crash.\n",
        "vehicles = df.Number_of_Vehicles.unique()\n",
        "len(vehicles)"
      ],
      "metadata": {
        "colab": {
          "base_uri": "https://localhost:8080/"
        },
        "id": "ZC0xB_sBA5M9",
        "outputId": "de8b677e-e5e9-4c40-92b6-64296c627774"
      },
      "execution_count": null,
      "outputs": [
        {
          "output_type": "execute_result",
          "data": {
            "text/plain": [
              "6"
            ]
          },
          "metadata": {},
          "execution_count": 14
        }
      ]
    },
    {
      "cell_type": "code",
      "source": [
        "#info on the no of vehicles in accident and the no of accidents\n",
        "vehicles_by_accident =  df.Number_of_Vehicles.value_counts()\n",
        "vehicles_by_accident"
      ],
      "metadata": {
        "colab": {
          "base_uri": "https://localhost:8080/"
        },
        "id": "kupf-ix6GZq6",
        "outputId": "a6ebe562-4f52-42fc-e579-a56ce7b91a7d"
      },
      "execution_count": null,
      "outputs": [
        {
          "output_type": "execute_result",
          "data": {
            "text/plain": [
              "2    4148\n",
              "1    2434\n",
              "3     329\n",
              "4      50\n",
              "5      11\n",
              "6       2\n",
              "Name: Number_of_Vehicles, dtype: int64"
            ]
          },
          "metadata": {},
          "execution_count": 15
        }
      ]
    },
    {
      "cell_type": "code",
      "source": [
        "#plotting the no of vehicles involved in the no of accidents\n",
        "vehicle_graph = vehicles_by_accident.plot(kind='barh')\n",
        "vehicle_graph.set_xlabel(\"No of accidents\")\n",
        "vehicle_graph.set_ylabel(\"No of vehicles invloved\")"
      ],
      "metadata": {
        "colab": {
          "base_uri": "https://localhost:8080/",
          "height": 466
        },
        "id": "GtjYgMfYGZnc",
        "outputId": "c403996d-8b1f-40ea-d5e9-ec421e1fd0ca"
      },
      "execution_count": null,
      "outputs": [
        {
          "output_type": "execute_result",
          "data": {
            "text/plain": [
              "Text(0, 0.5, 'No of vehicles invloved')"
            ]
          },
          "metadata": {},
          "execution_count": 16
        },
        {
          "output_type": "display_data",
          "data": {
            "text/plain": [
              "<Figure size 640x480 with 1 Axes>"
            ],
            "image/png": "[encoded data removed]"
          },
          "metadata": {}
        }
      ]
    },
    {
      "cell_type": "code",
      "source": [
        "import seaborn as sns\n",
        "sns.set_style(\"darkgrid\")"
      ],
      "metadata": {
        "id": "cXrxd92oGZk8"
      },
      "execution_count": null,
      "outputs": []
    },
    {
      "cell_type": "code",
      "source": [
        "sns.distplot(vehicles_by_accident)"
      ],
      "metadata": {
        "colab": {
          "base_uri": "https://localhost:8080/",
          "height": 658
        },
        "id": "yb_BhvOrGZjL",
        "outputId": "13a8e234-db81-44ac-b72d-026f6799b9aa"
      },
      "execution_count": null,
      "outputs": [
        {
          "output_type": "stream",
          "name": "stderr",
          "text": [
            "<ipython-input-18-3f78e966d8a4>:1: UserWarning: \n",
            "\n",
            "`distplot` is a deprecated function and will be removed in seaborn v0.14.0.\n",
            "\n",
            "Please adapt your code to use either `displot` (a figure-level function with\n",
            "similar flexibility) or `histplot` (an axes-level function for histograms).\n",
            "\n",
            "For a guide to updating your code to use the new functions, please see\n",
            "https://gist.github.com/mwaskom/de44147ed2974457ad6372750bbe5751\n",
            "\n",
            "  sns.distplot(vehicles_by_accident)\n"
          ]
        },
        {
          "output_type": "execute_result",
          "data": {
            "text/plain": [
              "<Axes: xlabel='Number_of_Vehicles', ylabel='Density'>"
            ]
          },
          "metadata": {},
          "execution_count": 18
        },
        {
          "output_type": "display_data",
          "data": {
            "text/plain": [
              "<Figure size 640x480 with 1 Axes>"
            ],
            "image/png": "[encoded data removed]"
          },
          "metadata": {}
        }
      ]
    },
    {
      "cell_type": "code",
      "source": [
        "high_vehicle_accident = vehicles_by_accident[vehicles_by_accident>=1000]\n",
        "low_vehicle_accident = vehicles_by_accident[vehicles_by_accident<1000]"
      ],
      "metadata": {
        "id": "dttodv_1KrWK"
      },
      "execution_count": null,
      "outputs": []
    },
    {
      "cell_type": "code",
      "source": [
        "len(high_vehicle_accident)/len(vehicles)"
      ],
      "metadata": {
        "colab": {
          "base_uri": "https://localhost:8080/"
        },
        "id": "aPOUUPDDKrSq",
        "outputId": "3472f352-1da2-424b-c0e0-858277ea7d00"
      },
      "execution_count": null,
      "outputs": [
        {
          "output_type": "execute_result",
          "data": {
            "text/plain": [
              "0.3333333333333333"
            ]
          },
          "metadata": {},
          "execution_count": 20
        }
      ]
    },
    {
      "cell_type": "code",
      "source": [
        "sns.distplot(high_vehicle_accident)"
      ],
      "metadata": {
        "colab": {
          "base_uri": "https://localhost:8080/",
          "height": 658
        },
        "id": "wtJhW1jWQVei",
        "outputId": "266898af-5d9f-40cc-9ea3-459f13f27c68"
      },
      "execution_count": null,
      "outputs": [
        {
          "output_type": "stream",
          "name": "stderr",
          "text": [
            "<ipython-input-21-99d2d0582347>:1: UserWarning: \n",
            "\n",
            "`distplot` is a deprecated function and will be removed in seaborn v0.14.0.\n",
            "\n",
            "Please adapt your code to use either `displot` (a figure-level function with\n",
            "similar flexibility) or `histplot` (an axes-level function for histograms).\n",
            "\n",
            "For a guide to updating your code to use the new functions, please see\n",
            "https://gist.github.com/mwaskom/de44147ed2974457ad6372750bbe5751\n",
            "\n",
            "  sns.distplot(high_vehicle_accident)\n"
          ]
        },
        {
          "output_type": "execute_result",
          "data": {
            "text/plain": [
              "<Axes: xlabel='Number_of_Vehicles', ylabel='Density'>"
            ]
          },
          "metadata": {},
          "execution_count": 21
        },
        {
          "output_type": "display_data",
          "data": {
            "text/plain": [
              "<Figure size 640x480 with 1 Axes>"
            ],
            "image/png": "[encoded data removed]"
          },
          "metadata": {}
        }
      ]
    },
    {
      "cell_type": "code",
      "source": [
        "sns.distplot(low_vehicle_accident)"
      ],
      "metadata": {
        "colab": {
          "base_uri": "https://localhost:8080/",
          "height": 658
        },
        "id": "FWKAVXD8QVbL",
        "outputId": "c7e21758-5621-47b4-b66c-42685e0eadd0"
      },
      "execution_count": null,
      "outputs": [
        {
          "output_type": "stream",
          "name": "stderr",
          "text": [
            "<ipython-input-22-ff02fddcafe8>:1: UserWarning: \n",
            "\n",
            "`distplot` is a deprecated function and will be removed in seaborn v0.14.0.\n",
            "\n",
            "Please adapt your code to use either `displot` (a figure-level function with\n",
            "similar flexibility) or `histplot` (an axes-level function for histograms).\n",
            "\n",
            "For a guide to updating your code to use the new functions, please see\n",
            "https://gist.github.com/mwaskom/de44147ed2974457ad6372750bbe5751\n",
            "\n",
            "  sns.distplot(low_vehicle_accident)\n"
          ]
        },
        {
          "output_type": "execute_result",
          "data": {
            "text/plain": [
              "<Axes: xlabel='Number_of_Vehicles', ylabel='Density'>"
            ]
          },
          "metadata": {},
          "execution_count": 22
        },
        {
          "output_type": "display_data",
          "data": {
            "text/plain": [
              "<Figure size 640x480 with 1 Axes>"
            ],
            "image/png": "[encoded data removed]"
          },
          "metadata": {}
        }
      ]
    },
    {
      "cell_type": "code",
      "source": [
        "vehicles_by_accident[vehicles_by_accident == 3]"
      ],
      "metadata": {
        "colab": {
          "base_uri": "https://localhost:8080/"
        },
        "id": "3EMJLtQWQVYh",
        "outputId": "385dd696-bd79-408a-8605-2140ae0518aa"
      },
      "execution_count": null,
      "outputs": [
        {
          "output_type": "execute_result",
          "data": {
            "text/plain": [
              "Series([], Name: Number_of_Vehicles, dtype: int64)"
            ]
          },
          "metadata": {},
          "execution_count": 23
        }
      ]
    },
    {
      "cell_type": "markdown",
      "source": [
        "###Analyzing the Time of accidents"
      ],
      "metadata": {
        "id": "yxBY8_4GWTku"
      }
    },
    {
      "cell_type": "code",
      "source": [
        "time = df.Time.unique()\n",
        "len(time)"
      ],
      "metadata": {
        "colab": {
          "base_uri": "https://localhost:8080/"
        },
        "id": "mBSdVD19A5Kq",
        "outputId": "768906b7-3474-4c17-9047-10263299650d"
      },
      "execution_count": null,
      "outputs": [
        {
          "output_type": "execute_result",
          "data": {
            "text/plain": [
              "1166"
            ]
          },
          "metadata": {},
          "execution_count": 24
        }
      ]
    },
    {
      "cell_type": "code",
      "source": [
        "time_of_accident = df.Time.value_counts()\n",
        "time_of_accident"
      ],
      "metadata": {
        "id": "pWbTXgHeA5H8",
        "colab": {
          "base_uri": "https://localhost:8080/"
        },
        "outputId": "37cb4df4-22c4-4c71-eb09-0e53111a6537"
      },
      "execution_count": null,
      "outputs": [
        {
          "output_type": "execute_result",
          "data": {
            "text/plain": [
              "18:00    57\n",
              "15:30    57\n",
              "16:30    56\n",
              "13:00    55\n",
              "17:00    54\n",
              "         ..\n",
              "21:21     1\n",
              "07:17     1\n",
              "03:39     1\n",
              "22:33     1\n",
              "09:39     1\n",
              "Name: Time, Length: 1166, dtype: int64"
            ]
          },
          "metadata": {},
          "execution_count": 25
        }
      ]
    },
    {
      "cell_type": "code",
      "source": [
        "import seaborn as sns\n",
        "sns.set_style(\"darkgrid\")"
      ],
      "metadata": {
        "id": "G4l0GKPRTpO2"
      },
      "execution_count": null,
      "outputs": []
    },
    {
      "cell_type": "code",
      "source": [
        "sns.distplot(time_of_accident)"
      ],
      "metadata": {
        "colab": {
          "base_uri": "https://localhost:8080/",
          "height": 657
        },
        "id": "VoV1fngqTpLe",
        "outputId": "40d215f3-f367-4e87-8908-7c37dd9f49f1"
      },
      "execution_count": null,
      "outputs": [
        {
          "output_type": "stream",
          "name": "stderr",
          "text": [
            "<ipython-input-27-aa78045c74b9>:1: UserWarning: \n",
            "\n",
            "`distplot` is a deprecated function and will be removed in seaborn v0.14.0.\n",
            "\n",
            "Please adapt your code to use either `displot` (a figure-level function with\n",
            "similar flexibility) or `histplot` (an axes-level function for histograms).\n",
            "\n",
            "For a guide to updating your code to use the new functions, please see\n",
            "https://gist.github.com/mwaskom/de44147ed2974457ad6372750bbe5751\n",
            "\n",
            "  sns.distplot(time_of_accident)\n"
          ]
        },
        {
          "output_type": "execute_result",
          "data": {
            "text/plain": [
              "<Axes: xlabel='Time', ylabel='Density'>"
            ]
          },
          "metadata": {},
          "execution_count": 27
        },
        {
          "output_type": "display_data",
          "data": {
            "text/plain": [
              "<Figure size 640x480 with 1 Axes>"
            ],
            "image/png": "[encoded data removed]"
          },
          "metadata": {}
        }
      ]
    },
    {
      "cell_type": "code",
      "source": [
        "sns.histplot(time_of_accident, log_scale=True)"
      ],
      "metadata": {
        "colab": {
          "base_uri": "https://localhost:8080/",
          "height": 471
        },
        "id": "PLfKsOl6TpJL",
        "outputId": "dde21d67-98ad-420f-d639-d8f22ba45162"
      },
      "execution_count": null,
      "outputs": [
        {
          "output_type": "execute_result",
          "data": {
            "text/plain": [
              "<Axes: xlabel='Time', ylabel='Count'>"
            ]
          },
          "metadata": {},
          "execution_count": 28
        },
        {
          "output_type": "display_data",
          "data": {
            "text/plain": [
              "<Figure size 640x480 with 1 Axes>"
            ],
            "image/png": "[encoded data removed]"
          },
          "metadata": {}
        }
      ]
    },
    {
      "cell_type": "code",
      "source": [
        "time_of_accident[time_of_accident==1]"
      ],
      "metadata": {
        "colab": {
          "base_uri": "https://localhost:8080/"
        },
        "id": "6gmaKLTcTpGs",
        "outputId": "dc0ed48b-325a-4628-8405-4ff87dc80ca0"
      },
      "execution_count": null,
      "outputs": [
        {
          "output_type": "execute_result",
          "data": {
            "text/plain": [
              "12:37    1\n",
              "16:33    1\n",
              "20:33    1\n",
              "20:08    1\n",
              "13:59    1\n",
              "        ..\n",
              "21:21    1\n",
              "07:17    1\n",
              "03:39    1\n",
              "22:33    1\n",
              "09:39    1\n",
              "Name: Time, Length: 263, dtype: int64"
            ]
          },
          "metadata": {},
          "execution_count": 29
        }
      ]
    },
    {
      "cell_type": "code",
      "source": [
        "high_time_of_accident = time_of_accident[time_of_accident>=50]\n",
        "low_time_of_accident = time_of_accident[time_of_accident<50]"
      ],
      "metadata": {
        "id": "X6zAiDXmTpE4"
      },
      "execution_count": null,
      "outputs": []
    },
    {
      "cell_type": "code",
      "source": [
        "len(high_time_of_accident)/len(time)"
      ],
      "metadata": {
        "colab": {
          "base_uri": "https://localhost:8080/"
        },
        "id": "krNMtTM5TpBj",
        "outputId": "d37cde82-a877-45e1-ce36-fe6cbf0ec582"
      },
      "execution_count": null,
      "outputs": [
        {
          "output_type": "execute_result",
          "data": {
            "text/plain": [
              "0.005145797598627788"
            ]
          },
          "metadata": {},
          "execution_count": 31
        }
      ]
    },
    {
      "cell_type": "code",
      "source": [
        "sns.histplot(high_time_of_accident, log_scale=True)"
      ],
      "metadata": {
        "colab": {
          "base_uri": "https://localhost:8080/",
          "height": 469
        },
        "id": "qNCAdX4gWPzE",
        "outputId": "31943588-cb0e-4d44-fc0d-9185a81f1fab"
      },
      "execution_count": null,
      "outputs": [
        {
          "output_type": "execute_result",
          "data": {
            "text/plain": [
              "<Axes: xlabel='Time', ylabel='Count'>"
            ]
          },
          "metadata": {},
          "execution_count": 32
        },
        {
          "output_type": "display_data",
          "data": {
            "text/plain": [
              "<Figure size 640x480 with 1 Axes>"
            ],
            "image/png": "[encoded data removed]"
          },
          "metadata": {}
        }
      ]
    },
    {
      "cell_type": "code",
      "source": [
        "df.Time =  pd.to_datetime(df.Time)"
      ],
      "metadata": {
        "id": "c6ei0KFwglSy"
      },
      "execution_count": null,
      "outputs": []
    },
    {
      "cell_type": "code",
      "source": [
        "df.Time[0]"
      ],
      "metadata": {
        "colab": {
          "base_uri": "https://localhost:8080/"
        },
        "id": "yiOvvRlwglPO",
        "outputId": "e5f0f6df-5f89-4928-d9ed-d96b3b197c51"
      },
      "execution_count": null,
      "outputs": [
        {
          "output_type": "execute_result",
          "data": {
            "text/plain": [
              "Timestamp('2024-01-16 17:42:00')"
            ]
          },
          "metadata": {},
          "execution_count": 34
        }
      ]
    },
    {
      "cell_type": "code",
      "source": [
        "df.Time.dt.hour"
      ],
      "metadata": {
        "colab": {
          "base_uri": "https://localhost:8080/"
        },
        "id": "3COcamYgglNK",
        "outputId": "3e0298ad-90dd-4772-ccdf-167b34ca07a5"
      },
      "execution_count": null,
      "outputs": [
        {
          "output_type": "execute_result",
          "data": {
            "text/plain": [
              "0       17\n",
              "1       17\n",
              "2        0\n",
              "3       10\n",
              "4       21\n",
              "        ..\n",
              "6969    12\n",
              "6970    13\n",
              "6971    17\n",
              "6972    17\n",
              "6973    13\n",
              "Name: Time, Length: 6974, dtype: int64"
            ]
          },
          "metadata": {},
          "execution_count": 35
        }
      ]
    },
    {
      "cell_type": "code",
      "source": [
        "sns.histplot(df.Time.dt.hour, bins=24)"
      ],
      "metadata": {
        "colab": {
          "base_uri": "https://localhost:8080/",
          "height": 466
        },
        "id": "6FZJkARQhWvC",
        "outputId": "10f69199-53c6-4a37-ed60-f9a8a281e095"
      },
      "execution_count": null,
      "outputs": [
        {
          "output_type": "execute_result",
          "data": {
            "text/plain": [
              "<Axes: xlabel='Time', ylabel='Count'>"
            ]
          },
          "metadata": {},
          "execution_count": 36
        },
        {
          "output_type": "display_data",
          "data": {
            "text/plain": [
              "<Figure size 640x480 with 1 Axes>"
            ],
            "image/png": "[encoded data removed]"
          },
          "metadata": {}
        }
      ]
    },
    {
      "cell_type": "markdown",
      "source": [
        "Most accidents occur in the evening between 3pm and 6pm and in the morning from 8am to 10am. These are the rush hours."
      ],
      "metadata": {
        "id": "HT4nepcwi0Z0"
      }
    },
    {
      "cell_type": "code",
      "source": [
        "hour_of_accident = df.Time.dt.hour.value_counts()\n",
        "hour_of_accident"
      ],
      "metadata": {
        "colab": {
          "base_uri": "https://localhost:8080/"
        },
        "id": "O90UQAVGhWrs",
        "outputId": "efad4fe0-af0f-4f92-e4e3-f0d58fda4df0"
      },
      "execution_count": null,
      "outputs": [
        {
          "output_type": "execute_result",
          "data": {
            "text/plain": [
              "17    569\n",
              "18    501\n",
              "15    493\n",
              "16    483\n",
              "8     459\n",
              "13    445\n",
              "9     431\n",
              "19    409\n",
              "12    408\n",
              "14    389\n",
              "11    330\n",
              "10    309\n",
              "20    286\n",
              "21    246\n",
              "7     221\n",
              "23    215\n",
              "22    210\n",
              "0     129\n",
              "1     111\n",
              "6      97\n",
              "2      72\n",
              "3      69\n",
              "5      55\n",
              "4      37\n",
              "Name: Time, dtype: int64"
            ]
          },
          "metadata": {},
          "execution_count": 37
        }
      ]
    },
    {
      "cell_type": "markdown",
      "source": [
        "###Day_of_Week of Accidents"
      ],
      "metadata": {
        "id": "VK7jJYr3fNps"
      }
    },
    {
      "cell_type": "code",
      "source": [
        "df.Day_of_Week"
      ],
      "metadata": {
        "colab": {
          "base_uri": "https://localhost:8080/"
        },
        "id": "ZeWQtSsHWPvs",
        "outputId": "c4963a22-843b-4c11-db5b-1c12c26d46d1"
      },
      "execution_count": null,
      "outputs": [
        {
          "output_type": "execute_result",
          "data": {
            "text/plain": [
              "0       3\n",
              "1       4\n",
              "2       5\n",
              "3       6\n",
              "4       2\n",
              "       ..\n",
              "6969    4\n",
              "6970    7\n",
              "6971    4\n",
              "6972    6\n",
              "6973    3\n",
              "Name: Day_of_Week, Length: 6974, dtype: int64"
            ]
          },
          "metadata": {},
          "execution_count": 38
        }
      ]
    },
    {
      "cell_type": "code",
      "source": [
        "day_of_week = df.Day_of_Week.value_counts()\n",
        "day_of_week"
      ],
      "metadata": {
        "colab": {
          "base_uri": "https://localhost:8080/"
        },
        "id": "uolu8R8HWPtt",
        "outputId": "50f2f767-19c4-42d2-da33-05e446568821"
      },
      "execution_count": null,
      "outputs": [
        {
          "output_type": "execute_result",
          "data": {
            "text/plain": [
              "4    1176\n",
              "5    1109\n",
              "6    1101\n",
              "3    1077\n",
              "2     988\n",
              "7     862\n",
              "1     661\n",
              "Name: Day_of_Week, dtype: int64"
            ]
          },
          "metadata": {},
          "execution_count": 39
        }
      ]
    },
    {
      "cell_type": "code",
      "source": [
        "sns.histplot(df.Day_of_Week)"
      ],
      "metadata": {
        "colab": {
          "base_uri": "https://localhost:8080/",
          "height": 467
        },
        "id": "RZIGbFIYxSI5",
        "outputId": "91e7cc10-2cb2-4260-96a0-9b50e85c1c97"
      },
      "execution_count": null,
      "outputs": [
        {
          "output_type": "execute_result",
          "data": {
            "text/plain": [
              "<Axes: xlabel='Day_of_Week', ylabel='Count'>"
            ]
          },
          "metadata": {},
          "execution_count": 40
        },
        {
          "output_type": "display_data",
          "data": {
            "text/plain": [
              "<Figure size 640x480 with 1 Axes>"
            ],
            "image/png": "[encoded data removed]"
          },
          "metadata": {}
        }
      ]
    },
    {
      "cell_type": "markdown",
      "source": [
        "###Speed limit"
      ],
      "metadata": {
        "id": "CILoiNqJwpI1"
      }
    },
    {
      "cell_type": "code",
      "source": [
        "df.columns"
      ],
      "metadata": {
        "colab": {
          "base_uri": "https://localhost:8080/"
        },
        "id": "pOV3FvabWPrj",
        "outputId": "c25c6353-9286-4b1e-8a25-336c457ca82f"
      },
      "execution_count": null,
      "outputs": [
        {
          "output_type": "execute_result",
          "data": {
            "text/plain": [
              "Index(['Unnamed: 0', 'Accident_Index', 'Location_Easting_OSGR',\n",
              "       'Location_Northing_OSGR', 'Longitude', 'Latitude', 'Police_Force',\n",
              "       'Accident_Severity', 'Number_of_Vehicles', 'Number_of_Casualties',\n",
              "       'Date', 'Day_of_Week', 'Time', 'Local_Authority_(District)',\n",
              "       'Local_Authority_(Highway)', '1st_Road_Class', '1st_Road_Number',\n",
              "       'Road_Type', 'Speed_limit', 'Junction_Control', '2nd_Road_Class',\n",
              "       '2nd_Road_Number', 'Pedestrian_Crossing-Human_Control',\n",
              "       'Pedestrian_Crossing-Physical_Facilities', 'Light_Conditions',\n",
              "       'Weather_Conditions', 'Road_Surface_Conditions',\n",
              "       'Special_Conditions_at_Site', 'Carriageway_Hazards',\n",
              "       'Urban_or_Rural_Area', 'Did_Police_Officer_Attend_Scene_of_Accident',\n",
              "       'LSOA_of_Accident_Location', 'Year'],\n",
              "      dtype='object')"
            ]
          },
          "metadata": {},
          "execution_count": 41
        }
      ]
    },
    {
      "cell_type": "code",
      "source": [
        "df.Speed_limit"
      ],
      "metadata": {
        "id": "Cprs-nFUWPpH",
        "colab": {
          "base_uri": "https://localhost:8080/"
        },
        "outputId": "7a972461-b3fa-4ad6-b754-93fb82a2371e"
      },
      "execution_count": null,
      "outputs": [
        {
          "output_type": "execute_result",
          "data": {
            "text/plain": [
              "0       30\n",
              "1       30\n",
              "2       30\n",
              "3       30\n",
              "4       30\n",
              "        ..\n",
              "6969    30\n",
              "6970    30\n",
              "6971    30\n",
              "6972    30\n",
              "6973    30\n",
              "Name: Speed_limit, Length: 6974, dtype: int64"
            ]
          },
          "metadata": {},
          "execution_count": 42
        }
      ]
    },
    {
      "cell_type": "code",
      "source": [
        "accident_speedlimit = df.Speed_limit.value_counts()\n",
        "accident_speedlimit"
      ],
      "metadata": {
        "id": "DwnOO4siWPmv",
        "colab": {
          "base_uri": "https://localhost:8080/"
        },
        "outputId": "bdc3dcfe-1600-41ed-aa83-1c78e785441b"
      },
      "execution_count": null,
      "outputs": [
        {
          "output_type": "execute_result",
          "data": {
            "text/plain": [
              "30    6729\n",
              "40     120\n",
              "50      97\n",
              "20      21\n",
              "70       5\n",
              "60       2\n",
              "Name: Speed_limit, dtype: int64"
            ]
          },
          "metadata": {},
          "execution_count": 43
        }
      ]
    },
    {
      "cell_type": "code",
      "source": [
        "sns.histplot(df.Speed_limit)"
      ],
      "metadata": {
        "colab": {
          "base_uri": "https://localhost:8080/",
          "height": 469
        },
        "id": "BaU60LWLwuuD",
        "outputId": "413ca712-49c7-46ac-83a2-be4b55844536"
      },
      "execution_count": null,
      "outputs": [
        {
          "output_type": "execute_result",
          "data": {
            "text/plain": [
              "<Axes: xlabel='Speed_limit', ylabel='Count'>"
            ]
          },
          "metadata": {},
          "execution_count": 44
        },
        {
          "output_type": "display_data",
          "data": {
            "text/plain": [
              "<Figure size 640x480 with 1 Axes>"
            ],
            "image/png": "[encoded data removed]"
          },
          "metadata": {}
        }
      ]
    },
    {
      "cell_type": "markdown",
      "source": [
        "###Did_policeofficer_attendthesceneofcrime"
      ],
      "metadata": {
        "id": "Anj0deEt2Mml"
      }
    },
    {
      "cell_type": "code",
      "source": [
        "df.columns"
      ],
      "metadata": {
        "colab": {
          "base_uri": "https://localhost:8080/"
        },
        "id": "XpHg5yBZzceV",
        "outputId": "38a1db9b-4b85-4993-a710-427ddc4aee9f"
      },
      "execution_count": null,
      "outputs": [
        {
          "output_type": "execute_result",
          "data": {
            "text/plain": [
              "Index(['Unnamed: 0', 'Accident_Index', 'Location_Easting_OSGR',\n",
              "       'Location_Northing_OSGR', 'Longitude', 'Latitude', 'Police_Force',\n",
              "       'Accident_Severity', 'Number_of_Vehicles', 'Number_of_Casualties',\n",
              "       'Date', 'Day_of_Week', 'Time', 'Local_Authority_(District)',\n",
              "       'Local_Authority_(Highway)', '1st_Road_Class', '1st_Road_Number',\n",
              "       'Road_Type', 'Speed_limit', 'Junction_Control', '2nd_Road_Class',\n",
              "       '2nd_Road_Number', 'Pedestrian_Crossing-Human_Control',\n",
              "       'Pedestrian_Crossing-Physical_Facilities', 'Light_Conditions',\n",
              "       'Weather_Conditions', 'Road_Surface_Conditions',\n",
              "       'Special_Conditions_at_Site', 'Carriageway_Hazards',\n",
              "       'Urban_or_Rural_Area', 'Did_Police_Officer_Attend_Scene_of_Accident',\n",
              "       'LSOA_of_Accident_Location', 'Year'],\n",
              "      dtype='object')"
            ]
          },
          "metadata": {},
          "execution_count": 45
        }
      ]
    },
    {
      "cell_type": "code",
      "source": [
        "df.Did_Police_Officer_Attend_Scene_of_Accident"
      ],
      "metadata": {
        "colab": {
          "base_uri": "https://localhost:8080/"
        },
        "id": "l0WBpsQFzcQa",
        "outputId": "8deb8e15-4b47-47af-ee00-21452e76b575"
      },
      "execution_count": null,
      "outputs": [
        {
          "output_type": "execute_result",
          "data": {
            "text/plain": [
              "0       Yes\n",
              "1       Yes\n",
              "2       Yes\n",
              "3       Yes\n",
              "4       Yes\n",
              "       ... \n",
              "6969    Yes\n",
              "6970    Yes\n",
              "6971    Yes\n",
              "6972    Yes\n",
              "6973    NaN\n",
              "Name: Did_Police_Officer_Attend_Scene_of_Accident, Length: 6974, dtype: object"
            ]
          },
          "metadata": {},
          "execution_count": 46
        }
      ]
    },
    {
      "cell_type": "code",
      "source": [
        "attending_scene = df.Did_Police_Officer_Attend_Scene_of_Accident.value_counts().plot(kind='pie')"
      ],
      "metadata": {
        "colab": {
          "base_uri": "https://localhost:8080/",
          "height": 406
        },
        "id": "ZBsiKq7Czb6K",
        "outputId": "35ff9d85-307c-4b96-81c6-d939574241f9"
      },
      "execution_count": null,
      "outputs": [
        {
          "output_type": "display_data",
          "data": {
            "text/plain": [
              "<Figure size 640x480 with 1 Axes>"
            ],
            "image/png": "[encoded data removed]"
          },
          "metadata": {}
        }
      ]
    },
    {
      "cell_type": "code",
      "source": [
        "attending_scene = df.Did_Police_Officer_Attend_Scene_of_Accident.value_counts()\n",
        "attending_scene"
      ],
      "metadata": {
        "colab": {
          "base_uri": "https://localhost:8080/"
        },
        "id": "2FS01gad0O3h",
        "outputId": "d84ddef8-9fab-4809-c154-7d34504b318f"
      },
      "execution_count": null,
      "outputs": [
        {
          "output_type": "execute_result",
          "data": {
            "text/plain": [
              "Yes    5801\n",
              "No     1172\n",
              "Name: Did_Police_Officer_Attend_Scene_of_Accident, dtype: int64"
            ]
          },
          "metadata": {},
          "execution_count": 48
        }
      ]
    },
    {
      "cell_type": "markdown",
      "source": [
        "Over 8550 accidents are attended by the police."
      ],
      "metadata": {
        "id": "jpiXhH5oz60J"
      }
    },
    {
      "cell_type": "markdown",
      "source": [
        "###Latitude and Longtiude of Accidents."
      ],
      "metadata": {
        "id": "y2JJIbu74Yye"
      }
    },
    {
      "cell_type": "code",
      "source": [
        "df.Longitude"
      ],
      "metadata": {
        "colab": {
          "base_uri": "https://localhost:8080/"
        },
        "id": "lpWPT8qKz35D",
        "outputId": "e34ee0f2-16d3-4df4-e6f8-161637c4c02b"
      },
      "execution_count": null,
      "outputs": [
        {
          "output_type": "execute_result",
          "data": {
            "text/plain": [
              "0      -0.191170\n",
              "1      -0.211708\n",
              "2      -0.206458\n",
              "3      -0.173862\n",
              "4      -0.156618\n",
              "          ...   \n",
              "6969   -0.030451\n",
              "6970   -0.020037\n",
              "6971   -0.012108\n",
              "6972    0.000349\n",
              "6973   -0.025031\n",
              "Name: Longitude, Length: 6974, dtype: float64"
            ]
          },
          "metadata": {},
          "execution_count": 49
        }
      ]
    },
    {
      "cell_type": "code",
      "source": [
        "df.Latitude"
      ],
      "metadata": {
        "colab": {
          "base_uri": "https://localhost:8080/"
        },
        "id": "yv1_esIU3eQV",
        "outputId": "dfd607e8-be0b-4875-c29e-ea9fde3120c3"
      },
      "execution_count": null,
      "outputs": [
        {
          "output_type": "execute_result",
          "data": {
            "text/plain": [
              "0       51.489096\n",
              "1       51.520075\n",
              "2       51.525301\n",
              "3       51.482442\n",
              "4       51.495752\n",
              "          ...    \n",
              "6969    51.588394\n",
              "6970    51.588848\n",
              "6971    51.638174\n",
              "6972    51.589582\n",
              "6973    51.570228\n",
              "Name: Latitude, Length: 6974, dtype: float64"
            ]
          },
          "metadata": {},
          "execution_count": 50
        }
      ]
    },
    {
      "cell_type": "code",
      "source": [
        "sns.scatterplot(x=df.Longitude, y=df.Latitude)"
      ],
      "metadata": {
        "colab": {
          "base_uri": "https://localhost:8080/",
          "height": 469
        },
        "id": "ZZOOoQUT3eM3",
        "outputId": "c5adaf1f-3d40-4485-b8a2-43906f29f150"
      },
      "execution_count": null,
      "outputs": [
        {
          "output_type": "execute_result",
          "data": {
            "text/plain": [
              "<Axes: xlabel='Longitude', ylabel='Latitude'>"
            ]
          },
          "metadata": {},
          "execution_count": 51
        },
        {
          "output_type": "display_data",
          "data": {
            "text/plain": [
              "<Figure size 640x480 with 1 Axes>"
            ],
            "image/png": "[encoded data removed]"
          },
          "metadata": {}
        }
      ]
    },
    {
      "cell_type": "code",
      "source": [
        "import folium"
      ],
      "metadata": {
        "id": "HeYnuN5D3eKn"
      },
      "execution_count": null,
      "outputs": []
    },
    {
      "cell_type": "code",
      "source": [
        "lat, lng = df.Latitude[0], df.Longitude[0]\n",
        "lat, lng"
      ],
      "metadata": {
        "colab": {
          "base_uri": "https://localhost:8080/"
        },
        "id": "meqWAkx66e-8",
        "outputId": "9c78cb38-3b2f-4e05-960e-7dd585c7dd15"
      },
      "execution_count": null,
      "outputs": [
        {
          "output_type": "execute_result",
          "data": {
            "text/plain": [
              "(51.489096, -0.19117)"
            ]
          },
          "metadata": {},
          "execution_count": 53
        }
      ]
    },
    {
      "cell_type": "code",
      "source": [
        "for x in df[['Latitude', 'Longitude']].sample(100).iteritems():\n",
        "  print(x)"
      ],
      "metadata": {
        "colab": {
          "base_uri": "https://localhost:8080/"
        },
        "id": "z0NUP5O88Ge6",
        "outputId": "b3bdc7c1-e052-4ce2-a124-b15fd3354229"
      },
      "execution_count": null,
      "outputs": [
        {
          "output_type": "stream",
          "name": "stdout",
          "text": [
            "('Latitude', 1610    51.511788\n",
            "532     51.493560\n",
            "1935    51.493695\n",
            "6330    51.471148\n",
            "4147    51.492668\n",
            "          ...    \n",
            "2897    51.516209\n",
            "222     51.509333\n",
            "5052    51.547784\n",
            "576     51.489740\n",
            "3913    51.569605\n",
            "Name: Latitude, Length: 100, dtype: float64)\n",
            "('Longitude', 1610   -0.152800\n",
            "532    -0.171689\n",
            "1935   -0.140278\n",
            "6330   -0.458113\n",
            "4147   -0.224882\n",
            "          ...   \n",
            "2897   -0.119759\n",
            "222    -0.197286\n",
            "5052   -0.027302\n",
            "576    -0.163199\n",
            "3913   -0.124050\n",
            "Name: Longitude, Length: 100, dtype: float64)\n"
          ]
        },
        {
          "output_type": "stream",
          "name": "stderr",
          "text": [
            "<ipython-input-54-b105c8fe0a70>:1: FutureWarning: iteritems is deprecated and will be removed in a future version. Use .items instead.\n",
            "  for x in df[['Latitude', 'Longitude']].sample(100).iteritems():\n"
          ]
        }
      ]
    },
    {
      "cell_type": "code",
      "source": [
        "list(zip(list(df.Latitude), list(df.Longitude)))"
      ],
      "metadata": {
        "colab": {
          "base_uri": "https://localhost:8080/"
        },
        "id": "DHdV6xxH9vYr",
        "outputId": "8e733243-63cd-48dd-8e23-e69932935f43"
      },
      "execution_count": null,
      "outputs": [
        {
          "output_type": "execute_result",
          "data": {
            "text/plain": [
              "[(51.489096, -0.19117),\n",
              " (51.520075, -0.211708),\n",
              " (51.525301, -0.206458),\n",
              " (51.482442, -0.173862),\n",
              " (51.495752, -0.156618),\n",
              " (51.51554, -0.203238),\n",
              " (51.512695, -0.211277),\n",
              " (51.50226, -0.187623),\n",
              " (51.48342, -0.167342),\n",
              " (51.512443, -0.206531),\n",
              " (51.494902, -0.182872),\n",
              " (51.484044, -0.184312),\n",
              " (51.491632, -0.192366),\n",
              " (51.492622, -0.157753),\n",
              " (51.495429, -0.176224),\n",
              " (51.481912, -0.18022),\n",
              " (51.500191, -0.205139),\n",
              " (51.495811, -0.171887),\n",
              " (51.486552, -0.16059),\n",
              " (51.495498, -0.174925),\n",
              " (51.492992, -0.18727),\n",
              " (51.513039, -0.204346),\n",
              " (51.482076, -0.173445),\n",
              " (51.49296, -0.167824),\n",
              " (51.498062, -0.166322),\n",
              " (51.508265, -0.215629),\n",
              " (51.513988, -0.207623),\n",
              " (51.488671, -0.192771),\n",
              " (51.494902, -0.182872),\n",
              " (51.496893, -0.160606),\n",
              " (51.517796, -0.215545),\n",
              " (51.521988, -0.201543),\n",
              " (51.497103, -0.168234),\n",
              " (51.519986, -0.211712),\n",
              " (51.523585, -0.217769),\n",
              " (51.514951, -0.217674),\n",
              " (51.478096, -0.189301),\n",
              " (51.481804, -0.173312),\n",
              " (51.492652, -0.200249),\n",
              " (51.500648, -0.193882),\n",
              " (51.509377, -0.194258),\n",
              " (51.483999, -0.16415),\n",
              " (51.509154, -0.197293),\n",
              " (51.488776, -0.176346),\n",
              " (51.502177, -0.188058),\n",
              " (51.4849, -0.181542),\n",
              " (51.495806, -0.171599),\n",
              " (51.485005, -0.182546),\n",
              " (51.485515, -0.186415),\n",
              " (51.492515, -0.16813),\n",
              " (51.509515, -0.197423),\n",
              " (51.493527, -0.158149),\n",
              " (51.521709, -0.212653),\n",
              " (51.481575, -0.181674),\n",
              " (51.516656, -0.205645),\n",
              " (51.501941, -0.190229),\n",
              " (51.497911, -0.179727),\n",
              " (51.518806, -0.211037),\n",
              " (51.49724, -0.194449),\n",
              " (51.506807, -0.208481),\n",
              " (51.481822, -0.174463),\n",
              " (51.49164, -0.198704),\n",
              " (51.494121, -0.202208),\n",
              " (51.501596, -0.16229),\n",
              " (51.494146, -0.168929),\n",
              " (51.491273, -0.186618),\n",
              " (51.481575, -0.181674),\n",
              " (51.487215, -0.174248),\n",
              " (51.508707, -0.203363),\n",
              " (51.495084, -0.183009),\n",
              " (51.482582, -0.171264),\n",
              " (51.486931, -0.179156),\n",
              " (51.509125, -0.195421),\n",
              " (51.493285, -0.194606),\n",
              " (51.499569, -0.211503),\n",
              " (51.49369, -0.174277),\n",
              " (51.490178, -0.162461),\n",
              " (51.494981, -0.182149),\n",
              " (51.514966, -0.19519),\n",
              " (51.493429, -0.169101),\n",
              " (51.50134, -0.180455),\n",
              " (51.4829, -0.185942),\n",
              " (51.481989, -0.173592),\n",
              " (51.481746, -0.17533),\n",
              " (51.486493, -0.179894),\n",
              " (51.497552, -0.203081),\n",
              " (51.496259, -0.206734),\n",
              " (51.496399, -0.16927),\n",
              " (51.49089, -0.173525),\n",
              " (51.516658, -0.205789),\n",
              " (51.515582, -0.205975),\n",
              " (51.510995, -0.200102),\n",
              " (51.49361, -0.198194),\n",
              " (51.482775, -0.177882),\n",
              " (51.509377, -0.194258),\n",
              " (51.514716, -0.208171),\n",
              " (51.502577, -0.214123),\n",
              " (51.483253, -0.185496),\n",
              " (51.507588, -0.194905),\n",
              " (51.487281, -0.195995),\n",
              " (51.517263, -0.210089),\n",
              " (51.516353, -0.209404),\n",
              " (51.524085, -0.215155),\n",
              " (51.486931, -0.179156),\n",
              " (51.482637, -0.186385),\n",
              " (51.497125, -0.204539),\n",
              " (51.505347, -0.213006),\n",
              " (51.497801, -0.166909),\n",
              " (51.50858, -0.200918),\n",
              " (51.514242, -0.200695),\n",
              " (51.480962, -0.176946),\n",
              " (51.481483, -0.181534),\n",
              " (51.51499, -0.208448),\n",
              " (51.500008, -0.210765),\n",
              " (51.501516, -0.191831),\n",
              " (51.49305, -0.16782),\n",
              " (51.489216, -0.164228),\n",
              " (51.492092, -0.193068),\n",
              " (51.491571, -0.159524),\n",
              " (51.500346, -0.18597),\n",
              " (51.491661, -0.15952),\n",
              " (51.525689, -0.208317),\n",
              " (51.516658, -0.205789),\n",
              " (51.500497, -0.195761),\n",
              " (51.51944, -0.211301),\n",
              " (51.517657, -0.224199),\n",
              " (51.495206, -0.185021),\n",
              " (51.495649, -0.173046),\n",
              " (51.49859, -0.165581),\n",
              " (51.494377, -0.195427),\n",
              " (51.491521, -0.179406),\n",
              " (51.496985, -0.160747),\n",
              " (51.501277, -0.193858),\n",
              " (51.48115, -0.183275),\n",
              " (51.517616, -0.203733),\n",
              " (51.494937, -0.173507),\n",
              " (51.509048, -0.196288),\n",
              " (51.501425, -0.180164),\n",
              " (51.524177, -0.209385),\n",
              " (51.49548, -0.173773),\n",
              " (51.501661, -0.160703),\n",
              " (51.520345, -0.211698),\n",
              " (51.485669, -0.173157),\n",
              " (51.491661, -0.15952),\n",
              " (51.517504, -0.202296),\n",
              " (51.494688, -0.192245),\n",
              " (51.488579, -0.192631),\n",
              " (51.494624, -0.193976),\n",
              " (51.492747, -0.200533),\n",
              " (51.486622, -0.170814),\n",
              " (51.515897, -0.208989),\n",
              " (51.497013, -0.168237),\n",
              " (51.515102, -0.221704),\n",
              " (51.515891, -0.220376),\n",
              " (51.500933, -0.19488),\n",
              " (51.501305, -0.189822),\n",
              " (51.50627, -0.208646),\n",
              " (51.484087, -0.164002),\n",
              " (51.489989, -0.179179),\n",
              " (51.492747, -0.200533),\n",
              " (51.524157, -0.213999),\n",
              " (51.494564, -0.190089),\n",
              " (51.481575, -0.181674),\n",
              " (51.486474, -0.190265),\n",
              " (51.492865, -0.167539),\n",
              " (51.518806, -0.211037),\n",
              " (51.51417, -0.20776),\n",
              " (51.485408, -0.162221),\n",
              " (51.502577, -0.214123),\n",
              " (51.50794, -0.206131),\n",
              " (51.500477, -0.194465),\n",
              " (51.492095, -0.193212),\n",
              " (51.48944, -0.190148),\n",
              " (51.514404, -0.199536),\n",
              " (51.52561, -0.214951),\n",
              " (51.491956, -0.201717),\n",
              " (51.480101, -0.179428),\n",
              " (51.523521, -0.213591),\n",
              " (51.499037, -0.159656),\n",
              " (51.488425, -0.176936),\n",
              " (51.483415, -0.167054),\n",
              " (51.504933, -0.215327),\n",
              " (51.489975, -0.155267),\n",
              " (51.500567, -0.194462),\n",
              " (51.498237, -0.166027),\n",
              " (51.50203, -0.190226),\n",
              " (51.492492, -0.16669),\n",
              " (51.508796, -0.197451),\n",
              " (51.501996, -0.159104),\n",
              " (51.498675, -0.165289),\n",
              " (51.481062, -0.183423),\n",
              " (51.482076, -0.173445),\n",
              " (51.499011, -0.198558),\n",
              " (51.493723, -0.182199),\n",
              " (51.479674, -0.180886),\n",
              " (51.482076, -0.173445),\n",
              " (51.486668, -0.179599),\n",
              " (51.493766, -0.17341),\n",
              " (51.495898, -0.17174),\n",
              " (51.497208, -0.204103),\n",
              " (51.506785, -0.207041),\n",
              " (51.492813, -0.181515),\n",
              " (51.494559, -0.195564),\n",
              " (51.491031, -0.205931),\n",
              " (51.515808, -0.208993),\n",
              " (51.496303, -0.203707),\n",
              " (51.501223, -0.161441),\n",
              " (51.481991, -0.173736),\n",
              " (51.484797, -0.17492),\n",
              " (51.500933, -0.19488),\n",
              " (51.485969, -0.180923),\n",
              " (51.517292, -0.217871),\n",
              " (51.491441, -0.203322),\n",
              " (51.501915, -0.159684),\n",
              " (51.508485, -0.200634),\n",
              " (51.527785, -0.21602),\n",
              " (51.493469, -0.194886),\n",
              " (51.48295, -0.177587),\n",
              " (51.502273, -0.188487),\n",
              " (51.501746, -0.160411),\n",
              " (51.519477, -0.20784),\n",
              " (51.49008, -0.190843),\n",
              " (51.509333, -0.197286),\n",
              " (51.481746, -0.17533),\n",
              " (51.502853, -0.214544),\n",
              " (51.490182, -0.156987),\n",
              " (51.491573, -0.159668),\n",
              " (51.495898, -0.17174),\n",
              " (51.489477, -0.15788),\n",
              " (51.501428, -0.174544),\n",
              " (51.508472, -0.19977),\n",
              " (51.495898, -0.17174),\n",
              " (51.51764, -0.205318),\n",
              " (51.493849, -0.178737),\n",
              " (51.514951, -0.217674),\n",
              " (51.495761, -0.162957),\n",
              " (51.481656, -0.181095),\n",
              " (51.489594, -0.159604),\n",
              " (51.49699, -0.195756),\n",
              " (51.49226, -0.157624),\n",
              " (51.482704, -0.184942),\n",
              " (51.490715, -0.19125),\n",
              " (51.508488, -0.200778),\n",
              " (51.497035, -0.204542),\n",
              " (51.490748, -0.181741),\n",
              " (51.481486, -0.187583),\n",
              " (51.500574, -0.16017),\n",
              " (51.495658, -0.173622),\n",
              " (51.491279, -0.163857),\n",
              " (51.496235, -0.170285),\n",
              " (51.508488, -0.200778),\n",
              " (51.507462, -0.204277),\n",
              " (51.492177, -0.158059),\n",
              " (51.4924, -0.160787),\n",
              " (51.484361, -0.175802),\n",
              " (51.482987, -0.185795),\n",
              " (51.490263, -0.16217),\n",
              " (51.48299, -0.185939),\n",
              " (51.500345, -0.162773),\n",
              " (51.495658, -0.173622),\n",
              " (51.499024, -0.164555),\n",
              " (51.518079, -0.210489),\n",
              " (51.500652, -0.19417),\n",
              " (51.493429, -0.169101),\n",
              " (51.499268, -0.197683),\n",
              " (51.486429, -0.187387),\n",
              " (51.481575, -0.181674),\n",
              " (51.486242, -0.169533),\n",
              " (51.49551, -0.175645),\n",
              " (51.480094, -0.178997),\n",
              " (51.517353, -0.210085),\n",
              " (51.489097, -0.156599),\n",
              " (51.480434, -0.177687),\n",
              " (51.485696, -0.169123),\n",
              " (51.518806, -0.211037),\n",
              " (51.50812, -0.206124),\n",
              " (51.494283, -0.201049),\n",
              " (51.524159, -0.214143),\n",
              " (51.494995, -0.183013),\n",
              " (51.48849, -0.181111),\n",
              " (51.499987, -0.162931),\n",
              " (51.493008, -0.199947),\n",
              " (51.516656, -0.217463),\n",
              " (51.519577, -0.226286),\n",
              " (51.480874, -0.177093),\n",
              " (51.514918, -0.221423),\n",
              " (51.502264, -0.187911),\n",
              " (51.498152, -0.166319),\n",
              " (51.496943, -0.163774),\n",
              " (51.488673, -0.169724),\n",
              " (51.501751, -0.160699),\n",
              " (51.481746, -0.17533),\n",
              " (51.504959, -0.217055),\n",
              " (51.486882, -0.170228),\n",
              " (51.480047, -0.181735),\n",
              " (51.490458, -0.186218),\n",
              " (51.515643, -0.221827),\n",
              " (51.514399, -0.199248),\n",
              " (51.496419, -0.205431),\n",
              " (51.512616, -0.217909),\n",
              " (51.512443, -0.206531),\n",
              " (51.509886, -0.198129),\n",
              " (51.520628, -0.224371),\n",
              " (51.498665, -0.199436),\n",
              " (51.516971, -0.208659),\n",
              " (51.493696, -0.197903),\n",
              " (51.502, -0.159392),\n",
              " (51.510809, -0.199677),\n",
              " (51.497451, -0.167499),\n",
              " (51.504845, -0.215475),\n",
              " (51.494377, -0.195427),\n",
              " (51.497013, -0.168237),\n",
              " (51.517568, -0.206474),\n",
              " (51.526608, -0.215489),\n",
              " (51.490351, -0.162022),\n",
              " (51.482899, -0.174276),\n",
              " (51.481116, -0.181116),\n",
              " (51.484918, -0.182693),\n",
              " (51.501863, -0.185189),\n",
              " (51.500933, -0.19488),\n",
              " (51.480199, -0.185761),\n",
              " (51.495982, -0.171304),\n",
              " (51.526246, -0.215359),\n",
              " (51.486748, -0.190543),\n",
              " (51.50228, -0.188919),\n",
              " (51.508967, -0.196868),\n",
              " (51.496896, -0.16075),\n",
              " (51.513262, -0.207219),\n",
              " (51.510983, -0.211056),\n",
              " (51.494119, -0.202064),\n",
              " (51.481576, -0.187579),\n",
              " (51.50021, -0.159896),\n",
              " (51.495204, -0.179115),\n",
              " (51.518841, -0.207432),\n",
              " (51.495568, -0.173626),\n",
              " (51.498765, -0.159522),\n",
              " (51.480267, -0.178558),\n",
              " (51.48929, -0.157455),\n",
              " (51.483817, -0.164013),\n",
              " (51.490996, -0.163005),\n",
              " (51.509044, -0.196),\n",
              " (51.48887, -0.165107),\n",
              " (51.496898, -0.160894),\n",
              " (51.481575, -0.181674),\n",
              " (51.493405, -0.167518),\n",
              " (51.492515, -0.16813),\n",
              " (51.514951, -0.217674),\n",
              " (51.480889, -0.183862),\n",
              " (51.501819, -0.170782),\n",
              " (51.485418, -0.151418),\n",
              " (51.481318, -0.182548),\n",
              " (51.486439, -0.164916),\n",
              " (51.496577, -0.169119),\n",
              " (51.495591, -0.175065),\n",
              " (51.508884, -0.197303),\n",
              " (51.491661, -0.15952),\n",
              " (51.483253, -0.185496),\n",
              " (51.519743, -0.172659),\n",
              " (51.499872, -0.196074),\n",
              " (51.507896, -0.203251),\n",
              " (51.491273, -0.186618),\n",
              " (51.48226, -0.173725),\n",
              " (51.493046, -0.156151),\n",
              " (51.492006, -0.158642),\n",
              " (51.489673, -0.170404),\n",
              " (51.498461, -0.157374),\n",
              " (51.504315, -0.216072),\n",
              " (51.482326, -0.172139),\n",
              " (51.482076, -0.173445),\n",
              " (51.495804, -0.171455),\n",
              " (51.506097, -0.209086),\n",
              " (51.482901, -0.17442),\n",
              " (51.489695, -0.195036),\n",
              " (51.49209, -0.158207),\n",
              " (51.496884, -0.206421),\n",
              " (51.506783, -0.206897),\n",
              " (51.503643, -0.195637),\n",
              " (51.498157, -0.201473),\n",
              " (51.500733, -0.193591),\n",
              " (51.507804, -0.20311),\n",
              " (51.497037, -0.204686),\n",
              " (51.494483, -0.167474),\n",
              " (51.49463, -0.200171),\n",
              " (51.493986, -0.175994),\n",
              " (51.497127, -0.204683),\n",
              " (51.490805, -0.173816),\n",
              " (51.48555, -0.177051),\n",
              " (51.484046, -0.184456),\n",
              " (51.49981, -0.163082),\n",
              " (51.490526, -0.196443),\n",
              " (51.499875, -0.196218),\n",
              " (51.482582, -0.171264),\n",
              " (51.498586, -0.200159),\n",
              " (51.497154, -0.165782),\n",
              " (51.515007, -0.221419),\n",
              " (51.512165, -0.217783),\n",
              " (51.484743, -0.182988),\n",
              " (51.491184, -0.186622),\n",
              " (51.49399, -0.158994),\n",
              " (51.480108, -0.17986),\n",
              " (51.501308, -0.161149),\n",
              " (51.498722, -0.179839),\n",
              " (51.51441, -0.199968),\n",
              " (51.497592, -0.159282),\n",
              " (51.497125, -0.204539),\n",
              " (51.488349, -0.16628),\n",
              " (51.492216, -0.177793),\n",
              " (51.496572, -0.163068),\n",
              " (51.484044, -0.184312),\n",
              " (51.495363, -0.177812),\n",
              " (51.495478, -0.202731),\n",
              " (51.491609, -0.179258),\n",
              " (51.490814, -0.162868),\n",
              " (51.495204, -0.179115),\n",
              " (51.500188, -0.19318),\n",
              " (51.51502, -0.204556),\n",
              " (51.496939, -0.192444),\n",
              " (51.490546, -0.186071),\n",
              " (51.517475, -0.206333),\n",
              " (51.483603, -0.184906),\n",
              " (51.521527, -0.212516),\n",
              " (51.487628, -0.195117),\n",
              " (51.524177, -0.209385),\n",
              " (51.5159, -0.209133),\n",
              " (51.515347, -0.202381),\n",
              " (51.491002, -0.180723),\n",
              " (51.495662, -0.17391),\n",
              " (51.508355, -0.215626),\n",
              " (51.49364, -0.17111),\n",
              " (51.482076, -0.173445),\n",
              " (51.523238, -0.206827),\n",
              " (51.482258, -0.173582),\n",
              " (51.500731, -0.193447),\n",
              " (51.526246, -0.215359),\n",
              " (51.497524, -0.183777),\n",
              " (51.494902, -0.182872),\n",
              " (51.510711, -0.216831),\n",
              " (51.482604, -0.178465),\n",
              " (51.501864, -0.191097),\n",
              " (51.492197, -0.199835),\n",
              " (51.497984, -0.201912),\n",
              " (51.517386, -0.206337),\n",
              " (51.521165, -0.212386),\n",
              " (51.47991, -0.178716),\n",
              " (51.480718, -0.184445),\n",
              " (51.483411, -0.166766),\n",
              " (51.485757, -0.150108),\n",
              " (51.506957, -0.194786),\n",
              " (51.484219, -0.184017),\n",
              " (51.478942, -0.180051),\n",
              " (51.488394, -0.174921),\n",
              " (51.511733, -0.195462),\n",
              " (51.516491, -0.20666),\n",
              " (51.511439, -0.217379),\n",
              " (51.497206, -0.203959),\n",
              " (51.510715, -0.205302),\n",
              " (51.4949, -0.182729),\n",
              " (51.497127, -0.204683),\n",
              " (51.487565, -0.167896),\n",
              " (51.501952, -0.190949),\n",
              " (51.499578, -0.159778),\n",
              " (51.493598, -0.168374),\n",
              " (51.513039, -0.204346),\n",
              " (51.487021, -0.179153),\n",
              " (51.480804, -0.184153),\n",
              " (51.518806, -0.211037),\n",
              " (51.514638, -0.19722),\n",
              " (51.500906, -0.158428),\n",
              " (51.495361, -0.177668),\n",
              " (51.518107, -0.218272),\n",
              " (51.492941, -0.183959),\n",
              " (51.513605, -0.217871),\n",
              " (51.497033, -0.204398),\n",
              " (51.514826, -0.221282),\n",
              " (51.493339, -0.169105),\n",
              " (51.482775, -0.177882),\n",
              " (51.509154, -0.197293),\n",
              " (51.505597, -0.211699),\n",
              " (51.517732, -0.205458),\n",
              " (51.502577, -0.214123),\n",
              " (51.497951, -0.159267),\n",
              " (51.490428, -0.166917),\n",
              " (51.481908, -0.174172),\n",
              " (51.514387, -0.204292),\n",
              " (51.494763, -0.185471),\n",
              " (51.490546, -0.186071),\n",
              " (51.499875, -0.196218),\n",
              " (51.49867, -0.199724),\n",
              " (51.489566, -0.157876),\n",
              " (51.499011, -0.198558),\n",
              " (51.490252, -0.196166),\n",
              " (51.498589, -0.20621),\n",
              " (51.520529, -0.211979),\n",
              " (51.483413, -0.16691),\n",
              " (51.508566, -0.200054),\n",
              " (51.495809, -0.171743),\n",
              " (51.483253, -0.185496),\n",
              " (51.494723, -0.18288),\n",
              " (51.495572, -0.197108),\n",
              " (51.48258, -0.17112),\n",
              " (51.484086, -0.187047),\n",
              " (51.49, -0.162612),\n",
              " (51.481152, -0.183419),\n",
              " (51.507975, -0.202527),\n",
              " (51.510438, -0.198971),\n",
              " (51.492804, -0.15789),\n",
              " (51.484363, -0.158662),\n",
              " (51.525797, -0.215377),\n",
              " (51.497033, -0.16377),\n",
              " (51.505397, -0.198594),\n",
              " (51.492652, -0.200249),\n",
              " (51.49927, -0.197827),\n",
              " (51.500569, -0.194606),\n",
              " (51.498763, -0.165142),\n",
              " (51.482582, -0.171264),\n",
              " (51.494752, -0.184751),\n",
              " (51.517263, -0.210089),\n",
              " (51.499353, -0.197391),\n",
              " (51.525584, -0.207312),\n",
              " (51.495355, -0.177236),\n",
              " (51.490176, -0.162317),\n",
              " (51.526064, -0.215222),\n",
              " (51.498757, -0.199576),\n",
              " (51.522177, -0.208022),\n",
              " (51.498244, -0.201325),\n",
              " (51.522252, -0.21292),\n",
              " (51.496515, -0.205859),\n",
              " (51.516467, -0.210985),\n",
              " (51.49175, -0.159517),\n",
              " (51.494287, -0.19543),\n",
              " (51.49918, -0.18616),\n",
              " (51.519352, -0.217358),\n",
              " (51.49356, -0.171689),\n",
              " (51.518896, -0.211034),\n",
              " (51.480022, -0.180152),\n",
              " (51.48295, -0.177587),\n",
              " (51.487538, -0.195121),\n",
              " (51.481746, -0.17533),\n",
              " (51.495808, -0.183269),\n",
              " (51.499791, -0.184983),\n",
              " (51.519494, -0.203083),\n",
              " (51.509876, -0.191644),\n",
              " (51.493484, -0.155413),\n",
              " (51.520186, -0.201326),\n",
              " (51.498924, -0.198705),\n",
              " (51.511651, -0.207715),\n",
              " (51.507975, -0.202527),\n",
              " (51.494554, -0.195276),\n",
              " (51.495658, -0.173622),\n",
              " (51.482202, -0.175744),\n",
              " (51.482074, -0.173301),\n",
              " (51.485622, -0.164373),\n",
              " (51.516991, -0.215865),\n",
              " (51.495044, -0.180418),\n",
              " (51.494902, -0.182872),\n",
              " (51.499111, -0.164407),\n",
              " (51.483253, -0.185496),\n",
              " (51.518339, -0.209903),\n",
              " (51.491964, -0.161669),\n",
              " (51.522177, -0.208022),\n",
              " (51.500605, -0.162186),\n",
              " (51.480177, -0.178561),\n",
              " (51.479238, -0.181767),\n",
              " (51.481912, -0.18022),\n",
              " (51.496441, -0.183532),\n",
              " (51.507226, -0.194775),\n",
              " (51.498588, -0.165437),\n",
              " (51.500075, -0.162784),\n",
              " (51.498223, -0.1594),\n",
              " (51.516487, -0.206372),\n",
              " (51.493829, -0.177441),\n",
              " (51.486008, -0.177609),\n",
              " (51.498843, -0.199285),\n",
              " (51.49566, -0.173766),\n",
              " (51.496581, -0.204272),\n",
              " (51.48615, -0.169393),\n",
              " (51.48974, -0.163199),\n",
              " (51.497188, -0.167942),\n",
              " (51.483631, -0.163589),\n",
              " (51.484361, -0.175802),\n",
              " (51.486622, -0.170814),\n",
              " (51.490203, -0.169807),\n",
              " (51.490966, -0.161133),\n",
              " (51.48315, -0.167353),\n",
              " (51.522651, -0.22141),\n",
              " (51.487625, -0.194973),\n",
              " (51.517335, -0.203023),\n",
              " (51.507804, -0.20311),\n",
              " (51.516106, -0.222674),\n",
              " (51.494835, -0.184316),\n",
              " (51.490905, -0.157246),\n",
              " (51.496321, -0.169994),\n",
              " (51.496434, -0.206439),\n",
              " (51.484188, -0.176241),\n",
              " (51.512843, -0.197435),\n",
              " (51.49468, -0.185907),\n",
              " (51.516139, -0.213016),\n",
              " (51.497015, -0.168381),\n",
              " (51.494569, -0.190377),\n",
              " (51.499109, -0.164263),\n",
              " (51.495582, -0.17449),\n",
              " (51.49815, -0.166175),\n",
              " (51.485757, -0.150108),\n",
              " (51.480806, -0.184297),\n",
              " (51.497592, -0.165044),\n",
              " (51.508488, -0.200778),\n",
              " (51.509374, -0.194114),\n",
              " (51.488338, -0.177084),\n",
              " (51.497451, -0.167499),\n",
              " (51.498334, -0.201322),\n",
              " (51.492394, -0.189311),\n",
              " (51.498924, -0.198705),\n",
              " (51.513985, -0.20157),\n",
              " (51.492714, -0.157893),\n",
              " (51.507892, -0.202963),\n",
              " (51.509646, -0.194247),\n",
              " (51.488576, -0.192487),\n",
              " (51.482582, -0.171264),\n",
              " (51.507254, -0.20832),\n",
              " (51.493829, -0.177441),\n",
              " (51.517841, -0.200841),\n",
              " (51.498412, -0.165732),\n",
              " (51.525985, -0.210035),\n",
              " (51.486398, -0.150802),\n",
              " (51.483602, -0.167479),\n",
              " (51.488338, -0.177084),\n",
              " (51.501275, -0.193714),\n",
              " (51.499289, -0.164256),\n",
              " (51.482416, -0.172135),\n",
              " (51.48567, -0.150255),\n",
              " (51.519565, -0.207692),\n",
              " (51.507719, -0.203402),\n",
              " (51.497875, -0.194856),\n",
              " (51.483838, -0.176831),\n",
              " (51.483983, -0.186187),\n",
              " (51.514951, -0.217674),\n",
              " (51.504957, -0.216911),\n",
              " (51.48567, -0.150255),\n",
              " (51.526246, -0.215359),\n",
              " (51.491724, -0.192506),\n",
              " (51.498244, -0.201325),\n",
              " (51.485354, -0.181812),\n",
              " (51.493905, -0.182336),\n",
              " (51.505847, -0.210392),\n",
              " (51.501659, -0.160559),\n",
              " (51.509293, -0.194693),\n",
              " (51.491519, -0.179262),\n",
              " (51.515936, -0.199764),\n",
              " (51.516489, -0.206516),\n",
              " (51.49404, -0.196881),\n",
              " (51.509333, -0.197286),\n",
              " (51.483603, -0.184906),\n",
              " (51.493714, -0.175861),\n",
              " (51.497453, -0.167643),\n",
              " (51.499623, -0.179947),\n",
              " (51.497608, -0.183341),\n",
              " (51.527515, -0.21603),\n",
              " (51.499184, -0.198119),\n",
              " (51.488576, -0.192487),\n",
              " (51.483397, -0.165902),\n",
              " (51.510018, -0.189188),\n",
              " (51.504843, -0.215331),\n",
              " (51.484962, -0.185572),\n",
              " (51.481152, -0.183419),\n",
              " (51.482326, -0.172139),\n",
              " (51.494291, -0.195718),\n",
              " (51.502116, -0.189934),\n",
              " (51.486276, -0.171693),\n",
              " (51.483253, -0.185496),\n",
              " (51.497013, -0.168237),\n",
              " (51.499443, -0.197388),\n",
              " (51.496893, -0.160606),\n",
              " (51.492916, -0.153564),\n",
              " (51.489443, -0.155721),\n",
              " (51.498244, -0.201325),\n",
              " (51.485132, -0.220134),\n",
              " (51.522822, -0.220826),\n",
              " (51.519928, -0.225696),\n",
              " (51.48679, -0.170087),\n",
              " (51.498423, -0.183741),\n",
              " (51.517568, -0.206474),\n",
              " (51.48342, -0.167342),\n",
              " (51.501848, -0.190089),\n",
              " (51.494909, -0.183304),\n",
              " (51.49107, -0.161993),\n",
              " (51.492479, -0.200688),\n",
              " (51.505681, -0.211263),\n",
              " (51.491867, -0.178527),\n",
              " (51.496432, -0.206295),\n",
              " (51.493269, -0.181929),\n",
              " (51.485757, -0.150108),\n",
              " (51.49756, -0.19775),\n",
              " (51.484037, -0.160836),\n",
              " (51.486534, -0.170962),\n",
              " (51.492387, -0.200547),\n",
              " (51.50501, -0.21446),\n",
              " (51.484569, -0.183427),\n",
              " (51.520529, -0.211979),\n",
              " (51.495629, -0.17175),\n",
              " (51.483605, -0.18505),\n",
              " (51.494835, -0.184316),\n",
              " (51.486882, -0.170228),\n",
              " (51.502485, -0.213982),\n",
              " (51.518171, -0.21063),\n",
              " (51.507751, -0.199654),\n",
              " (51.481209, -0.181257),\n",
              " (51.492036, -0.172038),\n",
              " (51.49479, -0.158386),\n",
              " (51.498812, -0.179835),\n",
              " (51.510897, -0.205439),\n",
              " (51.522296, -0.221712),\n",
              " (51.480261, -0.178126),\n",
              " (51.506187, -0.209082),\n",
              " (51.502134, -0.191086),\n",
              " (51.511786, -0.198918),\n",
              " (51.492941, -0.183959),\n",
              " (51.488576, -0.192487),\n",
              " (51.516992, -0.198281),\n",
              " (51.492277, -0.193349),\n",
              " (51.510326, -0.197535),\n",
              " (51.492569, -0.200684),\n",
              " (51.498722, -0.179839),\n",
              " (51.505512, -0.21199),\n",
              " (51.505962, -0.194393),\n",
              " (51.480525, -0.183588),\n",
              " (51.509795, -0.192224),\n",
              " (51.497208, -0.157712),\n",
              " (51.483603, -0.184906),\n",
              " (51.496513, -0.205715),\n",
              " (51.492659, -0.200681),\n",
              " (51.515448, -0.220826),\n",
              " (51.490919, -0.181158),\n",
              " (51.501365, -0.19371),\n",
              " (51.487399, -0.168767),\n",
              " (51.491962, -0.161525),\n",
              " (51.480806, -0.184297),\n",
              " (51.490701, -0.161432),\n",
              " (51.484282, -0.159242),\n",
              " (51.499929, -0.211489),\n",
              " (51.517263, -0.210089),\n",
              " (51.491573, -0.159668),\n",
              " (51.495719, -0.171747),\n",
              " (51.516575, -0.08126),\n",
              " (51.508007, -0.074271),\n",
              " (51.516665, -0.081256),\n",
              " (51.510991, -0.102824),\n",
              " (51.516735, -0.085578),\n",
              " (51.517725, -0.107733),\n",
              " (51.519779, -0.101306),\n",
              " (51.516292, -0.096983),\n",
              " (51.516939, -0.08701),\n",
              " (51.504439, -0.076006),\n",
              " (51.517284, -0.080654),\n",
              " (51.517327, -0.083247),\n",
              " (51.514734, -0.089697),\n",
              " (51.510371, -0.086853),\n",
              " (51.515904, -0.106368),\n",
              " (51.511583, -0.08392),\n",
              " (51.510984, -0.108013),\n",
              " (51.517722, -0.107589),\n",
              " (51.510121, -0.088017),\n",
              " (51.513622, -0.1043),\n",
              " (51.513217, -0.079384),\n",
              " (51.51149, -0.08378),\n",
              " (51.511786, -0.085353),\n",
              " (51.514555, -0.078751),\n",
              " (51.513393, -0.090186),\n",
              " (51.517545, -0.107741),\n",
              " (51.514402, -0.096917),\n",
              " (51.514541, -0.083364),\n",
              " (51.517595, -0.105288),\n",
              " (51.509265, -0.08517),\n",
              " (51.515721, -0.10061),\n",
              " (51.515863, -0.109396),\n",
              " (51.514095, -0.094624),\n",
              " (51.518796, -0.079581),\n",
              " (51.515398, -0.097308),\n",
              " (51.51379, -0.092475),\n",
              " (51.517725, -0.107733),\n",
              " (51.515755, -0.097149),\n",
              " (51.517635, -0.107737),\n",
              " (51.511695, -0.090833),\n",
              " (51.513278, -0.088605),\n",
              " (51.519779, -0.079252),\n",
              " (51.515951, -0.081575),\n",
              " (51.517639, -0.080351),\n",
              " (51.514139, -0.086263),\n",
              " (51.511873, -0.085205),\n",
              " (51.509369, -0.086031),\n",
              " (51.512043, -0.101195),\n",
              " (51.514093, -0.105578),\n",
              " (51.51693, -0.080957),\n",
              " (51.510744, -0.093179),\n",
              " (51.512085, -0.09269),\n",
              " (51.50905, -0.083018),\n",
              " (51.511865, -0.095726),\n",
              " (51.521516, -0.097486),\n",
              " (51.510196, -0.087149),\n",
              " (51.509022, -0.081289),\n",
              " (51.515277, -0.078865),\n",
              " (51.512362, -0.104209),\n",
              " (51.510887, -0.101964),\n",
              " (51.514045, -0.075025),\n",
              " (51.514756, -0.085516),\n",
              " (51.514106, -0.100821),\n",
              " (51.515071, -0.082765),\n",
              " (51.517504, -0.083095),\n",
              " (51.513238, -0.086157),\n",
              " (51.513963, -0.103133),\n",
              " (51.513282, -0.088893),\n",
              " (51.51504, -0.097467),\n",
              " (51.516343, -0.083576),\n",
              " (51.511959, -0.09601),\n",
              " (51.517462, -0.080502),\n",
              " (51.510744, -0.093179),\n",
              " (51.513984, -0.104429),\n",
              " (51.511952, -0.095578),\n",
              " (51.511819, -0.098466),\n",
              " (51.517727, -0.080203),\n",
              " (51.515529, -0.099897),\n",
              " (51.512364, -0.104353),\n",
              " (51.509109, -0.081142),\n",
              " (51.514255, -0.07689),\n",
              " (51.516043, -0.081715),\n",
              " (51.515757, -0.097293),\n",
              " (51.509426, -0.078534),\n",
              " (51.511733, -0.087661),\n",
              " (51.511471, -0.082628),\n",
              " (51.508404, -0.087512),\n",
              " (51.514397, -0.096629),\n",
              " (51.517955, -0.110895),\n",
              " (51.511111, -0.088119),\n",
              " (51.514141, -0.108603),\n",
              " (51.514368, -0.083803),\n",
              " (51.510724, -0.086406),\n",
              " (51.513852, -0.101841),\n",
              " (51.509935, -0.104309),\n",
              " (51.516345, -0.08372),\n",
              " (51.517504, -0.083095),\n",
              " (51.517592, -0.082947),\n",
              " (51.513404, -0.096383),\n",
              " (51.514392, -0.07429),\n",
              " (51.512993, -0.104326),\n",
              " (51.513919, -0.083822),\n",
              " (51.510282, -0.086857),\n",
              " (51.512187, -0.093407),\n",
              " (51.510899, -0.075158),\n",
              " (51.515815, -0.100894),\n",
              " (51.510839, -0.10456),\n",
              " (51.51285, -0.084443),\n",
              " (51.510898, -0.102684),\n",
              " (51.512477, -0.105789),\n",
              " (51.515936, -0.080711),\n",
              " (51.509766, -0.08832),\n",
              " (51.513984, -0.104429),\n",
              " (51.514074, -0.104426),\n",
              " (51.513427, -0.081248),\n",
              " (51.510818, -0.08669),\n",
              " (51.510967, -0.112481),\n",
              " (51.516692, -0.105038),\n",
              " (51.516343, -0.083576),\n",
              " (51.513978, -0.087423),\n",
              " (51.516893, -0.089751),\n",
              " (51.51616, -0.094394),\n",
              " (51.516755, -0.081253),\n",
              " (51.517107, -0.080805),\n",
              " (51.513292, -0.083992),\n",
              " (51.510899, -0.086111),\n",
              " (51.517504, -0.083095),\n",
              " (51.506079, -0.08833),\n",
              " (51.51735, -0.090164),\n",
              " (51.510354, -0.091322),\n",
              " (51.513467, -0.089174),\n",
              " (51.515818, -0.101038),\n",
              " (51.514254, -0.104418),\n",
              " (51.513041, -0.090633),\n",
              " (51.517443, -0.084827),\n",
              " (51.5137, -0.092479),\n",
              " (51.513179, -0.09913),\n",
              " (51.513455, -0.088454),\n",
              " (51.515881, -0.104927),\n",
              " (51.50956, -0.086743),\n",
              " (51.512364, -0.104353),\n",
              " (51.515868, -0.082011),\n",
              " (51.508673, -0.087501),\n",
              " (51.514047, -0.108318),\n",
              " (51.51911, -0.087784),\n",
              " (51.520406, -0.079081),\n",
              " (51.51084, -0.11018),\n",
              " (51.517678, -0.104853),\n",
              " (51.516345, -0.08372),\n",
              " (51.512768, -0.095977),\n",
              " (51.514076, -0.10457),\n",
              " (51.509676, -0.088324),\n",
              " (51.508673, -0.087501),\n",
              " (51.513457, -0.088598),\n",
              " (51.511017, -0.087835),\n",
              " (51.515611, -0.104938),\n",
              " (51.517683, -0.105141),\n",
              " (51.518752, -0.087943),\n",
              " (51.51285, -0.084443),\n",
              " (51.51817, -0.113048),\n",
              " (51.50994, -0.104597),\n",
              " (51.5135, -0.09119),\n",
              " (51.516352, -0.084152),\n",
              " (51.514756, -0.085516),\n",
              " (51.514102, -0.106154),\n",
              " (51.511783, -0.085209),\n",
              " (51.517415, -0.105296),\n",
              " (51.509022, -0.081289),\n",
              " (51.518171, -0.079896),\n",
              " (51.516487, -0.081408),\n",
              " (51.514058, -0.103417),\n",
              " (51.51704, -0.087727),\n",
              " (51.513589, -0.091186),\n",
              " (51.516859, -0.098689),\n",
              " (51.516572, -0.103169),\n",
              " (51.513173, -0.104319),\n",
              " (51.515515, -0.082458),\n",
              " (51.51278, -0.096697),\n",
              " (51.514806, -0.083064),\n",
              " (51.511942, -0.100479),\n",
              " (51.511551, -0.087524),\n",
              " (51.518667, -0.104812),\n",
              " (51.520143, -0.085002),\n",
              " (51.513214, -0.090193),\n",
              " (51.513543, -0.088306),\n",
              " (51.513785, -0.075612),\n",
              " (51.511908, -0.103939),\n",
              " (51.520774, -0.090598),\n",
              " (51.514385, -0.073858),\n",
              " (51.516253, -0.08358),\n",
              " (51.517462, -0.080502),\n",
              " (51.517504, -0.083095),\n",
              " (51.518041, -0.110603),\n",
              " (51.512953, -0.09078),\n",
              " (51.51741, -0.082811),\n",
              " (51.513294, -0.089613),\n",
              " (51.51285, -0.084443),\n",
              " (51.510387, -0.104435),\n",
              " (51.510117, -0.093349),\n",
              " (51.510816, -0.086546),\n",
              " (51.517592, -0.082947),\n",
              " (51.513111, -0.094953),\n",
              " (51.511873, -0.085205),\n",
              " (51.516569, -0.103025),\n",
              " (51.518169, -0.079752),\n",
              " (51.511169, -0.097196),\n",
              " (51.50954, -0.079971),\n",
              " (51.50875, -0.081157),\n",
              " (51.514806, -0.083064),\n",
              " (51.514191, -0.083955),\n",
              " (51.509022, -0.081289),\n",
              " (51.513295, -0.084136),\n",
              " (51.520494, -0.078933),\n",
              " (51.517239, -0.088872),\n",
              " (51.513114, -0.095098),\n",
              " (51.519896, -0.097409),\n",
              " (51.510895, -0.108016),\n",
              " (51.510104, -0.087009),\n",
              " (51.515721, -0.10061),\n",
              " (51.511974, -0.102495),\n",
              " (51.516345, -0.089197),\n",
              " (51.514118, -0.107162),\n",
              " (51.514397, -0.096629),\n",
              " (51.515757, -0.097293),\n",
              " (51.518048, -0.111035),\n",
              " (51.515091, -0.089538),\n",
              " (51.506883, -0.088008),\n",
              " (51.517333, -0.105732),\n",
              " (51.516479, -0.103029),\n",
              " (51.510107, -0.087153),\n",
              " (51.509253, -0.08445),\n",
              " (51.510949, -0.072706),\n",
              " (51.517147, -0.088731),\n",
              " (51.513297, -0.084281),\n",
              " (51.518349, -0.079744),\n",
              " (51.516575, -0.08126),\n",
              " (51.518409, -0.105543),\n",
              " (51.513204, -0.089617),\n",
              " (51.514206, -0.073865),\n",
              " (51.509766, -0.08832),\n",
              " (51.513285, -0.089037),\n",
              " (51.515624, -0.100182),\n",
              " (51.510905, -0.103116),\n",
              " (51.517275, -0.096653),\n",
              " (51.511783, -0.085209),\n",
              " (51.515721, -0.084035),\n",
              " (51.515667, -0.080722),\n",
              " (51.514206, -0.073865),\n",
              " (51.512162, -0.086346),\n",
              " (51.517526, -0.106589),\n",
              " (51.517459, -0.080358),\n",
              " (51.519105, -0.087496),\n",
              " (51.516256, -0.083724),\n",
              " (51.517685, -0.105285),\n",
              " (51.517725, -0.107733),\n",
              " (51.518406, -0.105399),\n",
              " (51.510751, -0.093611),\n",
              " (51.518349, -0.079744),\n",
              " ...]"
            ]
          },
          "metadata": {},
          "execution_count": 55
        }
      ]
    },
    {
      "cell_type": "code",
      "source": [
        "from folium.plugins import HeatMap"
      ],
      "metadata": {
        "id": "s4zDjyb-ZrSp"
      },
      "execution_count": null,
      "outputs": []
    },
    {
      "cell_type": "code",
      "source": [
        "map = folium.Map()\n",
        "HeatMap(zip(list(df.Latitude), list(df.Longitude))).add_to(map)\n",
        "map"
      ],
      "metadata": {
        "colab": {
          "base_uri": "https://localhost:8080/",
          "height": 807
        },
        "id": "PKTvCcnO3eIP",
        "outputId": "42712b6c-57c0-4caf-993e-4a0acf2e46ce"
      },
      "execution_count": null,
      "outputs": [
        {
          "output_type": "execute_result",
          "data": {
            "text/plain": [
              "<folium.folium.Map at 0x782c58246470>"
            ],
            "text/html": [
              "<div style=\"width:100%;\"><div style=\"position:relative;width:100%;height:0;padding-bottom:60%;\"><span style=\"color:#565656\">Make this Notebook Trusted to load map: File -> Trust Notebook</span><iframe srcdoc=\"&lt;!DOCTYPE html&gt;\n",
              "&lt;html&gt;\n",
              "&lt;head&gt;\n",
              "    \n",
              "    &lt;meta http-equiv=&quot;content-type&quot; content=&quot;text/html; charset=UTF-8&quot; /&gt;\n",
              "    \n",
              "        &lt;script&gt;\n",
              "            L_NO_TOUCH = false;\n",
              "            L_DISABLE_3D = false;\n",
              "        &lt;/script&gt;\n",
              "    \n",
              "    &lt;style&gt;html, body {width: 100%;height: 100%;margin: 0;padding: 0;}&lt;/style&gt;\n",
              "    &lt;style&gt;#map {position:absolute;top:0;bottom:0;right:0;left:0;}&lt;/style&gt;\n",
              "    &lt;script src=&quot;https://cdn.jsdelivr.net/npm/leaflet@1.9.3/dist/leaflet.js&quot;&gt;&lt;/script&gt;\n",
              "    &lt;script src=&quot;https://code.jquery.com/jquery-1.12.4.min.js&quot;&gt;&lt;/script&gt;\n",
              "    &lt;script src=&quot;https://cdn.jsdelivr.net/npm/bootstrap@5.2.2/dist/js/bootstrap.bundle.min.js&quot;&gt;&lt;/script&gt;\n",
              "    &lt;script src=&quot;https://cdnjs.cloudflare.com/ajax/libs/Leaflet.awesome-markers/2.0.2/leaflet.awesome-markers.js&quot;&gt;&lt;/script&gt;\n",
              "    &lt;link rel=&quot;stylesheet&quot; href=&quot;https://cdn.jsdelivr.net/npm/leaflet@1.9.3/dist/leaflet.css&quot;/&gt;\n",
              "    &lt;link rel=&quot;stylesheet&quot; href=&quot;https://cdn.jsdelivr.net/npm/bootstrap@5.2.2/dist/css/bootstrap.min.css&quot;/&gt;\n",
              "    &lt;link rel=&quot;stylesheet&quot; href=&quot;https://netdna.bootstrapcdn.com/bootstrap/3.0.0/css/bootstrap.min.css&quot;/&gt;\n",
              "    &lt;link rel=&quot;stylesheet&quot; href=&quot;https://cdn.jsdelivr.net/npm/@fortawesome/fontawesome-free@6.2.0/css/all.min.css&quot;/&gt;\n",
              "    &lt;link rel=&quot;stylesheet&quot; href=&quot;https://cdnjs.cloudflare.com/ajax/libs/Leaflet.awesome-markers/2.0.2/leaflet.awesome-markers.css&quot;/&gt;\n",
              "    &lt;link rel=&quot;stylesheet&quot; href=&quot;https://cdn.jsdelivr.net/gh/python-visualization/folium/folium/templates/leaflet.awesome.rotate.min.css&quot;/&gt;\n",
              "    \n",
              "            &lt;meta name=&quot;viewport&quot; content=&quot;width=device-width,\n",
              "                initial-scale=1.0, maximum-scale=1.0, user-scalable=no&quot; /&gt;\n",
              "            &lt;style&gt;\n",
              "                #map_f7dcdb556695b069b7c20a5dc90fe863 {\n",
              "                    position: relative;\n",
              "                    width: 100.0%;\n",
              "                    height: 100.0%;\n",
              "                    left: 0.0%;\n",
              "                    top: 0.0%;\n",
              "                }\n",
              "                .leaflet-container { font-size: 1rem; }\n",
              "            &lt;/style&gt;\n",
              "        \n",
              "    &lt;script src=&quot;https://cdn.jsdelivr.net/gh/python-visualization/folium@main/folium/templates/leaflet_heat.min.js&quot;&gt;&lt;/script&gt;\n",
              "&lt;/head&gt;\n",
              "&lt;body&gt;\n",
              "    \n",
              "    \n",
              "            &lt;div class=&quot;folium-map&quot; id=&quot;map_f7dcdb556695b069b7c20a5dc90fe863&quot; &gt;&lt;/div&gt;\n",
              "        \n",
              "&lt;/body&gt;\n",
              "&lt;script&gt;\n",
              "    \n",
              "    \n",
              "            var map_f7dcdb556695b069b7c20a5dc90fe863 = L.map(\n",
              "                &quot;map_f7dcdb556695b069b7c20a5dc90fe863&quot;,\n",
              "                {\n",
              "                    center: [0, 0],\n",
              "                    crs: L.CRS.EPSG3857,\n",
              "                    zoom: 1,\n",
              "                    zoomControl: true,\n",
              "                    preferCanvas: false,\n",
              "                }\n",
              "            );\n",
              "\n",
              "            \n",
              "\n",
              "        \n",
              "    \n",
              "            var tile_layer_b8dfc3b016088f8123120f37167ddcc0 = L.tileLayer(\n",
              "                &quot;https://{s}.tile.openstreetmap.org/{z}/{x}/{y}.png&quot;,\n",
              "                {&quot;attribution&quot;: &quot;Data by \\u0026copy; \\u003ca target=\\&quot;_blank\\&quot; href=\\&quot;http://openstreetmap.org\\&quot;\\u003eOpenStreetMap\\u003c/a\\u003e, under \\u003ca target=\\&quot;_blank\\&quot; href=\\&quot;http://www.openstreetmap.org/copyright\\&quot;\\u003eODbL\\u003c/a\\u003e.&quot;, &quot;detectRetina&quot;: false, &quot;maxNativeZoom&quot;: 18, &quot;maxZoom&quot;: 18, &quot;minZoom&quot;: 0, &quot;noWrap&quot;: false, &quot;opacity&quot;: 1, &quot;subdomains&quot;: &quot;abc&quot;, &quot;tms&quot;: false}\n",
              "            ).addTo(map_f7dcdb556695b069b7c20a5dc90fe863);\n",
              "        \n",
              "    \n",
              "            var heat_map_4748d1aa3aefe14958a16363bd239fc5 = L.heatLayer(\n",
              "                [[51.489096, -0.19117], [51.520075, -0.211708], [51.525301, -0.206458], [51.482442, -0.173862], [51.495752, -0.156618], [51.51554, -0.203238], [51.512695, -0.211277], [51.50226, -0.187623], [51.48342, -0.167342], [51.512443, -0.206531], [51.494902, -0.182872], [51.484044, -0.184312], [51.491632, -0.192366], [51.492622, -0.157753], [51.495429, -0.176224], [51.481912, -0.18022], [51.500191, -0.205139], [51.495811, -0.171887], [51.486552, -0.16059], [51.495498, -0.174925], [51.492992, -0.18727], [51.513039, -0.204346], [51.482076, -0.173445], [51.49296, -0.167824], [51.498062, -0.166322], [51.508265, -0.215629], [51.513988, -0.207623], [51.488671, -0.192771], [51.494902, -0.182872], [51.496893, -0.160606], [51.517796, -0.215545], [51.521988, -0.201543], [51.497103, -0.168234], [51.519986, -0.211712], [51.523585, -0.217769], [51.514951, -0.217674], [51.478096, -0.189301], [51.481804, -0.173312], [51.492652, -0.200249], [51.500648, -0.193882], [51.509377, -0.194258], [51.483999, -0.16415], [51.509154, -0.197293], [51.488776, -0.176346], [51.502177, -0.188058], [51.4849, -0.181542], [51.495806, -0.171599], [51.485005, -0.182546], [51.485515, -0.186415], [51.492515, -0.16813], [51.509515, -0.197423], [51.493527, -0.158149], [51.521709, -0.212653], [51.481575, -0.181674], [51.516656, -0.205645], [51.501941, -0.190229], [51.497911, -0.179727], [51.518806, -0.211037], [51.49724, -0.194449], [51.506807, -0.208481], [51.481822, -0.174463], [51.49164, -0.198704], [51.494121, -0.202208], [51.501596, -0.16229], [51.494146, -0.168929], [51.491273, -0.186618], [51.481575, -0.181674], [51.487215, -0.174248], [51.508707, -0.203363], [51.495084, -0.183009], [51.482582, -0.171264], [51.486931, -0.179156], [51.509125, -0.195421], [51.493285, -0.194606], [51.499569, -0.211503], [51.49369, -0.174277], [51.490178, -0.162461], [51.494981, -0.182149], [51.514966, -0.19519], [51.493429, -0.169101], [51.50134, -0.180455], [51.4829, -0.185942], [51.481989, -0.173592], [51.481746, -0.17533], [51.486493, -0.179894], [51.497552, -0.203081], [51.496259, -0.206734], [51.496399, -0.16927], [51.49089, -0.173525], [51.516658, -0.205789], [51.515582, -0.205975], [51.510995, -0.200102], [51.49361, -0.198194], [51.482775, -0.177882], [51.509377, -0.194258], [51.514716, -0.208171], [51.502577, -0.214123], [51.483253, -0.185496], [51.507588, -0.194905], [51.487281, -0.195995], [51.517263, -0.210089], [51.516353, -0.209404], [51.524085, -0.215155], [51.486931, -0.179156], [51.482637, -0.186385], [51.497125, -0.204539], [51.505347, -0.213006], [51.497801, -0.166909], [51.50858, -0.200918], [51.514242, -0.200695], [51.480962, -0.176946], [51.481483, -0.181534], [51.51499, -0.208448], [51.500008, -0.210765], [51.501516, -0.191831], [51.49305, -0.16782], [51.489216, -0.164228], [51.492092, -0.193068], [51.491571, -0.159524], [51.500346, -0.18597], [51.491661, -0.15952], [51.525689, -0.208317], [51.516658, -0.205789], [51.500497, -0.195761], [51.51944, -0.211301], [51.517657, -0.224199], [51.495206, -0.185021], [51.495649, -0.173046], [51.49859, -0.165581], [51.494377, -0.195427], [51.491521, -0.179406], [51.496985, -0.160747], [51.501277, -0.193858], [51.48115, -0.183275], [51.517616, -0.203733], [51.494937, -0.173507], [51.509048, -0.196288], [51.501425, -0.180164], [51.524177, -0.209385], [51.49548, -0.173773], [51.501661, -0.160703], [51.520345, -0.211698], [51.485669, -0.173157], [51.491661, -0.15952], [51.517504, -0.202296], [51.494688, -0.192245], [51.488579, -0.192631], [51.494624, -0.193976], [51.492747, -0.200533], [51.486622, -0.170814], [51.515897, -0.208989], [51.497013, -0.168237], [51.515102, -0.221704], [51.515891, -0.220376], [51.500933, -0.19488], [51.501305, -0.189822], [51.50627, -0.208646], [51.484087, -0.164002], [51.489989, -0.179179], [51.492747, -0.200533], [51.524157, -0.213999], [51.494564, -0.190089], [51.481575, -0.181674], [51.486474, -0.190265], [51.492865, -0.167539], [51.518806, -0.211037], [51.51417, -0.20776], [51.485408, -0.162221], [51.502577, -0.214123], [51.50794, -0.206131], [51.500477, -0.194465], [51.492095, -0.193212], [51.48944, -0.190148], [51.514404, -0.199536], [51.52561, -0.214951], [51.491956, -0.201717], [51.480101, -0.179428], [51.523521, -0.213591], [51.499037, -0.159656], [51.488425, -0.176936], [51.483415, -0.167054], [51.504933, -0.215327], [51.489975, -0.155267], [51.500567, -0.194462], [51.498237, -0.166027], [51.50203, -0.190226], [51.492492, -0.16669], [51.508796, -0.197451], [51.501996, -0.159104], [51.498675, -0.165289], [51.481062, -0.183423], [51.482076, -0.173445], [51.499011, -0.198558], [51.493723, -0.182199], [51.479674, -0.180886], [51.482076, -0.173445], [51.486668, -0.179599], [51.493766, -0.17341], [51.495898, -0.17174], [51.497208, -0.204103], [51.506785, -0.207041], [51.492813, -0.181515], [51.494559, -0.195564], [51.491031, -0.205931], [51.515808, -0.208993], [51.496303, -0.203707], [51.501223, -0.161441], [51.481991, -0.173736], [51.484797, -0.17492], [51.500933, -0.19488], [51.485969, -0.180923], [51.517292, -0.217871], [51.491441, -0.203322], [51.501915, -0.159684], [51.508485, -0.200634], [51.527785, -0.21602], [51.493469, -0.194886], [51.48295, -0.177587], [51.502273, -0.188487], [51.501746, -0.160411], [51.519477, -0.20784], [51.49008, -0.190843], [51.509333, -0.197286], [51.481746, -0.17533], [51.502853, -0.214544], [51.490182, -0.156987], [51.491573, -0.159668], [51.495898, -0.17174], [51.489477, -0.15788], [51.501428, -0.174544], [51.508472, -0.19977], [51.495898, -0.17174], [51.51764, -0.205318], [51.493849, -0.178737], [51.514951, -0.217674], [51.495761, -0.162957], [51.481656, -0.181095], [51.489594, -0.159604], [51.49699, -0.195756], [51.49226, -0.157624], [51.482704, -0.184942], [51.490715, -0.19125], [51.508488, -0.200778], [51.497035, -0.204542], [51.490748, -0.181741], [51.481486, -0.187583], [51.500574, -0.16017], [51.495658, -0.173622], [51.491279, -0.163857], [51.496235, -0.170285], [51.508488, -0.200778], [51.507462, -0.204277], [51.492177, -0.158059], [51.4924, -0.160787], [51.484361, -0.175802], [51.482987, -0.185795], [51.490263, -0.16217], [51.48299, -0.185939], [51.500345, -0.162773], [51.495658, -0.173622], [51.499024, -0.164555], [51.518079, -0.210489], [51.500652, -0.19417], [51.493429, -0.169101], [51.499268, -0.197683], [51.486429, -0.187387], [51.481575, -0.181674], [51.486242, -0.169533], [51.49551, -0.175645], [51.480094, -0.178997], [51.517353, -0.210085], [51.489097, -0.156599], [51.480434, -0.177687], [51.485696, -0.169123], [51.518806, -0.211037], [51.50812, -0.206124], [51.494283, -0.201049], [51.524159, -0.214143], [51.494995, -0.183013], [51.48849, -0.181111], [51.499987, -0.162931], [51.493008, -0.199947], [51.516656, -0.217463], [51.519577, -0.226286], [51.480874, -0.177093], [51.514918, -0.221423], [51.502264, -0.187911], [51.498152, -0.166319], [51.496943, -0.163774], [51.488673, -0.169724], [51.501751, -0.160699], [51.481746, -0.17533], [51.504959, -0.217055], [51.486882, -0.170228], [51.480047, -0.181735], [51.490458, -0.186218], [51.515643, -0.221827], [51.514399, -0.199248], [51.496419, -0.205431], [51.512616, -0.217909], [51.512443, -0.206531], [51.509886, -0.198129], [51.520628, -0.224371], [51.498665, -0.199436], [51.516971, -0.208659], [51.493696, -0.197903], [51.502, -0.159392], [51.510809, -0.199677], [51.497451, -0.167499], [51.504845, -0.215475], [51.494377, -0.195427], [51.497013, -0.168237], [51.517568, -0.206474], [51.526608, -0.215489], [51.490351, -0.162022], [51.482899, -0.174276], [51.481116, -0.181116], [51.484918, -0.182693], [51.501863, -0.185189], [51.500933, -0.19488], [51.480199, -0.185761], [51.495982, -0.171304], [51.526246, -0.215359], [51.486748, -0.190543], [51.50228, -0.188919], [51.508967, -0.196868], [51.496896, -0.16075], [51.513262, -0.207219], [51.510983, -0.211056], [51.494119, -0.202064], [51.481576, -0.187579], [51.50021, -0.159896], [51.495204, -0.179115], [51.518841, -0.207432], [51.495568, -0.173626], [51.498765, -0.159522], [51.480267, -0.178558], [51.48929, -0.157455], [51.483817, -0.164013], [51.490996, -0.163005], [51.509044, -0.196], [51.48887, -0.165107], [51.496898, -0.160894], [51.481575, -0.181674], [51.493405, -0.167518], [51.492515, -0.16813], [51.514951, -0.217674], [51.480889, -0.183862], [51.501819, -0.170782], [51.485418, -0.151418], [51.481318, -0.182548], [51.486439, -0.164916], [51.496577, -0.169119], [51.495591, -0.175065], [51.508884, -0.197303], [51.491661, -0.15952], [51.483253, -0.185496], [51.519743, -0.172659], [51.499872, -0.196074], [51.507896, -0.203251], [51.491273, -0.186618], [51.48226, -0.173725], [51.493046, -0.156151], [51.492006, -0.158642], [51.489673, -0.170404], [51.498461, -0.157374], [51.504315, -0.216072], [51.482326, -0.172139], [51.482076, -0.173445], [51.495804, -0.171455], [51.506097, -0.209086], [51.482901, -0.17442], [51.489695, -0.195036], [51.49209, -0.158207], [51.496884, -0.206421], [51.506783, -0.206897], [51.503643, -0.195637], [51.498157, -0.201473], [51.500733, -0.193591], [51.507804, -0.20311], [51.497037, -0.204686], [51.494483, -0.167474], [51.49463, -0.200171], [51.493986, -0.175994], [51.497127, -0.204683], [51.490805, -0.173816], [51.48555, -0.177051], [51.484046, -0.184456], [51.49981, -0.163082], [51.490526, -0.196443], [51.499875, -0.196218], [51.482582, -0.171264], [51.498586, -0.200159], [51.497154, -0.165782], [51.515007, -0.221419], [51.512165, -0.217783], [51.484743, -0.182988], [51.491184, -0.186622], [51.49399, -0.158994], [51.480108, -0.17986], [51.501308, -0.161149], [51.498722, -0.179839], [51.51441, -0.199968], [51.497592, -0.159282], [51.497125, -0.204539], [51.488349, -0.16628], [51.492216, -0.177793], [51.496572, -0.163068], [51.484044, -0.184312], [51.495363, -0.177812], [51.495478, -0.202731], [51.491609, -0.179258], [51.490814, -0.162868], [51.495204, -0.179115], [51.500188, -0.19318], [51.51502, -0.204556], [51.496939, -0.192444], [51.490546, -0.186071], [51.517475, -0.206333], [51.483603, -0.184906], [51.521527, -0.212516], [51.487628, -0.195117], [51.524177, -0.209385], [51.5159, -0.209133], [51.515347, -0.202381], [51.491002, -0.180723], [51.495662, -0.17391], [51.508355, -0.215626], [51.49364, -0.17111], [51.482076, -0.173445], [51.523238, -0.206827], [51.482258, -0.173582], [51.500731, -0.193447], [51.526246, -0.215359], [51.497524, -0.183777], [51.494902, -0.182872], [51.510711, -0.216831], [51.482604, -0.178465], [51.501864, -0.191097], [51.492197, -0.199835], [51.497984, -0.201912], [51.517386, -0.206337], [51.521165, -0.212386], [51.47991, -0.178716], [51.480718, -0.184445], [51.483411, -0.166766], [51.485757, -0.150108], [51.506957, -0.194786], [51.484219, -0.184017], [51.478942, -0.180051], [51.488394, -0.174921], [51.511733, -0.195462], [51.516491, -0.20666], [51.511439, -0.217379], [51.497206, -0.203959], [51.510715, -0.205302], [51.4949, -0.182729], [51.497127, -0.204683], [51.487565, -0.167896], [51.501952, -0.190949], [51.499578, -0.159778], [51.493598, -0.168374], [51.513039, -0.204346], [51.487021, -0.179153], [51.480804, -0.184153], [51.518806, -0.211037], [51.514638, -0.19722], [51.500906, -0.158428], [51.495361, -0.177668], [51.518107, -0.218272], [51.492941, -0.183959], [51.513605, -0.217871], [51.497033, -0.204398], [51.514826, -0.221282], [51.493339, -0.169105], [51.482775, -0.177882], [51.509154, -0.197293], [51.505597, -0.211699], [51.517732, -0.205458], [51.502577, -0.214123], [51.497951, -0.159267], [51.490428, -0.166917], [51.481908, -0.174172], [51.514387, -0.204292], [51.494763, -0.185471], [51.490546, -0.186071], [51.499875, -0.196218], [51.49867, -0.199724], [51.489566, -0.157876], [51.499011, -0.198558], [51.490252, -0.196166], [51.498589, -0.20621], [51.520529, -0.211979], [51.483413, -0.16691], [51.508566, -0.200054], [51.495809, -0.171743], [51.483253, -0.185496], [51.494723, -0.18288], [51.495572, -0.197108], [51.48258, -0.17112], [51.484086, -0.187047], [51.49, -0.162612], [51.481152, -0.183419], [51.507975, -0.202527], [51.510438, -0.198971], [51.492804, -0.15789], [51.484363, -0.158662], [51.525797, -0.215377], [51.497033, -0.16377], [51.505397, -0.198594], [51.492652, -0.200249], [51.49927, -0.197827], [51.500569, -0.194606], [51.498763, -0.165142], [51.482582, -0.171264], [51.494752, -0.184751], [51.517263, -0.210089], [51.499353, -0.197391], [51.525584, -0.207312], [51.495355, -0.177236], [51.490176, -0.162317], [51.526064, -0.215222], [51.498757, -0.199576], [51.522177, -0.208022], [51.498244, -0.201325], [51.522252, -0.21292], [51.496515, -0.205859], [51.516467, -0.210985], [51.49175, -0.159517], [51.494287, -0.19543], [51.49918, -0.18616], [51.519352, -0.217358], [51.49356, -0.171689], [51.518896, -0.211034], [51.480022, -0.180152], [51.48295, -0.177587], [51.487538, -0.195121], [51.481746, -0.17533], [51.495808, -0.183269], [51.499791, -0.184983], [51.519494, -0.203083], [51.509876, -0.191644], [51.493484, -0.155413], [51.520186, -0.201326], [51.498924, -0.198705], [51.511651, -0.207715], [51.507975, -0.202527], [51.494554, -0.195276], [51.495658, -0.173622], [51.482202, -0.175744], [51.482074, -0.173301], [51.485622, -0.164373], [51.516991, -0.215865], [51.495044, -0.180418], [51.494902, -0.182872], [51.499111, -0.164407], [51.483253, -0.185496], [51.518339, -0.209903], [51.491964, -0.161669], [51.522177, -0.208022], [51.500605, -0.162186], [51.480177, -0.178561], [51.479238, -0.181767], [51.481912, -0.18022], [51.496441, -0.183532], [51.507226, -0.194775], [51.498588, -0.165437], [51.500075, -0.162784], [51.498223, -0.1594], [51.516487, -0.206372], [51.493829, -0.177441], [51.486008, -0.177609], [51.498843, -0.199285], [51.49566, -0.173766], [51.496581, -0.204272], [51.48615, -0.169393], [51.48974, -0.163199], [51.497188, -0.167942], [51.483631, -0.163589], [51.484361, -0.175802], [51.486622, -0.170814], [51.490203, -0.169807], [51.490966, -0.161133], [51.48315, -0.167353], [51.522651, -0.22141], [51.487625, -0.194973], [51.517335, -0.203023], [51.507804, -0.20311], [51.516106, -0.222674], [51.494835, -0.184316], [51.490905, -0.157246], [51.496321, -0.169994], [51.496434, -0.206439], [51.484188, -0.176241], [51.512843, -0.197435], [51.49468, -0.185907], [51.516139, -0.213016], [51.497015, -0.168381], [51.494569, -0.190377], [51.499109, -0.164263], [51.495582, -0.17449], [51.49815, -0.166175], [51.485757, -0.150108], [51.480806, -0.184297], [51.497592, -0.165044], [51.508488, -0.200778], [51.509374, -0.194114], [51.488338, -0.177084], [51.497451, -0.167499], [51.498334, -0.201322], [51.492394, -0.189311], [51.498924, -0.198705], [51.513985, -0.20157], [51.492714, -0.157893], [51.507892, -0.202963], [51.509646, -0.194247], [51.488576, -0.192487], [51.482582, -0.171264], [51.507254, -0.20832], [51.493829, -0.177441], [51.517841, -0.200841], [51.498412, -0.165732], [51.525985, -0.210035], [51.486398, -0.150802], [51.483602, -0.167479], [51.488338, -0.177084], [51.501275, -0.193714], [51.499289, -0.164256], [51.482416, -0.172135], [51.48567, -0.150255], [51.519565, -0.207692], [51.507719, -0.203402], [51.497875, -0.194856], [51.483838, -0.176831], [51.483983, -0.186187], [51.514951, -0.217674], [51.504957, -0.216911], [51.48567, -0.150255], [51.526246, -0.215359], [51.491724, -0.192506], [51.498244, -0.201325], [51.485354, -0.181812], [51.493905, -0.182336], [51.505847, -0.210392], [51.501659, -0.160559], [51.509293, -0.194693], [51.491519, -0.179262], [51.515936, -0.199764], [51.516489, -0.206516], [51.49404, -0.196881], [51.509333, -0.197286], [51.483603, -0.184906], [51.493714, -0.175861], [51.497453, -0.167643], [51.499623, -0.179947], [51.497608, -0.183341], [51.527515, -0.21603], [51.499184, -0.198119], [51.488576, -0.192487], [51.483397, -0.165902], [51.510018, -0.189188], [51.504843, -0.215331], [51.484962, -0.185572], [51.481152, -0.183419], [51.482326, -0.172139], [51.494291, -0.195718], [51.502116, -0.189934], [51.486276, -0.171693], [51.483253, -0.185496], [51.497013, -0.168237], [51.499443, -0.197388], [51.496893, -0.160606], [51.492916, -0.153564], [51.489443, -0.155721], [51.498244, -0.201325], [51.485132, -0.220134], [51.522822, -0.220826], [51.519928, -0.225696], [51.48679, -0.170087], [51.498423, -0.183741], [51.517568, -0.206474], [51.48342, -0.167342], [51.501848, -0.190089], [51.494909, -0.183304], [51.49107, -0.161993], [51.492479, -0.200688], [51.505681, -0.211263], [51.491867, -0.178527], [51.496432, -0.206295], [51.493269, -0.181929], [51.485757, -0.150108], [51.49756, -0.19775], [51.484037, -0.160836], [51.486534, -0.170962], [51.492387, -0.200547], [51.50501, -0.21446], [51.484569, -0.183427], [51.520529, -0.211979], [51.495629, -0.17175], [51.483605, -0.18505], [51.494835, -0.184316], [51.486882, -0.170228], [51.502485, -0.213982], [51.518171, -0.21063], [51.507751, -0.199654], [51.481209, -0.181257], [51.492036, -0.172038], [51.49479, -0.158386], [51.498812, -0.179835], [51.510897, -0.205439], [51.522296, -0.221712], [51.480261, -0.178126], [51.506187, -0.209082], [51.502134, -0.191086], [51.511786, -0.198918], [51.492941, -0.183959], [51.488576, -0.192487], [51.516992, -0.198281], [51.492277, -0.193349], [51.510326, -0.197535], [51.492569, -0.200684], [51.498722, -0.179839], [51.505512, -0.21199], [51.505962, -0.194393], [51.480525, -0.183588], [51.509795, -0.192224], [51.497208, -0.157712], [51.483603, -0.184906], [51.496513, -0.205715], [51.492659, -0.200681], [51.515448, -0.220826], [51.490919, -0.181158], [51.501365, -0.19371], [51.487399, -0.168767], [51.491962, -0.161525], [51.480806, -0.184297], [51.490701, -0.161432], [51.484282, -0.159242], [51.499929, -0.211489], [51.517263, -0.210089], [51.491573, -0.159668], [51.495719, -0.171747], [51.516575, -0.08126], [51.508007, -0.074271], [51.516665, -0.081256], [51.510991, -0.102824], [51.516735, -0.085578], [51.517725, -0.107733], [51.519779, -0.101306], [51.516292, -0.096983], [51.516939, -0.08701], [51.504439, -0.076006], [51.517284, -0.080654], [51.517327, -0.083247], [51.514734, -0.089697], [51.510371, -0.086853], [51.515904, -0.106368], [51.511583, -0.08392], [51.510984, -0.108013], [51.517722, -0.107589], [51.510121, -0.088017], [51.513622, -0.1043], [51.513217, -0.079384], [51.51149, -0.08378], [51.511786, -0.085353], [51.514555, -0.078751], [51.513393, -0.090186], [51.517545, -0.107741], [51.514402, -0.096917], [51.514541, -0.083364], [51.517595, -0.105288], [51.509265, -0.08517], [51.515721, -0.10061], [51.515863, -0.109396], [51.514095, -0.094624], [51.518796, -0.079581], [51.515398, -0.097308], [51.51379, -0.092475], [51.517725, -0.107733], [51.515755, -0.097149], [51.517635, -0.107737], [51.511695, -0.090833], [51.513278, -0.088605], [51.519779, -0.079252], [51.515951, -0.081575], [51.517639, -0.080351], [51.514139, -0.086263], [51.511873, -0.085205], [51.509369, -0.086031], [51.512043, -0.101195], [51.514093, -0.105578], [51.51693, -0.080957], [51.510744, -0.093179], [51.512085, -0.09269], [51.50905, -0.083018], [51.511865, -0.095726], [51.521516, -0.097486], [51.510196, -0.087149], [51.509022, -0.081289], [51.515277, -0.078865], [51.512362, -0.104209], [51.510887, -0.101964], [51.514045, -0.075025], [51.514756, -0.085516], [51.514106, -0.100821], [51.515071, -0.082765], [51.517504, -0.083095], [51.513238, -0.086157], [51.513963, -0.103133], [51.513282, -0.088893], [51.51504, -0.097467], [51.516343, -0.083576], [51.511959, -0.09601], [51.517462, -0.080502], [51.510744, -0.093179], [51.513984, -0.104429], [51.511952, -0.095578], [51.511819, -0.098466], [51.517727, -0.080203], [51.515529, -0.099897], [51.512364, -0.104353], [51.509109, -0.081142], [51.514255, -0.07689], [51.516043, -0.081715], [51.515757, -0.097293], [51.509426, -0.078534], [51.511733, -0.087661], [51.511471, -0.082628], [51.508404, -0.087512], [51.514397, -0.096629], [51.517955, -0.110895], [51.511111, -0.088119], [51.514141, -0.108603], [51.514368, -0.083803], [51.510724, -0.086406], [51.513852, -0.101841], [51.509935, -0.104309], [51.516345, -0.08372], [51.517504, -0.083095], [51.517592, -0.082947], [51.513404, -0.096383], [51.514392, -0.07429], [51.512993, -0.104326], [51.513919, -0.083822], [51.510282, -0.086857], [51.512187, -0.093407], [51.510899, -0.075158], [51.515815, -0.100894], [51.510839, -0.10456], [51.51285, -0.084443], [51.510898, -0.102684], [51.512477, -0.105789], [51.515936, -0.080711], [51.509766, -0.08832], [51.513984, -0.104429], [51.514074, -0.104426], [51.513427, -0.081248], [51.510818, -0.08669], [51.510967, -0.112481], [51.516692, -0.105038], [51.516343, -0.083576], [51.513978, -0.087423], [51.516893, -0.089751], [51.51616, -0.094394], [51.516755, -0.081253], [51.517107, -0.080805], [51.513292, -0.083992], [51.510899, -0.086111], [51.517504, -0.083095], [51.506079, -0.08833], [51.51735, -0.090164], [51.510354, -0.091322], [51.513467, -0.089174], [51.515818, -0.101038], [51.514254, -0.104418], [51.513041, -0.090633], [51.517443, -0.084827], [51.5137, -0.092479], [51.513179, -0.09913], [51.513455, -0.088454], [51.515881, -0.104927], [51.50956, -0.086743], [51.512364, -0.104353], [51.515868, -0.082011], [51.508673, -0.087501], [51.514047, -0.108318], [51.51911, -0.087784], [51.520406, -0.079081], [51.51084, -0.11018], [51.517678, -0.104853], [51.516345, -0.08372], [51.512768, -0.095977], [51.514076, -0.10457], [51.509676, -0.088324], [51.508673, -0.087501], [51.513457, -0.088598], [51.511017, -0.087835], [51.515611, -0.104938], [51.517683, -0.105141], [51.518752, -0.087943], [51.51285, -0.084443], [51.51817, -0.113048], [51.50994, -0.104597], [51.5135, -0.09119], [51.516352, -0.084152], [51.514756, -0.085516], [51.514102, -0.106154], [51.511783, -0.085209], [51.517415, -0.105296], [51.509022, -0.081289], [51.518171, -0.079896], [51.516487, -0.081408], [51.514058, -0.103417], [51.51704, -0.087727], [51.513589, -0.091186], [51.516859, -0.098689], [51.516572, -0.103169], [51.513173, -0.104319], [51.515515, -0.082458], [51.51278, -0.096697], [51.514806, -0.083064], [51.511942, -0.100479], [51.511551, -0.087524], [51.518667, -0.104812], [51.520143, -0.085002], [51.513214, -0.090193], [51.513543, -0.088306], [51.513785, -0.075612], [51.511908, -0.103939], [51.520774, -0.090598], [51.514385, -0.073858], [51.516253, -0.08358], [51.517462, -0.080502], [51.517504, -0.083095], [51.518041, -0.110603], [51.512953, -0.09078], [51.51741, -0.082811], [51.513294, -0.089613], [51.51285, -0.084443], [51.510387, -0.104435], [51.510117, -0.093349], [51.510816, -0.086546], [51.517592, -0.082947], [51.513111, -0.094953], [51.511873, -0.085205], [51.516569, -0.103025], [51.518169, -0.079752], [51.511169, -0.097196], [51.50954, -0.079971], [51.50875, -0.081157], [51.514806, -0.083064], [51.514191, -0.083955], [51.509022, -0.081289], [51.513295, -0.084136], [51.520494, -0.078933], [51.517239, -0.088872], [51.513114, -0.095098], [51.519896, -0.097409], [51.510895, -0.108016], [51.510104, -0.087009], [51.515721, -0.10061], [51.511974, -0.102495], [51.516345, -0.089197], [51.514118, -0.107162], [51.514397, -0.096629], [51.515757, -0.097293], [51.518048, -0.111035], [51.515091, -0.089538], [51.506883, -0.088008], [51.517333, -0.105732], [51.516479, -0.103029], [51.510107, -0.087153], [51.509253, -0.08445], [51.510949, -0.072706], [51.517147, -0.088731], [51.513297, -0.084281], [51.518349, -0.079744], [51.516575, -0.08126], [51.518409, -0.105543], [51.513204, -0.089617], [51.514206, -0.073865], [51.509766, -0.08832], [51.513285, -0.089037], [51.515624, -0.100182], [51.510905, -0.103116], [51.517275, -0.096653], [51.511783, -0.085209], [51.515721, -0.084035], [51.515667, -0.080722], [51.514206, -0.073865], [51.512162, -0.086346], [51.517526, -0.106589], [51.517459, -0.080358], [51.519105, -0.087496], [51.516256, -0.083724], [51.517685, -0.105285], [51.517725, -0.107733], [51.518406, -0.105399], [51.510751, -0.093611], [51.518349, -0.079744], [51.520404, -0.078937], [51.51737, -0.096938], [51.511783, -0.085209], [51.516248, -0.083292], [51.51702, -0.080953], [51.513986, -0.104573], [51.512141, -0.08505], [51.517734, -0.10831], [51.518586, -0.105391], [51.514283, -0.089572], [51.513986, -0.104573], [51.515953, -0.081719], [51.509542, -0.080115], [51.516952, -0.10445], [51.509364, -0.085743], [51.516194, -0.102032], [51.517685, -0.105285], [51.517141, -0.105019], [51.515157, -0.104669], [51.509352, -0.085022], [51.514086, -0.105146], [51.517635, -0.096639], [51.51604, -0.081571], [51.512736, -0.088484], [51.513467, -0.089174], [51.512189, -0.093551], [51.512556, -0.105065], [51.513323, -0.080388], [51.51276, -0.084447], [51.511812, -0.098034], [51.517635, -0.107737], [51.510369, -0.086709], [51.515067, -0.104673], [51.517948, -0.088265], [51.515239, -0.098612], [51.510017, -0.087156], [51.513192, -0.088897], [51.516653, -0.10821], [51.510599, -0.08425], [51.513896, -0.076905], [51.509537, -0.079827], [51.513247, -0.086733], [51.517291, -0.086563], [51.513295, -0.084136], [51.512076, -0.103212], [51.510897, -0.085967], [51.50257, -0.149859], [51.488018, -0.128266], [51.498461, -0.157374], [51.508774, -0.155516], [51.514984, -0.144456], [51.508128, -0.126145], [51.511006, -0.131791], [51.500061, -0.127772], [51.496587, -0.141169], [51.523659, -0.14713], [51.487761, -0.140376], [51.535895, -0.176193], [51.51497, -0.143592], [51.49209, -0.146826], [51.499641, -0.129662], [51.514336, -0.14895], [51.514496, -0.142025], [51.515505, -0.154668], [51.524394, -0.176797], [51.510958, -0.157158], [51.515607, -0.138377], [51.514717, -0.173292], [51.519799, -0.158963], [51.512082, -0.131603], [51.506014, -0.151593], [51.527586, -0.197141], [51.522848, -0.147019], [51.50133, -0.151062], [51.496093, -0.144071], [51.489327, -0.131381], [51.509676, -0.132998], [51.514807, -0.144607], [51.52203, -0.157864], [51.513126, -0.129398], [51.530994, -0.184896], [51.521522, -0.142749], [51.511854, -0.128586], [51.485663, -0.149824], [51.494777, -0.129141], [51.499213, -0.147978], [51.505445, -0.138359], [51.522113, -0.157428], [51.514943, -0.141863], [51.512515, -0.130576], [51.513557, -0.15662], [51.499033, -0.147985], [51.514495, -0.147646], [51.519607, -0.187078], [51.524402, -0.200583], [51.494802, -0.136344], [51.515219, -0.142284], [51.501422, -0.151202], [51.512513, -0.130432], [51.513084, -0.115564], [51.5217, -0.159751], [51.531649, -0.174921], [51.507441, -0.12819], [51.498475, -0.135473], [51.489761, -0.141735], [51.51276, -0.128981], [51.507881, -0.133216], [51.523973, -0.144235], [51.495256, -0.125376], [51.529371, -0.167227], [51.496651, -0.145201], [51.509181, -0.124516], [51.509218, -0.132441], [51.513586, -0.141342], [51.521282, -0.161786], [51.519997, -0.177405], [51.512259, -0.182902], [51.528332, -0.181397], [51.514855, -0.142011], [51.515735, -0.175125], [51.512846, -0.162846], [51.517492, -0.166695], [51.498033, -0.147306], [51.506338, -0.143654], [51.506983, -0.122013], [51.488473, -0.145532], [51.496419, -0.141896], [51.512852, -0.129121], [51.508849, -0.1375], [51.501648, -0.165602], [51.501758, -0.166894], [51.510956, -0.180072], [51.507262, -0.128198], [51.495954, -0.135288], [51.495454, -0.137758], [51.513476, -0.1572], [51.508174, -0.129025], [51.510243, -0.157475], [51.501604, -0.151339], [51.505775, -0.130852], [51.514176, -0.150254], [51.514255, -0.14953], [51.514692, -0.137405], [51.516572, -0.142518], [51.521525, -0.160046], [51.515958, -0.126544], [51.497306, -0.152522], [51.514831, -0.157578], [51.52143, -0.159762], [51.509969, -0.134428], [51.515446, -0.133915], [51.508057, -0.1273], [51.521449, -0.172446], [51.51491, -0.162619], [51.517462, -0.182119], [51.509956, -0.156333], [51.520867, -0.163965], [51.522799, -0.201655], [51.515374, -0.140693], [51.523826, -0.192389], [51.493737, -0.137251], [51.519999, -0.171783], [51.536167, -0.176327], [51.514825, -0.162911], [51.525492, -0.195494], [51.51212, -0.162443], [51.500844, -0.126155], [51.513219, -0.140924], [51.533555, -0.187678], [51.502608, -0.152307], [51.50945, -0.135746], [51.515213, -0.141852], [51.497886, -0.14371], [51.485484, -0.144213], [51.49851, -0.132014], [51.505778, -0.130996], [51.506078, -0.144241], [51.517316, -0.155459], [51.514364, -0.156444], [51.514894, -0.144459], [51.511824, -0.132334], [51.515318, -0.154243], [51.519148, -0.169079], [51.513405, -0.158356], [51.531176, -0.185033], [51.532367, -0.186427], [51.51638, -0.130418], [51.512223, -0.169068], [51.531816, -0.185728], [51.514567, -0.146491], [51.516484, -0.142665], [51.513254, -0.160236], [51.517125, -0.183574], [51.502428, -0.152314], [51.511205, -0.155706], [51.497306, -0.152522], [51.502721, -0.153744], [51.509526, -0.134878], [51.507759, -0.131203], [51.507472, -0.141447], [51.499225, -0.143079], [51.510544, -0.182538], [51.508849, -0.1375], [51.51391, -0.156174], [51.515656, -0.158553], [51.501816, -0.170638], [51.510236, -0.185865], [51.51521, -0.141708], [51.4907, -0.149908], [51.512687, -0.141378], [51.510483, -0.11596], [51.529279, -0.167087], [51.523886, -0.144382], [51.495255, -0.153613], [51.510043, -0.133416], [51.514902, -0.133649], [51.505559, -0.122936], [51.514915, -0.162907], [51.521267, -0.138002], [51.50888, -0.145136], [51.497397, -0.146899], [51.512416, -0.118763], [51.496432, -0.14276], [51.50734, -0.121854], [51.514107, -0.151554], [51.495187, -0.149294], [51.503203, -0.150122], [51.489979, -0.132795], [51.516247, -0.161845], [51.539667, -0.175898], [51.520873, -0.164397], [51.513319, -0.113393], [51.504596, -0.147183], [51.514176, -0.150254], [51.516225, -0.13201], [51.515127, -0.142144], [51.513184, -0.116137], [51.513847, -0.129513], [51.514892, -0.144315], [51.500824, -0.124859], [51.51123, -0.157291], [51.521308, -0.198254], [51.518606, -0.197929], [51.530507, -0.176697], [51.513759, -0.186878], [51.510739, -0.120705], [51.521813, -0.17272], [51.500824, -0.124859], [51.518186, -0.170847], [51.52476, -0.165682], [51.515409, -0.160005], [51.51593, -0.136058], [51.521801, -0.166234], [51.537929, -0.168181], [51.515366, -0.134495], [51.513514, -0.153884], [51.514813, -0.133653], [51.520754, -0.145374], [51.492301, -0.137454], [51.515275, -0.191862], [51.501598, -0.162434], [51.51599, -0.134182], [51.513113, -0.145541], [51.507356, -0.128482], [51.51804, -0.16725], [51.506338, -0.143654], [51.511817, -0.098322], [51.486725, -0.137393], [51.531752, -0.181549], [51.523369, -0.19774], [51.512298, -0.168057], [51.517256, -0.168867], [51.514369, -0.174027], [51.496219, -0.12937], [51.525668, -0.171989], [51.506363, -0.122614], [51.509783, -0.156773], [51.520105, -0.178554], [51.50017, -0.140303], [51.523145, -0.177424], [51.505815, -0.144684], [51.497981, -0.143994], [51.506983, -0.127633], [51.518021, -0.189159], [51.50075, -0.120252], [51.512515, -0.158968], [51.515536, -0.139533], [51.523098, -0.151478], [51.530096, -0.16763], [51.489599, -0.131514], [51.487854, -0.140516], [51.494617, -0.141682], [51.532023, -0.18745], [51.515895, -0.150905], [51.503104, -0.149549], [51.513788, -0.154161], [51.496091, -0.143927], [51.517416, -0.133403], [51.514638, -0.162486], [51.525118, -0.188733], [51.51489, -0.144171], [51.488576, -0.129395], [51.515374, -0.140693], [51.490054, -0.154543], [51.505775, -0.130852], [51.50116, -0.129024], [51.514105, -0.15141], [51.515609, -0.138521], [51.522938, -0.158404], [51.498178, -0.145139], [51.487688, -0.141387], [51.513236, -0.159083], [51.510773, -0.134106], [51.497399, -0.135661], [51.518076, -0.146636], [51.498461, -0.157374], [51.507641, -0.140719], [51.49267, -0.138015], [51.511476, -0.133069], [51.516806, -0.145967], [51.520682, -0.180982], [51.517955, -0.167541], [51.50928, -0.130709], [51.51489, -0.144171], [51.516384, -0.130706], [51.50292, -0.137886], [51.517462, -0.182119], [51.525118, -0.188733], [51.521956, -0.18194], [51.514892, -0.144315], [51.532648, -0.164067], [51.507295, -0.141598], [51.487369, -0.143993], [51.501354, -0.124261], [51.514576, -0.147067], [51.497486, -0.135514], [51.508508, -0.127426], [51.522028, -0.15772], [51.506689, -0.143064], [51.497348, -0.149494], [51.507363, -0.128914], [51.516942, -0.165996], [51.511315, -0.128608], [51.520112, -0.178986], [51.499547, -0.129378], [51.50013, -0.126473], [51.517564, -0.120136], [51.488581, -0.129683], [51.51599, -0.134182], [51.508186, -0.124125], [51.497078, -0.138124], [51.51364, -0.156184], [51.504485, -0.123268], [51.506266, -0.15043], [51.507115, -0.152989], [51.51473, -0.145475], [51.527328, -0.174662], [51.515769, -0.171521], [51.518183, -0.14202], [51.517372, -0.182122], [51.507901, -0.140132], [51.513638, -0.15604], [51.513243, -0.159515], [51.48995, -0.142303], [51.520988, -0.171744], [51.517118, -0.142928], [51.50987, -0.122614], [51.511165, -0.113626], [51.498569, -0.141377], [51.514638, -0.162486], [51.497733, -0.134063], [51.500596, -0.155847], [51.507633, -0.128903], [51.494802, -0.125106], [51.513317, -0.113249], [51.504808, -0.126569], [51.525672, -0.195487], [51.501632, -0.164594], [51.509951, -0.133275], [51.517462, -0.182119], [51.513324, -0.130543], [51.526303, -0.207284], [51.520393, -0.191371], [51.531642, -0.203613], [51.510043, -0.133416], [51.510169, -0.187309], [51.510083, -0.187601], [51.521738, -0.1622], [51.499225, -0.143079], [51.520878, -0.164685], [51.501806, -0.152772], [51.50716, -0.121861], [51.494892, -0.125103], [51.522383, -0.174715], [51.505983, -0.126953], [51.510771, -0.133962], [51.48923, -0.130953], [51.529418, -0.170253], [51.490813, -0.134345], [51.490997, -0.134626], [51.517648, -0.153716], [51.503694, -0.135693], [51.509695, -0.12853], [51.52103, -0.157183], [51.514809, -0.144751], [51.526176, -0.193161], [51.526452, -0.193582], [51.516318, -0.154923], [51.51909, -0.148181], [51.51924, -0.169219], [51.514162, -0.143624], [51.492672, -0.138159], [51.513468, -0.203032], [51.506482, -0.135723], [51.512601, -0.130285], [51.495174, -0.142811], [51.507383, -0.14145], [51.502141, -0.156937], [51.493224, -0.144619], [51.514968, -0.143448], [51.521934, -0.146047], [51.533465, -0.187681], [51.514816, -0.145183], [51.508391, -0.125701], [51.517169, -0.169014], [51.522025, -0.157576], [51.507973, -0.133356], [51.512504, -0.118615], [51.505893, -0.126957], [51.504673, -0.15208], [51.523156, -0.149457], [51.523005, -0.145571], [51.518515, -0.151663], [51.512008, -0.138235], [51.502155, -0.123796], [51.51458, -0.135969], [51.50849, -0.131894], [51.526499, -0.179164], [51.514026, -0.152133], [51.50928, -0.130709], [51.505173, -0.138226], [51.521453, -0.161202], [51.504924, -0.150917], [51.504575, -0.123264], [51.518015, -0.182962], [51.492207, -0.13717], [51.495016, -0.132877], [51.5173, -0.143064], [51.517443, -0.175057], [51.493416, -0.139713], [51.51021, -0.138309], [51.519238, -0.169075], [51.519465, -0.177859], [51.51629, -0.130422], [51.527393, -0.184607], [51.509409, -0.127533], [51.509718, -0.11873], [51.527204, -0.195715], [51.513584, -0.141198], [51.516755, -0.165572], [51.521406, -0.192917], [51.513586, -0.141342], [51.529408, -0.186977], [51.513784, -0.153873], [51.511518, -0.175726], [51.522569, -0.157842], [51.513897, -0.110198], [51.50215, -0.157513], [51.514855, -0.142011], [51.520884, -0.159351], [51.523636, -0.197586], [51.516218, -0.137199], [51.494524, -0.141541], [51.504508, -0.147331], [51.503576, -0.150971], [51.526208, -0.154812], [51.501655, -0.126266], [51.514569, -0.146635], [51.522832, -0.146011], [51.519932, -0.161696], [51.50849, -0.120654], [51.485597, -0.145649], [51.52534, -0.191464], [51.498403, -0.136629], [51.534244, -0.168329], [51.508568, -0.12555], [51.498231, -0.12583], [51.505948, -0.130413], [51.511539, -0.142722], [51.495652, -0.133283], [51.524408, -0.201015], [51.524081, -0.145383], [51.497303, -0.146615], [51.521361, -0.161062], [51.511165, -0.136108], [51.509826, -0.136739], [51.50928, -0.130709], [51.5237, -0.201764], [51.503543, -0.126189], [51.513945, -0.152713], [51.516138, -0.154931], [51.499855, -0.148817], [51.504575, -0.123264], [51.518687, -0.168377], [51.521813, -0.17272], [51.505685, -0.130856], [51.514915, -0.162907], [51.523867, -0.200892], [51.51489, -0.144171], [51.516149, -0.149885], [51.513586, -0.141342], [51.527493, -0.19109], [51.519803, -0.199755], [51.510594, -0.128493], [51.535292, -0.183715], [51.537839, -0.168185], [51.512101, -0.18435], [51.510061, -0.157338], [51.523068, -0.184058], [51.516061, -0.150033], [51.517462, -0.182119], [51.516112, -0.182028], [51.502076, -0.158524], [51.526854, -0.173095], [51.507023, -0.152849], [51.507731, -0.140716], [51.504944, -0.146449], [51.52636, -0.193442], [51.525776, -0.161605], [51.523932, -0.15303], [51.509405, -0.155635], [51.522025, -0.157576], [51.517659, -0.200705], [51.509962, -0.133996], [51.515273, -0.134355], [51.520435, -0.147982], [51.506862, -0.142624], [51.51521, -0.141708], [51.5243, -0.176513], [51.525633, -0.187127], [51.510166, -0.187165], [51.533237, -0.172983], [51.512732, -0.127253], [51.513214, -0.129251], [51.499971, -0.127776], [51.523252, -0.184339], [51.507361, -0.12877], [51.513589, -0.175932], [51.494788, -0.129861], [51.515136, -0.14272], [51.489973, -0.155123], [51.518515, -0.151663], [51.511552, -0.12658], [51.513659, -0.123323], [51.507759, -0.131203], [51.51984, -0.173087], [51.48962, -0.144189], [51.527993, -0.165408], [51.512864, -0.146848], [51.487832, -0.127841], [51.527408, -0.214881], [51.490559, -0.152362], [51.520763, -0.145951], [51.515409, -0.160005], [51.519664, -0.144698], [51.527588, -0.197286], [51.522113, -0.157428], [51.494619, -0.141825], [51.530365, -0.208277], [51.532624, -0.203142], [51.510953, -0.128479], [51.516297, -0.130854], [51.528373, -0.172457], [51.513124, -0.129254], [51.511123, -0.133516], [51.530546, -0.167612], [51.515217, -0.14214], [51.512781, -0.193402], [51.523902, -0.145391], [51.514428, -0.14909], [51.497346, -0.14935], [51.515036, -0.17645], [51.521078, -0.17174], [51.517995, -0.19334], [51.519253, -0.147165], [51.501917, -0.159828], [51.514105, -0.15141], [51.506805, -0.133404], [51.509352, -0.123933], [51.514576, -0.147067], [51.516968, -0.179256], [51.52404, -0.188776], [51.500202, -0.153701], [51.494533, -0.125118], [51.51152, -0.17587], [51.516301, -0.131142], [51.508564, -0.125262], [51.515516, -0.189979], [51.493747, -0.154971], [51.517806, -0.158034], [51.519902, -0.182886], [51.519212, -0.144572], [51.518824, -0.137093], [51.503131, -0.151277], [51.530606, -0.206394], [51.518435, -0.198512], [51.521805, -0.143602], [51.519714, -0.170786], [51.530121, -0.169215], [51.519497, -0.139804], [51.511788, -0.1528], [51.52179, -0.159747], [51.517107, -0.188187], [51.514336, -0.14895], [51.49471, -0.130585], [51.516225, -0.13201], [51.499855, -0.148817], [51.521608, -0.148223], [51.51425, -0.149242], [51.514268, -0.139008], [51.497214, -0.152381], [51.498249, -0.132601], [51.516141, -0.155075], [51.525832, -0.170973], [51.510817, -0.131222], [51.515516, -0.189979], [51.516474, -0.14771], [51.496089, -0.143783], [51.496093, -0.144071], [51.51234, -0.130872], [51.495876, -0.147393], [51.515397, -0.142133], [51.500812, -0.124139], [51.514949, -0.176598], [51.509402, -0.132721], [51.535538, -0.164816], [51.519666, -0.185058], [51.527779, -0.197999], [51.510997, -0.119974], [51.49807, -0.14399], [51.512152, -0.170224], [51.53397, -0.173819], [51.519979, -0.170487], [51.519071, -0.164181], [51.514105, -0.15141], [51.510957, -0.111905], [51.511808, -0.120085], [51.524623, -0.168427], [51.49461, -0.152631], [51.502894, -0.153304], [51.506181, -0.122478], [51.523194, -0.174827], [51.490608, -0.149767], [51.527591, -0.174219], [51.500872, -0.156268], [51.51403, -0.124029], [51.513705, -0.154596], [51.502229, -0.156789], [51.506644, -0.123323], [51.514086, -0.161643], [51.515476, -0.130167], [51.519634, -0.188807], [51.519253, -0.147165], [51.519925, -0.178561], [51.500842, -0.126011], [51.518181, -0.199531], [51.511022, -0.149805], [51.527595, -0.145817], [51.50716, -0.121861], [51.515033, -0.141859], [51.514573, -0.146923], [51.51122, -0.128324], [51.505539, -0.138643], [51.514894, -0.144459], [51.529095, -0.201695], [51.509706, -0.134871], [51.535098, -0.148252], [51.515452, -0.139969], [51.510283, -0.154302], [51.511163, -0.119102], [51.512853, -0.140507], [51.50716, -0.121861], [51.513113, -0.145541], [51.513889, -0.149112], [51.515686, -0.137653], [51.518753, -0.132627], [51.533463, -0.187537], [51.514391, -0.129779], [51.533147, -0.172987], [51.51413, -0.141608], [51.514892, -0.144315], [51.508506, -0.127282], [51.513396, -0.15778], [51.51771, -0.169137], [51.523932, -0.15303], [51.522025, -0.157576], [51.514083, -0.161499], [51.511369, -0.17775], [51.518321, -0.167959], [51.517051, -0.144372], [51.486123, -0.150525], [51.50598, -0.166581], [51.509273, -0.135897], [51.50059, -0.149795], [51.5014, -0.161289], [51.513633, -0.149987], [51.53286, -0.166078], [51.50636, -0.13933], [51.507577, -0.131067], [51.528897, -0.171427], [51.510483, -0.11596], [51.51611, -0.181884], [51.513702, -0.148688], [51.500934, -0.126152], [51.52356, -0.175245], [51.500844, -0.126155], [51.519666, -0.144842], [51.511815, -0.131758], [51.516755, -0.165572], [51.490156, -0.132644], [51.532593, -0.189446], [51.522779, -0.125687], [51.502974, -0.152725], [51.516585, -0.149003], [51.501578, -0.161138], [51.507806, -0.203254], [51.507528, -0.139283], [51.523162, -0.184342], [51.511762, -0.128445], [51.516161, -0.133598], [51.523423, -0.183755], [51.521723, -0.172724], [51.510865, -0.111765], [51.515136, -0.14272], [51.536167, -0.176327], [51.516574, -0.142662], [51.493977, -0.14675], [51.521291, -0.162362], [51.497512, -0.12586], [51.515926, -0.164308], [51.500814, -0.124283], [51.513402, -0.158212], [51.510969, -0.123866], [51.516562, -0.147563], [51.507075, -0.127773], [51.527873, -0.198283], [51.512859, -0.118312], [51.525252, -0.179934], [51.5156, -0.137945], [51.509971, -0.134572], [51.510391, -0.12706], [51.506983, -0.127633], [51.514182, -0.156307], [51.507881, -0.133216], [51.520186, -0.160677], [51.520433, -0.159225], [51.510261, -0.135857], [51.53283, -0.204864], [51.512112, -0.150481], [51.489447, -0.156008], [51.526365, -0.19373], [51.496743, -0.145341], [51.518221, -0.155855], [51.534248, -0.174385], [51.524671, -0.148531], [51.515005, -0.162903], [51.522848, -0.147019], [51.521045, -0.141038], [51.515995, -0.13447], [51.515748, -0.1303], [51.508592, -0.143995], [51.518693, -0.197781], [51.511822, -0.13219], [51.518021, -0.189159], [51.521588, -0.193054], [51.512409, -0.157964], [51.523809, -0.14525], [51.519394, -0.184925], [51.511824, -0.132334], [51.53567, -0.156015], [51.513786, -0.154017], [51.515992, -0.134326], [51.51638, -0.130418], [51.515049, -0.142868], [51.511702, -0.176007], [51.499855, -0.148817], [51.496127, -0.134849], [51.535443, -0.164532], [51.507248, -0.121713], [51.493055, -0.139584], [51.514454, -0.15644], [51.505263, -0.138222], [51.488576, -0.129395], [51.501549, -0.16503], [51.516554, -0.141365], [51.514486, -0.14707], [51.522516, -0.148762], [51.500395, -0.126174], [51.513766, -0.141335], [51.525924, -0.171114], [51.510779, -0.151544], [51.514484, -0.146926], [51.510652, -0.093038], [51.513494, -0.141202], [51.515056, -0.1433], [51.525675, -0.178188], [51.490685, -0.126284], [51.506924, -0.140893], [51.528076, -0.205628], [51.515903, -0.157102], [51.522194, -0.156848], [51.513746, -0.123176], [51.500754, -0.126159], [51.530191, -0.167915], [51.514573, -0.146923], [51.514997, -0.156706], [51.508946, -0.132308], [51.515657, -0.152932], [51.531682, -0.177083], [51.506541, -0.122463], [51.488419, -0.13646], [51.510623, -0.181815], [51.538452, -0.178687], [51.528595, -0.163654], [51.49461, -0.152631], [51.51825, -0.140575], [51.48602, -0.132669], [51.494706, -0.141678], [51.501497, -0.179008], [51.487958, -0.130141], [51.513115, -0.117437], [51.519871, -0.169338], [51.51629, -0.130422], [51.512307, -0.140097], [51.513865, -0.153293], [51.502025, -0.172503], [51.508487, -0.13175], [51.51915, -0.169223], [51.491905, -0.140783], [51.506529, -0.127363], [51.51629, -0.130422], [51.514502, -0.16523], [51.510055, -0.145521], [51.513643, -0.156329], [51.518015, -0.182962], [51.512198, -0.144569], [51.52476, -0.165682], [51.534062, -0.179727], [51.52255, -0.173844], [51.511904, -0.171675], [51.502089, -0.142242], [51.518503, -0.168096], [51.516221, -0.131722], [51.505916, -0.122777], [51.493005, -0.12518], [51.517473, -0.188604], [51.511313, -0.128464], [51.505254, -0.132026], [51.499855, -0.148817], [51.513994, -0.161503], [51.521408, -0.193061], [51.500508, -0.12761], [51.520122, -0.145256], [51.534803, -0.163837], [51.516216, -0.131434], [51.514484, -0.146926], [51.514807, -0.144607], [51.500909, -0.124568], [51.514301, -0.129783], [51.528069, -0.18184], [51.53168, -0.171171], [51.493603, -0.140138], [51.511492, -0.128456], [51.522873, -0.194733], [51.514495, -0.147646], [51.533462, -0.175858], [51.502046, -0.173799], [51.50922, -0.132585], [51.515913, -0.174974], [51.506303, -0.170026], [51.520442, -0.165568], [51.525322, -0.167101], [51.512488, -0.128848], [51.523529, -0.167462], [51.516772, -0.155193], [51.516223, -0.148874], [51.514259, -0.149818], [51.494079, -0.147466], [51.499544, -0.129234], [51.492953, -0.138868], [51.519657, -0.184482], [51.506842, -0.124468], [51.516719, -0.146115], [51.512473, -0.167761], [51.514573, -0.129916], [51.507695, -0.127171], [51.530674, -0.170058], [51.503397, -0.150978], [51.508704, -0.134047], [51.519793, -0.170062], [51.521935, -0.157579], [51.507925, -0.130332], [51.492013, -0.141931], [51.516501, -0.160825], [51.511829, -0.127002], [51.539398, -0.175909], [51.503499, -0.123453], [51.49608, -0.143207], [51.525295, -0.171139], [51.516482, -0.142521], [51.50977, -0.150288], [51.512341, -0.142257], [51.485597, -0.145649], [51.515736, -0.152208], [51.507383, -0.14145], [51.492163, -0.140053], [51.524463, -0.158198], [51.499048, -0.14323], [51.503611, -0.136128], [51.498863, -0.125948], [51.492672, -0.138159], [51.515795, -0.161719], [51.515836, -0.164311], [51.521974, -0.165794], [51.512949, -0.118308], [51.50645, -0.139327], [51.512211, -0.134048], [51.523042, -0.194005], [51.523511, -0.160543], [51.510344, -0.187014], [51.504895, -0.126421], [51.53572, -0.164953], [51.514182, -0.127914], [51.495776, -0.135439], [51.510298, -0.138161], [51.493695, -0.140278], [51.533597, -0.167201], [51.531404, -0.17075], [51.519669, -0.144986], [51.512241, -0.175985], [51.494162, -0.14703], [51.530507, -0.176697], [51.528872, -0.210643], [51.522799, -0.201655], [51.514337, -0.177775], [51.529636, -0.201818], [51.517289, -0.188323], [51.534472, -0.188795], [51.510031, -0.190053], [51.493414, -0.13957], [51.534154, -0.1741], [51.526303, -0.207284], [51.513945, -0.152713], [51.505685, -0.130856], [51.512422, -0.141677], [51.487362, -0.143561], [51.522941, -0.152926], [51.509897, -0.135583], [51.530718, -0.184474], [51.515037, -0.142148], [51.511736, -0.132482], [51.519596, -0.151764], [51.505427, -0.131587], [51.513784, -0.153873], [51.501479, -0.177856], [51.513638, -0.15604], [51.515134, -0.142576], [51.502734, -0.126222], [51.528142, -0.174917], [51.524893, -0.203303], [51.523268, -0.197024], [51.501084, -0.124272], [51.50442, -0.147479], [51.516551, -0.141221], [51.525675, -0.178188], [51.490065, -0.126885], [51.514377, -0.151543], [51.505287, -0.145426], [51.522362, -0.15612], [51.520968, -0.170447], [51.496881, -0.125741], [51.523932, -0.15303], [51.523648, -0.19254], [51.513414, -0.13054], [51.489449, -0.150391], [51.520214, -0.156784], [51.510955, -0.157013], [51.507605, -0.127175], [51.507573, -0.130779], [51.497981, -0.143994], [51.519963, -0.175244], [51.538488, -0.169456], [51.490785, -0.149616], [51.521037, -0.163381], [51.516297, -0.130854], [51.528856, -0.14591], [51.49463, -0.125546], [51.520854, -0.192074], [51.498075, -0.144278], [51.520709, -0.165413], [51.522935, -0.152493], [51.506848, -0.153144], [51.510943, -0.150529], [51.513474, -0.157056], [51.513864, -0.1249], [51.522028, -0.15772], [51.511313, -0.128464], [51.508242, -0.138965], [51.509778, -0.128094], [51.512945, -0.140647], [51.509688, -0.128098], [51.50972, -0.118874], [51.501925, -0.126255], [51.493225, -0.150382], [51.51623, -0.132298], [51.515202, -0.135511], [51.526522, -0.163305], [51.509863, -0.156193], [51.502138, -0.168176], [51.520008, -0.178125], [51.525845, -0.195048], [51.509676, -0.132998], [51.509241, -0.12264], [51.500665, -0.126163], [51.513297, -0.117573], [51.500141, -0.127193], [51.506644, -0.123323], [51.534246, -0.174241], [51.514892, -0.144315], [51.5149, -0.133505], [51.517292, -0.182702], [51.520253, -0.170764], [51.52292, -0.17455], [51.50083, -0.125291], [51.51629, -0.130422], [51.521208, -0.162798], [51.526111, -0.171539], [51.500327, -0.138856], [51.505773, -0.130708], [51.513561, -0.134137], [51.53366, -0.165469], [51.545126, -0.134144], [51.524578, -0.177078], [51.511371, -0.154835], [51.511647, -0.132485], [51.508942, -0.154789], [51.536169, -0.182239], [51.509188, -0.136189], [51.516354, -0.186054], [51.516139, -0.166461], [51.506862, -0.142624], [51.511317, -0.134372], [51.505284, -0.150902], [51.501977, -0.152189], [51.502154, -0.152037], [51.522736, -0.174269], [51.512688, -0.164294], [51.510312, -0.116543], [51.521404, -0.192773], [51.523062, -0.195302], [51.514895, -0.173141], [51.53443, -0.174522], [51.507425, -0.121562], [51.488018, -0.128266], [51.496881, -0.125741], [51.519703, -0.170066], [51.490422, -0.126727], [51.492405, -0.1726], [51.51584, -0.136061], [51.510958, -0.157158], [51.531083, -0.202338], [51.497118, -0.146334], [51.495888, -0.125494], [51.501578, -0.161138], [51.514995, -0.156562], [51.510414, -0.156891], [51.510616, -0.135554], [51.537836, -0.168041], [51.505775, -0.130852], [51.515444, -0.133771], [51.496289, -0.145071], [51.52255, -0.173844], [51.524668, -0.177075], [51.491008, -0.234022], [51.513633, -0.155752], [51.516496, -0.160537], [51.51425, -0.149242], [51.525585, -0.178191], [51.521928, -0.151381], [51.519419, -0.186509], [51.512884, -0.114275], [51.519399, -0.156384], [51.51647, -0.170339], [51.51243, -0.130868], [51.509688, -0.128098], [51.487524, -0.142402], [51.515925, -0.13577], [51.499284, -0.129821], [51.512198, -0.144569], [51.516562, -0.17048], [51.515903, -0.157102], [51.520468, -0.155765], [51.51924, -0.169219], [51.512191, -0.127131], [51.500406, -0.149515], [51.523023, -0.158112], [51.520393, -0.191371], [51.51647, -0.170339], [51.496424, -0.194049], [51.500989, -0.123988], [51.507991, -0.140129], [51.513633, -0.155752], [51.515039, -0.194034], [51.512221, -0.168924], [51.488666, -0.129392], [51.517123, -0.183429], [51.517735, -0.193927], [51.534066, -0.162713], [51.521801, -0.166234], [51.550193, -0.205335], [51.509091, -0.12452], [51.50707, -0.127485], [51.517166, -0.123323], [51.513638, -0.15604], [51.510576, -0.144347], [51.500754, -0.126159], [51.509969, -0.134428], [51.511435, -0.176162], [51.506748, -0.146808], [51.522644, -0.174128], [51.51382, -0.156177], [51.522603, -0.160003], [51.522028, -0.15772], [51.513784, -0.153873], [51.488613, -0.154458], [51.496167, -0.143059], [51.493322, -0.139429], [51.504904, -0.138237], [51.534062, -0.191406], [51.512929, -0.16241], [51.490064, -0.132503], [51.493135, -0.139005], [51.488299, -0.128974], [51.498043, -0.153644], [51.511349, -0.147774], [51.51629, -0.130422], [51.510868, -0.157161], [51.516471, -0.187779], [51.500002, -0.14103], [51.497981, -0.143994], [51.51545, -0.139825], [51.518282, -0.153979], [51.512073, -0.170948], [51.512642, -0.127256], [51.527591, -0.174219], [51.534152, -0.168188], [51.510383, -0.183698], [51.520161, -0.170624], [51.514261, -0.167113], [51.520393, -0.191371], [51.522766, -0.153221], [51.520044, -0.174665], [51.501332, -0.151206], [51.505376, -0.151042], [51.52636, -0.193442], [51.496881, -0.125741], [51.509897, -0.135583], [51.516472, -0.147566], [51.514896, -0.144603], [51.510043, -0.133416], [51.513037, -0.140788], [51.509402, -0.132721], [51.501917, -0.159828], [51.492672, -0.138159], [51.510504, -0.128497], [51.523562, -0.198598], [51.523973, -0.144235], [51.514369, -0.174027], [51.519756, -0.144838], [51.520186, -0.149289], [51.514105, -0.15141], [51.52534, -0.191464], [51.500716, -0.140713], [51.529465, -0.167512], [51.522935, -0.152493], [51.51523, -0.131618], [51.521954, -0.158732], [51.500665, -0.126163], [51.510686, -0.128634], [51.509128, -0.132444], [51.514086, -0.161643], [51.506451, -0.122467], [51.513184, -0.116137], [51.514336, -0.14895], [51.521875, -0.159456], [51.522113, -0.157428], [51.50288, -0.15244], [51.511169, -0.182225], [51.509946, -0.190344], [51.513232, -0.130403], [51.497157, -0.1374], [51.504468, -0.150503], [51.51647, -0.170339], [51.531934, -0.210955], [51.516494, -0.166159], [51.515907, -0.15739], [51.515562, -0.175564], [51.528858, -0.146054], [51.501878, -0.140233], [51.502082, -0.170339], [51.496249, -0.125623], [51.507198, -0.107449], [51.496777, -0.1305], [51.517488, -0.172172], [51.502339, -0.152318], [51.510946, -0.133667], [51.514069, -0.143484], [51.5217, -0.159751], [51.510566, -0.115524], [51.510149, -0.13442], [51.495992, -0.143354], [51.508213, -0.125853], [51.515825, -0.175122], [51.512242, -0.187659], [51.513079, -0.160531], [51.500342, -0.162629], [51.509985, -0.135436], [51.532173, -0.191337], [51.514663, -0.158305], [51.510393, -0.121584], [51.511354, -0.176741], [51.519553, -0.189387], [51.49671, -0.131944], [51.519797, -0.158819], [51.514427, -0.177772], [51.485753, -0.14982], [51.498137, -0.153929], [51.522109, -0.162906], [51.522939, -0.152782], [51.510867, -0.111909], [51.510849, -0.138859], [51.494275, -0.154229], [51.511354, -0.176741], [51.51589, -0.144851], [51.505685, -0.130856], [51.519832, -0.189952], [51.495859, -0.140622], [51.522875, -0.194877], [51.506801, -0.127496], [51.501749, -0.160555], [51.517126, -0.166277], [51.519912, -0.171931], [51.535024, -0.189638], [51.522018, -0.157143], [51.502113, -0.172355], [51.516041, -0.171654], [51.495009, -0.172352], [51.528554, -0.207483], [51.496688, -0.141885], [51.522297, -0.157709], [51.492093, -0.141352], [51.516411, -0.195565], [51.51945, -0.188526], [51.501563, -0.126126], [51.488091, -0.13849], [51.515122, -0.193598], [51.511077, -0.136256], [51.506924, -0.140893], [51.506841, -0.152712], [51.508483, -0.125842], [51.511476, -0.133069], [51.495255, -0.153613], [51.513494, -0.158352], [51.512531, -0.131585], [51.513707, -0.154741], [51.508391, -0.125701], [51.51527, -0.174135], [51.513126, -0.129398], [51.526867, -0.179726], [51.520884, -0.159351], [51.530268, -0.201937], [51.514338, -0.149094], [51.508501, -0.126994], [51.513595, -0.187894], [51.498033, -0.147306], [51.513812, -0.178661], [51.532277, -0.233578], [51.51373, -0.156181], [51.502383, -0.149435], [51.506686, -0.14292], [51.514896, -0.144603], [51.512763, -0.140511], [51.532231, -0.177637], [51.524396, -0.165409], [51.515217, -0.14214], [51.5254, -0.17791], [51.494802, -0.125106], [51.50833, -0.138818], [51.526854, -0.173095], [51.506801, -0.127496], [51.506538, -0.122319], [51.497886, -0.14371], [51.519666, -0.144842], [51.513784, -0.153873], [51.513793, -0.154449], [51.503309, -0.151126], [51.500406, -0.132513], [51.492851, -0.14377], [51.494261, -0.147603], [51.493138, -0.139149], [51.520899, -0.143206], [51.520214, -0.156784], [51.519756, -0.144838], [51.51276, -0.128981], [51.502053, -0.139938], [51.512416, -0.118763], [51.517588, -0.155593], [51.512601, -0.130285], [51.510995, -0.11983], [51.497484, -0.13537], [51.502073, -0.141234], [51.523239, -0.149021], [51.537688, -0.193281], [51.514075, -0.172453], [51.531083, -0.202338], [51.52103, -0.157183], [51.519256, -0.147309], [51.51425, -0.149242], [51.506985, -0.122157], [51.51602, -0.164592], [51.489535, -0.155861], [51.488644, -0.139332], [51.502434, -0.146983], [51.501049, -0.127732], [51.513479, -0.11771], [51.518872, -0.168658], [51.492207, -0.13717], [51.51629, -0.130422], [51.525857, -0.178325], [51.513034, -0.129258], [51.514088, -0.161787], [51.51418, -0.179223], [51.512933, -0.162699], [51.526111, -0.171539], [51.508508, -0.127426], [51.514573, -0.146923], [51.500869, -0.15036], [51.507938, -0.153821], [51.507518, -0.121702], [51.516022, -0.182032], [51.515654, -0.164174], [51.525592, -0.201978], [51.521781, -0.164937], [51.512635, -0.166602], [51.527595, -0.145817], [51.510045, -0.13356], [51.512686, -0.129993], [51.513631, -0.155608], [51.511437, -0.176306], [51.512515, -0.158968], [51.503611, -0.136128], [51.507573, -0.130779], [51.511944, -0.128582], [51.520878, -0.164685], [51.505722, -0.13878], [51.5154, -0.194164], [51.525868, -0.161745], [51.514179, -0.150398], [51.499404, -0.12607], [51.501576, -0.160994], [51.51584, -0.136061], [51.514578, -0.147211], [51.525445, -0.204146], [51.524235, -0.201454], [51.496024, -0.14537], [51.516, -0.174826], [51.511343, -0.119095], [51.497955, -0.153792], [51.536347, -0.176319], [51.496167, -0.143059], [51.515938, -0.142255], [51.527766, -0.197134], [51.512616, -0.136914], [51.517554, -0.182259], [51.502257, -0.147134], [51.53315, -0.173131], [51.50747, -0.141303], [51.520217, -0.156928], [51.513788, -0.154161], [51.535895, -0.176193], [51.528088, -0.165693], [51.521455, -0.161346], [51.527588, -0.197286], [51.514571, -0.146779], [51.528277, -0.189473], [51.505904, -0.138917], [51.49461, -0.152631], [51.51458, -0.164506], [51.51364, -0.156184], [51.493546, -0.125302], [51.512506, -0.118759], [51.507791, -0.13322], [51.521145, -0.16453], [51.492951, -0.138724], [51.514179, -0.150398], [51.512951, -0.118452], [51.497434, -0.154966], [51.522443, -0.155541], [51.51208, -0.131459], [51.509368, -0.11932], [51.50721, -0.14189], [51.525169, -0.18037], [51.522969, -0.195162], [51.502425, -0.123785], [51.514176, -0.150254], [51.52177, -0.169983], [51.51699, -0.157635], [51.52746, -0.183162], [51.485276, -0.136732], [51.521954, -0.158732], [51.537156, -0.176287], [51.492672, -0.138159], [51.49363, -0.141866], [51.508348, -0.151354], [51.511133, -0.128471], [51.513096, -0.121905], [51.506983, -0.127633], [51.515748, -0.1303], [51.512356, -0.160272], [51.512688, -0.130137], [51.516294, -0.13071], [51.511223, -0.128468], [51.521222, -0.192636], [51.509312, -0.132725], [51.514017, -0.140171], [51.515325, -0.154675], [51.51698, -0.168445], [51.514097, -0.168128], [51.505461, -0.150751], [51.531314, -0.170753], [51.515992, -0.134326], [51.503144, -0.123755], [51.515056, -0.195186], [51.499855, -0.148817], [51.512383, -0.167765], [51.500722, -0.124143], [51.488554, -0.150715], [51.516175, -0.174531], [51.488587, -0.135733], [51.53051, -0.165307], [51.514399, -0.141597], [51.522078, -0.201539], [51.502716, -0.153456], [51.513869, -0.153581], [51.51311, -0.145397], [51.504593, -0.147039], [51.505104, -0.150909], [51.511112, -0.149801], [51.512681, -0.118463], [51.513929, -0.140319], [51.511487, -0.13941], [51.523669, -0.199747], [51.513003, -0.161399], [51.521132, -0.169432], [51.51629, -0.130422], [51.494055, -0.151645], [51.48935, -0.15558], [51.51647, -0.170339], [51.523882, -0.178547], [51.518372, -0.153975], [51.497213, -0.146618], [51.51497, -0.143592], [51.534248, -0.174385], [51.496665, -0.140446], [51.519396, -0.185069], [51.516302, -0.142528], [51.527594, -0.215306], [51.516297, -0.130854], [51.510958, -0.157158], [51.509527, -0.123637], [51.510839, -0.143904], [51.514419, -0.148514], [51.491182, -0.134907], [51.526409, -0.179167], [51.525403, -0.178054], [51.528242, -0.181401], [51.509956, -0.156333], [51.514896, -0.144603], [51.512149, -0.158551], [51.516532, -0.128682], [51.525859, -0.178469], [51.508596, -0.127278], [51.522939, -0.152782], [51.516213, -0.142532], [51.535621, -0.181684], [51.520761, -0.191933], [51.515476, -0.130167], [51.516407, -0.172071], [51.512383, -0.167765], [51.511085, -0.119826], [51.517256, -0.168867], [51.501749, -0.160555], [51.528332, -0.181397], [51.520251, -0.17062], [51.512383, -0.167765], [51.522043, -0.158728], [51.513491, -0.175359], [51.497756, -0.146885], [51.520002, -0.171928], [51.51982, -0.171791], [51.507517, -0.132943], [51.514086, -0.161643], [51.506586, -0.147967], [51.502046, -0.150889], [51.510457, -0.182686], [51.511403, -0.12846], [51.513869, -0.153581], [51.509868, -0.128091], [51.509264, -0.12408], [51.521933, -0.157435], [51.536063, -0.146771], [51.539723, -0.094563], [51.538513, -0.194258], [51.524913, -0.12978], [51.517152, -0.122459], [51.527761, -0.127934], [51.546311, -0.146499], [51.540189, -0.140402], [51.563935, -0.175071], [51.551196, -0.125673], [51.54667, -0.118215], [51.550487, -0.109547], [51.543782, -0.117613], [51.562534, -0.109336], [51.550647, -0.119493], [51.53616, -0.10221], [51.545179, -0.177553], [51.560973, -0.124117], [51.545606, -0.141768], [51.518052, -0.111323], [51.543141, -0.15081], [51.547008, -0.191181], [51.565229, -0.103597], [51.539044, -0.136267], [51.533078, -0.106232], [51.538265, -0.138173], [51.535166, -0.13556], [51.517661, -0.120564], [51.539606, -0.14331], [51.542651, -0.148234], [51.565632, -0.134314], [51.526325, -0.133759], [51.550285, -0.124989], [51.546564, -0.083893], [51.54562, -0.103259], [51.565968, -0.12723], [51.568058, -0.139842], [51.549907, -0.118226], [51.550651, -0.205894], [51.549617, -0.12819], [51.548027, -0.129986], [51.536059, -0.101494], [51.538055, -0.141931], [51.541253, -0.094644], [51.542752, -0.137558], [51.523865, -0.143086], [51.524199, -0.141486], [51.550096, -0.12442], [51.560804, -0.113592], [51.523834, -0.129824], [51.535642, -0.10353], [51.516938, -0.125927], [51.544885, -0.141653], [51.525914, -0.085913], [51.557603, -0.178499], [51.534852, -0.104716], [51.542641, -0.141889], [51.530047, -0.10232], [51.547852, -0.102301], [51.556794, -0.138427], [51.551292, -0.098119], [51.52418, -0.128945], [51.546495, -0.158174], [51.517712, -0.118112], [51.546219, -0.079292], [51.535469, -0.103969], [51.54748, -0.192605], [51.538183, -0.099386], [51.526666, -0.132592], [51.516774, -0.126943], [51.550672, -0.109828], [51.548289, -0.135168], [51.56076, -0.150384], [51.530544, -0.122052], [51.546734, -0.08879], [51.53253, -0.139417], [51.544776, -0.117861], [51.52682, -0.10851], [51.548305, -0.096945], [51.533458, -0.107513], [51.532628, -0.10625], [51.54601, -0.178962], [51.54683, -0.17965], [51.536541, -0.103492], [51.54369, -0.100743], [51.520057, -0.118592], [51.563571, -0.106696], [51.547849, -0.141388], [51.552387, -0.132692], [51.545101, -0.155345], [51.540808, -0.117159], [51.556655, -0.146655], [51.541514, -0.094056], [51.549748, -0.182274], [51.548899, -0.162404], [51.537464, -0.133015], [51.557601, -0.19581], [51.528618, -0.119681], [51.553277, -0.18949], [51.551793, -0.18075], [51.538008, -0.099682], [51.516698, -0.127811], [51.525414, -0.088385], [51.53854, -0.138451], [51.517571, -0.120568], [51.546865, -0.141717], [51.545568, -0.133693], [51.545653, -0.202485], [51.55941, -0.122017], [51.542462, -0.147665], [51.547062, -0.092382], [51.53408, -0.107055], [51.522121, -0.107119], [51.545067, -0.14179], [51.52505, -0.138424], [51.556062, -0.177695], [51.571863, -0.119051], [51.553979, -0.170998], [51.556981, -0.138852], [51.546771, -0.118932], [51.545283, -0.144089], [51.521914, -0.111019], [51.555214, -0.129547], [51.561319, -0.18037], [51.547767, -0.130574], [51.54532, -0.163557], [51.516938, -0.125927], [51.547825, -0.106196], [51.546409, -0.090967], [51.515659, -0.130304], [51.565754, -0.136329], [51.55484, -0.151345], [51.530012, -0.133752], [51.542117, -0.171474], [51.564708, -0.132765], [51.558392, -0.14846], [51.542119, -0.092588], [51.519802, -0.119467], [51.538604, -0.142486], [51.531631, -0.111338], [51.553051, -0.16916], [51.552144, -0.174389], [51.524546, -0.134985], [51.529597, -0.124686], [51.570743, -0.150411], [51.527592, -0.089591], [51.560058, -0.123145], [51.545038, -0.134291], [51.526817, -0.080685], [51.532694, -0.127154], [51.546418, -0.141879], [51.522315, -0.136085], [51.535855, -0.111163], [51.536688, -0.146457], [51.53253, -0.139417], [51.529797, -0.098005], [51.551076, -0.084857], [51.5567, -0.115637], [51.517868, -0.116664], [51.52727, -0.130981], [51.54684, -0.089795], [51.518154, -0.11204], [51.527452, -0.131118], [51.561523, -0.124816], [51.531226, -0.114094], [51.51764, -0.119268], [51.520866, -0.112937], [51.529395, -0.145888], [51.546191, -0.12761], [51.560796, -0.17563], [51.550794, -0.13997], [51.540463, -0.09583], [51.540452, -0.139959], [51.554757, -0.192172], [51.549617, -0.12819], [51.553552, -0.195682], [51.526403, -0.138657], [51.521976, -0.109287], [51.545653, -0.202485], [51.521121, -0.106439], [51.52775, -0.104867], [51.533444, -0.106649], [51.565459, -0.134754], [51.525086, -0.146352], [51.570706, -0.148104], [51.521412, -0.113347], [51.549729, -0.140879], [51.532443, -0.111449], [51.542119, -0.092588], [51.559318, -0.121877], [51.544544, -0.103448], [51.547274, -0.105498], [51.51735, -0.129225], [51.541701, -0.179422], [51.543349, -0.090806], [51.538765, -0.141326], [51.519482, -0.121931], [51.542551, -0.141892], [51.562122, -0.100552], [51.534749, -0.137596], [51.545728, -0.155176], [51.562188, -0.110216], [51.517025, -0.120158], [51.515663, -0.119349], [51.541546, -0.140924], [51.540039, -0.142283], [51.522038, -0.107555], [51.539698, -0.143451], [51.546253, -0.103521], [51.538771, -0.10239], [51.568072, -0.118197], [51.537607, -0.102727], [51.530662, -0.10143], [51.54663, -0.087929], [51.550383, -0.086473], [51.557751, -0.119489], [51.544776, -0.117861], [51.515772, -0.126119], [51.548475, -0.096361], [51.531542, -0.111342], [51.530464, -0.122632], [51.538035, -0.140634], [51.516366, -0.129554], [51.539137, -0.170728], [51.569687, -0.129242], [51.517237, -0.122167], [51.530789, -0.120456], [51.542084, -0.198443], [51.523594, -0.13733], [51.531318, -0.114235], [51.523412, -0.097983], [51.554284, -0.144588], [51.566212, -0.114378], [51.540466, -0.095974], [51.557659, -0.119348], [51.515774, -0.120642], [51.530448, -0.121624], [51.534283, -0.108489], [51.528411, -0.101235], [51.563007, -0.12764], [51.557295, -0.119075], [51.518661, -0.132487], [51.520399, -0.123046], [51.519756, -0.122208], [51.526265, -0.113146], [51.565576, -0.136481], [51.554267, -0.172141], [51.559147, -0.111208], [51.528157, -0.118979], [51.551842, -0.207289], [51.539041, -0.102379], [51.54855, -0.084386], [51.546618, -0.087208], [51.535469, -0.103969], [51.537055, -0.141251], [51.526555, -0.108809], [51.543633, -0.147761], [51.518841, -0.121236], [51.525373, -0.136105], [51.52951, -0.124834], [51.53352, -0.105781], [51.533352, -0.106509], [51.570263, -0.114643], [51.53572, -0.164953], [51.53191, -0.10628], [51.568788, -0.174877], [51.521992, -0.110295], [51.554534, -0.177756], [51.568433, -0.17518], [51.552724, -0.188647], [51.544101, -0.126253], [51.553463, -0.189916], [51.54535, -0.10327], [51.555544, -0.122032], [51.518804, -0.124553], [51.542008, -0.181862], [51.558145, -0.196077], [51.550895, -0.140687], [51.520313, -0.117716], [51.51773, -0.113643], [51.526283, -0.136788], [51.522866, -0.136784], [51.518198, -0.126019], [51.526265, -0.113146], [51.516108, -0.124664], [51.553491, -0.122982], [51.538008, -0.133281], [51.531226, -0.114094], [51.520518, -0.124915], [51.550627, -0.084876], [51.559324, -0.111056], [51.547736, -0.151345], [51.566666, -0.137158], [51.531721, -0.105711], [51.546833, -0.089362], [51.566712, -0.111904], [51.537333, -0.091346], [51.525419, -0.088673], [51.548378, -0.107039], [51.55323, -0.12357], [51.522864, -0.136639], [51.562079, -0.125803], [51.543437, -0.090658], [51.538734, -0.116812], [51.537792, -0.091904], [51.539503, -0.097601], [51.544776, -0.117861], [51.557732, -0.112709], [51.546209, -0.100783], [51.552601, -0.11797], [51.542822, -0.091549], [51.516779, -0.127231], [51.536596, -0.101327], [51.570598, -0.124298], [51.51815, -0.122995], [51.528653, -0.094016], [51.563657, -0.128912], [51.55187, -0.111654], [51.541255, -0.145262], [51.553114, -0.196421], [51.535382, -0.104117], [51.54601, -0.178962], [51.550805, -0.140691], [51.546322, -0.175921], [51.532438, -0.139276], [51.552076, -0.085536], [51.539418, -0.097893], [51.543627, -0.141704], [51.562786, -0.119425], [51.561675, -0.111825], [51.525979, -0.134638], [51.535226, -0.139307], [51.524242, -0.115969], [51.534588, -0.138756], [51.542098, -0.164552], [51.520216, -0.134153], [51.526403, -0.138657], [51.538008, -0.099682], [51.525424, -0.088961], [51.518297, -0.132213], [51.542397, -0.137861], [51.540219, -0.142276], [51.54938, -0.175942], [51.5201, -0.104464], [51.556875, -0.195406], [51.522906, -0.100023], [51.542981, -0.175045], [51.552609, -0.14105], [51.531316, -0.11409], [51.558537, -0.118014], [51.542769, -0.132942], [51.54207, -0.117395], [51.54891, -0.084371], [51.556954, -0.114617], [51.539223, -0.102516], [51.545336, -0.102405], [51.539427, -0.195231], [51.560108, -0.115063], [51.560018, -0.115067], [51.55179, -0.084539], [51.523594, -0.13733], [51.524048, -0.109489], [51.518816, -0.119652], [51.541077, -0.117148], [51.547364, -0.105494], [51.525185, -0.090845], [51.540631, -0.106206], [51.566539, -0.134854], [51.551446, -0.199083], [51.559663, -0.098635], [51.542644, -0.091701], [51.535166, -0.13556], [51.541995, -0.14653], [51.538878, -0.142763], [51.550459, -0.175899], [51.540936, -0.142102], [51.535815, -0.10309], [51.516209, -0.119759], [51.560516, -0.123703], [51.548735, -0.129236], [51.518839, -0.121092], [51.546043, -0.101655], [51.551499, -0.110948], [51.543084, -0.091106], [51.530747, -0.134732], [51.533518, -0.139376], [51.559147, -0.116834], [51.52132, -0.12445], [51.546474, -0.083897], [51.520672, -0.134567], [51.518023, -0.120694], [51.545743, -0.133397], [51.550805, -0.140691], [51.548745, -0.107456], [51.531725, -0.145361], [51.530789, -0.120456], [51.526749, -0.132156], [51.568493, -0.110821], [51.52452, -0.094189], [51.520366, -0.121029], [51.521997, -0.138693], [51.528472, -0.138717], [51.558219, -0.120624], [51.553366, -0.098465], [51.531751, -0.107584], [51.534051, -0.110805], [51.533073, -0.105943], [51.556655, -0.146655], [51.527952, -0.117401], [51.5308, -0.121177], [51.537486, -0.14008], [51.540936, -0.142102], [51.526064, -0.134346], [51.540362, -0.139963], [51.536061, -0.146627], [51.54557, -0.133837], [51.538021, -0.151162], [51.54646, -0.099618], [51.564795, -0.132617], [51.542752, -0.137558], [51.539843, -0.141282], [51.560472, -0.098601], [51.564093, -0.105664], [51.532988, -0.106235], [51.549919, -0.164382], [51.525279, -0.130198], [51.548392, -0.153049], [51.547637, -0.191156], [51.525629, -0.135229], [51.560606, -0.123699], [51.531019, -0.117996], [51.535737, -0.103814], [51.55639, -0.146954], [51.551449, -0.199227], [51.546202, -0.10035], [51.533558, -0.136203], [51.531748, -0.10744], [51.556262, -0.116377], [51.552204, -0.160972], [51.54553, -0.103263], [51.521439, -0.137563], [51.568883, -0.123936], [51.548929, -0.107737], [51.523896, -0.111226], [51.552628, -0.188218], [51.55552, -0.098231], [51.516297, -0.119612], [51.51832, -0.122411], [51.564134, -0.130624], [51.539328, -0.097897], [51.53182, -0.106284], [51.56512, -0.130439], [51.568821, -0.136925], [51.524613, -0.127918], [51.522031, -0.107122], [51.556756, -0.13035], [51.552358, -0.086246], [51.565009, -0.134772], [51.548472, -0.181171], [51.542731, -0.141885], [51.541478, -0.176691], [51.522121, -0.107119], [51.543989, -0.153227], [51.553403, -0.12313], [51.546229, -0.135685], [51.564614, -0.104488], [51.548028, -0.141381], [51.555276, -0.122188], [51.539491, -0.141729], [51.562823, -0.127359], [51.522691, -0.125835], [51.549981, -0.191496], [51.540426, -0.184232], [51.553979, -0.114163], [51.543521, -0.175023], [51.553144, -0.169301], [51.531539, -0.111198], [51.531466, -0.11221], [51.541955, -0.138311], [51.548373, -0.123482], [51.543141, -0.15081], [51.520458, -0.087728], [51.544776, -0.117861], [51.538209, -0.168891], [51.546883, -0.086908], [51.549096, -0.118115], [51.528562, -0.138714], [51.561664, -0.122357], [51.515481, -0.119213], [51.551167, -0.14082], [51.533346, -0.134193], [51.541025, -0.142099], [51.512822, -0.127249], [51.541714, -0.14582], [51.529943, -0.123807], [51.516299, -0.119756], [51.547274, -0.105498], [51.542731, -0.141885], [51.572793, -0.160718], [51.534925, -0.131677], [51.553491, -0.122982], [51.542439, -0.084643], [51.569087, -0.142398], [51.552336, -0.186787], [51.564218, -0.152985], [51.527611, -0.129814], [51.535117, -0.104417], [51.537827, -0.184768], [51.534406, -0.138619], [51.570342, -0.14783], [51.551188, -0.182361], [51.568425, -0.123377], [51.539242, -0.143037], [51.547713, -0.196057], [51.521864, -0.124716], [51.552795, -0.124454], [51.536847, -0.122514], [51.523973, -0.144235], [51.540556, -0.095971], [51.519938, -0.122344], [51.538878, -0.142763], [51.554962, -0.141964], [51.56412, -0.135386], [51.545241, -0.102121], [51.521129, -0.134981], [51.5613, -0.116457], [51.564623, -0.105065], [51.521831, -0.133943], [51.519802, -0.119467], [51.533462, -0.118904], [51.526235, -0.133763], [51.562268, -0.126372], [51.543958, -0.185822], [51.525804, -0.129311], [51.562547, -0.126938], [51.564037, -0.130195], [51.54952, -0.110886], [51.557281, -0.112584], [51.556373, -0.11767], [51.555663, -0.118277], [51.552737, -0.098491], [51.568634, -0.130872], [51.564269, -0.105369], [51.550383, -0.086473], [51.525254, -0.128613], [51.528989, -0.126009], [51.523876, -0.115551], [51.571584, -0.118485], [51.542997, -0.091254], [51.561096, -0.183409], [51.52986, -0.124243], [51.537601, -0.141661], [51.536754, -0.11675], [51.554767, -0.112832], [51.54018, -0.139826], [51.565505, -0.120756], [51.543632, -0.136368], [51.537142, -0.146727], [51.54369, -0.100743], [51.563746, -0.1064], [51.554529, -0.098128], [51.517207, -0.120295], [51.556797, -0.138571], [51.549633, -0.101217], [51.518496, -0.105395], [51.532889, -0.139402], [51.541834, -0.142066], [51.541916, -0.135861], [51.540757, -0.102884], [51.557571, -0.119496], [51.556156, -0.137876], [51.531725, -0.105999], [51.549444, -0.078579], [51.560834, -0.09873], [51.523486, -0.119315], [51.520437, -0.10863], [51.541549, -0.141068], [51.531806, -0.139158], [51.526691, -0.134177], [51.539668, -0.141577], [51.546757, -0.118067], [51.52692, -0.131572], [51.540452, -0.139959], [51.531748, -0.10744], [51.517594, -0.12763], [51.531542, -0.111342], [51.562312, -0.18639], [51.566447, -0.134714], [51.55082, -0.085733], [51.546725, -0.116049], [51.535402, -0.133388], [51.530865, -0.119588], [51.534262, -0.107192], [51.54061, -0.144279], [51.521951, -0.135812], [51.531912, -0.106424], [51.546289, -0.19121], [51.552177, -0.1252], [51.539042, -0.136123], [51.542529, -0.157613], [51.546415, -0.085774], [51.535559, -0.103966], [51.546528, -0.087212], [51.537003, -0.109818], [51.535812, -0.165094], [51.544429, -0.107491], [51.530381, -0.123068], [51.535959, -0.089818], [51.518581, -0.121824], [51.55323, -0.12357], [51.562311, -0.151763], [51.526415, -0.100165], [51.529636, -0.11589], [51.551167, -0.14082], [51.522121, -0.107119], [51.541995, -0.14653], [51.536507, -0.140697], [51.524701, -0.116526], [51.517389, -0.120431], [51.529824, -0.144573], [51.535959, -0.089818], [51.557926, -0.124819], [51.531813, -0.13959], [51.557645, -0.112857], [51.546247, -0.086502], [51.546362, -0.144045], [51.536714, -0.142418], [51.535077, -0.135564], [51.527041, -0.139208], [51.545478, -0.133696], [51.527967, -0.1409], [51.538037, -0.15217], [51.523793, -0.121609], [51.530869, -0.119876], [51.532626, -0.106106], [51.566014, -0.135741], [51.529608, -0.097437], [51.551167, -0.14082], [51.537486, -0.14008], [51.539062, -0.189045], [51.570358, -0.14884], [51.523883, -0.144238], [51.557841, -0.119485], [51.545128, -0.191689], [51.547838, -0.118167], [51.548836, -0.181445], [51.557477, -0.130464], [51.521166, -0.114798], [51.55193, -0.195458], [51.552712, -0.20538], [51.522864, -0.136639], [51.550856, -0.110109], [51.519942, -0.133876], [51.541548, -0.17539], [51.537504, -0.193], [51.561497, -0.180219], [51.519802, -0.119467], [51.523975, -0.144379], [51.520986, -0.114806], [51.528379, -0.104841], [51.542662, -0.137561], [51.525057, -0.110745], [51.531962, -0.120696], [51.528259, -0.09187], [51.543065, -0.174609], [51.546438, -0.103802], [51.524186, -0.095789], [51.524773, -0.087691], [51.535098, -0.148252], [51.531321, -0.114379], [51.516696, -0.127667], [51.546713, -0.098598], [51.547949, -0.125086], [51.524967, -0.110749], [51.553088, -0.142905], [51.517795, -0.117676], [51.557511, -0.195814], [51.534086, -0.129837], [51.523035, -0.11919], [51.559753, -0.098631], [51.570565, -0.150563], [51.518581, -0.121824], [51.529784, -0.102764], [51.538969, -0.194673], [51.54206, -0.173639], [51.51832, -0.122411], [51.545652, -0.156044], [51.551972, -0.117996], [51.524692, -0.093749], [51.550761, -0.183821], [51.560373, -0.137271], [51.550423, -0.167823], [51.554209, -0.134205], [51.541548, -0.17539], [51.530862, -0.119444], [51.531776, -0.109169], [51.566867, -0.132821], [51.543457, -0.136664], [51.531466, -0.11221], [51.52727, -0.130981], [51.525187, -0.09099], [51.524246, -0.138745], [51.564093, -0.105664], [51.548361, -0.128386], [51.54995, -0.207075], [51.566072, -0.133719], [51.531435, -0.104714], [51.546041, -0.101511], [51.537927, -0.150877], [51.546103, -0.07771], [51.523161, -0.138357], [51.528607, -0.147218], [51.542641, -0.141889], [51.560218, -0.178971], [51.520313, -0.117716], [51.53888, -0.142907], [51.525228, -0.138273], [51.541981, -0.117399], [51.521796, -0.087095], [51.552123, -0.167322], [51.519064, -0.123966], [51.532706, -0.133498], [51.517625, -0.107161], [51.513716, -0.126924], [51.555538, -0.178725], [51.547708, -0.195769], [51.566007, -0.135309], [51.557645, -0.112857], [51.553979, -0.114163], [51.522728, -0.122518], [51.528917, -0.11592], [51.519756, -0.122208], [51.546418, -0.141879], [51.542528, -0.106705], [51.543175, -0.102207], [51.521654, -0.12285], [51.53253, -0.139417], [51.557936, -0.125396], [51.525504, -0.088381], [51.557846, -0.119774], [51.523681, -0.109072], [51.540936, -0.142102], [51.551867, -0.185507], [51.524749, -0.130796], [51.567088, -0.135409], [51.541878, -0.173502], [51.539798, -0.178489], [51.520365, -0.087588], [51.517533, -0.107021], [51.52418, -0.128945], [51.522901, -0.099734], [51.541459, -0.135447], [51.56269, -0.107887], [51.524605, -0.093897], [51.553059, -0.141031], [51.546512, -0.142164], [51.525463, -0.136101], [51.523946, -0.142506], [51.528921, -0.138699], [51.550255, -0.100758], [51.53739, -0.100429], [51.539496, -0.188018], [51.542645, -0.142177], [51.553384, -0.161646], [51.521495, -0.112911], [51.546628, -0.09889], [51.566853, -0.137583], [51.524611, -0.127774], [51.54794, -0.175856], [51.554799, -0.098117], [51.522087, -0.138689], [51.562125, -0.134313], [51.531542, -0.111342], [51.528908, -0.126589], [51.531767, -0.108593], [51.53923, -0.142316], [51.546183, -0.132802], [51.517569, -0.120424], [51.542746, -0.148518], [51.552353, -0.141926], [51.530708, -0.121036], [51.518184, -0.113912], [51.527066, -0.140793], [51.550485, -0.109403], [51.540016, -0.140842], [51.553484, -0.156593], [51.517714, -0.123877], [51.532923, -0.147187], [51.549677, -0.166122], [51.526751, -0.1323], [51.558846, -0.14873], [51.517484, -0.120716], [51.52414, -0.137741], [51.545568, -0.133693], [51.554065, -0.164936], [51.539047, -0.170732], [51.518113, -0.12069], [51.531263, -0.138892], [51.516138, -0.120915], [51.558155, -0.122213], [51.548028, -0.141381], [51.57096, -0.124427], [51.533783, -0.105337], [51.543586, -0.110987], [51.555541, -0.116262], [51.531542, -0.111342], [51.526904, -0.130564], [51.546937, -0.112435], [51.524556, -0.085394], [51.519582, -0.105783], [51.532979, -0.139398], [51.548557, -0.129388], [51.527615, -0.107612], [51.521327, -0.113638], [51.527701, -0.12981], [51.542355, -0.175214], [51.539133, -0.102519], [51.540116, -0.096566], [51.535579, -0.190625], [51.520739, -0.116257], [51.524613, -0.127918], [51.556797, -0.138571], [51.53162, -0.110618], [51.528739, -0.104826], [51.5648, -0.132905], [51.548653, -0.107316], [51.530568, -0.101145], [51.562079, -0.125803], [51.530644, -0.122625], [51.522351, -0.104659], [51.551472, -0.126095], [51.528408, -0.101091], [51.526973, -0.101295], [51.544314, -0.089324], [51.517011, -0.124915], [51.555915, -0.117112], [51.532798, -0.122392], [51.563743, -0.106256], [51.5215, -0.113199], [51.540104, -0.140694], [51.563491, -0.118531], [51.563934, -0.11808], [51.517193, -0.125052], [51.564179, -0.105372], [51.552877, -0.112766], [51.545419, -0.175668], [51.524242, -0.115969], [51.549748, -0.182274], [51.54372, -0.13622], [51.538947, -0.141462], [51.520124, -0.122769], [51.545333, -0.130241], [51.539047, -0.170732], [51.546644, -0.167687], [51.543729, -0.159583], [51.52006, -0.118736], [51.545155, -0.141642], [51.513301, -0.129103], [51.541548, -0.17539], [51.526176, -0.08547], [51.529191, -0.138688], [51.55152, -0.192156], [51.549977, -0.078124], [51.550088, -0.140864], [51.525548, -0.135809], [51.523698, -0.126947], [51.551776, -0.111369], [51.564832, -0.134924], [51.516458, -0.129694], [51.561229, -0.180374], [51.546427, -0.108706], [51.5648, -0.132905], [51.545761, -0.112051], [51.548837, -0.107596], [51.542119, -0.092588], [51.522783, -0.09801], [51.522309, -0.102066], [51.566668, -0.137302], [51.539723, -0.094563], [51.549754, -0.108712], [51.560786, -0.129319], [51.53162, -0.110618], [51.544099, -0.200815], [51.547104, -0.094976], [51.549016, -0.181438], [51.550178, -0.14086], [51.525871, -0.099899], [51.543341, -0.17503], [51.53888, -0.142907], [51.56113, -0.197258], [51.557661, -0.119493], [51.560546, -0.114324], [51.544541, -0.103304], [51.517569, -0.120424], [51.544669, -0.08902], [51.546667, -0.118071], [51.54126, -0.197466], [51.546216, -0.079148], [51.547727, -0.191153], [51.529103, -0.144458], [51.53182, -0.106284], [51.573471, -0.129664], [51.538693, -0.142482], [51.539646, -0.157297], [51.564181, -0.105516], [51.540553, -0.095826], [51.546738, -0.17951], [51.551292, -0.126102], [51.527092, -0.131133], [51.523323, -0.120331], [51.54507, -0.141934], [51.569051, -0.15149], [51.522107, -0.106254], [51.549549, -0.140886], [51.55392, -0.18456], [51.530823, -0.122617], [51.565273, -0.180212], [51.538878, -0.142763], [51.541816, -0.192685], [51.52158, -0.112619], [51.541549, -0.135444], [51.524987, -0.145779], [51.530644, -0.122625], [51.533976, -0.162716], [51.546343, -0.103517], [51.541624, -0.145824], [51.548204, -0.15248], [51.567703, -0.117635], [51.549279, -0.107145], [51.524417, -0.110051], [51.569458, -0.143104], [51.553593, -0.140721], [51.521485, -0.106713], [51.538095, -0.099534], [51.531822, -0.106428], [51.539402, -0.102508], [51.55323, -0.12357], [51.528408, -0.101091], [51.53616, -0.10221], [51.546204, -0.100494], [51.527214, -0.138769], [51.539578, -0.141581], [51.556527, -0.178686], [51.53915, -0.142896], [51.568525, -0.140978], [51.549362, -0.079015], [51.552877, -0.112766], [51.547115, -0.07911], [51.541276, -0.181026], [51.52251, -0.103355], [51.557419, -0.138113], [51.543615, -0.175308], [51.563398, -0.107136], [51.556527, -0.138582], [51.526062, -0.134202], [51.518154, -0.11204], [51.562169, -0.125799], [51.55941, -0.116391], [51.570559, -0.127474], [51.548286, -0.106898], [51.557349, -0.167978], [51.546616, -0.087064], [51.52564, -0.135949], [51.519021, -0.121229], [51.536922, -0.132893], [51.539402, -0.102508], [51.519671, -0.105779], [51.537399, -0.140228], [51.530449, -0.138637], [51.550132, -0.207212], [51.529991, -0.098862], [51.520672, -0.134567], [51.564543, -0.105646], [51.566504, -0.110182], [51.529207, -0.10596], [51.514488, -0.124586], [51.565982, -0.133723], [51.54952, -0.110886], [51.550628, -0.140842], [51.53625, -0.130181], [51.548349, -0.202378], [51.531774, -0.109025], [51.52505, -0.138424], [51.518023, -0.131936], [51.557659, -0.119348], [51.554442, -0.177615], [51.527401, -0.088879], [51.558217, -0.12048], [51.524715, -0.123013], [51.535985, -0.102506], [51.52324, -0.120767], [51.531631, -0.111338], [51.559673, -0.115947], [51.557998, -0.123662], [51.542191, -0.141907], [51.520313, -0.117716], [51.542894, -0.175192], [51.550601, -0.133487], [51.552306, -0.122021], [51.522034, -0.107266], [51.556325, -0.194707], [51.529126, -0.095438], [51.525148, -0.099641], [51.528472, -0.138717], [51.545606, -0.141768], [51.548596, -0.098231], [51.528382, -0.138721], [51.549102, -0.141048], [51.542417, -0.144782], [51.552511, -0.112348], [51.520947, -0.1236], [51.551382, -0.126098], [51.565984, -0.133867], [51.519274, -0.12021], [51.523039, -0.1251], [51.521318, -0.124306], [51.563583, -0.135552], [51.541163, -0.145122], [51.556794, -0.138427], [51.562641, -0.127223], [51.520363, -0.087443], [51.529544, -0.11575], [51.522185, -0.10553], [51.552353, -0.141926], [51.546053, -0.102231], [51.550056, -0.161636], [51.560778, -0.174476], [51.532489, -0.119954], [51.564151, -0.103642], [51.553395, -0.168137], [51.530647, -0.106044], [51.554159, -0.165221], [51.564529, -0.104781], [51.552265, -0.125052], [51.533561, -0.102751], [51.531349, -0.105006], [51.548837, -0.107596], [51.570561, -0.127619], [51.535529, -0.147081], [51.545639, -0.178256], [51.548735, -0.129236], [51.543789, -0.090211], [51.516196, -0.124516], [51.557404, -0.188894], [51.531139, -0.114242], [51.535166, -0.141184], [51.551449, -0.176004], [51.562016, -0.110656], [51.53405, -0.105182], [51.545653, -0.202485], [51.544686, -0.134738], [51.545888, -0.108728], [51.540104, -0.140694], [51.558566, -0.142394], [51.557576, -0.119785], [51.543525, -0.175311], [51.550738, -0.08617], [51.549656, -0.182134], [51.531539, -0.111198], [51.527149, -0.095521], [51.550766, -0.110113], [51.554205, -0.191329], [51.520032, -0.133872], [51.522051, -0.125141], [51.526762, -0.138643], [51.536072, -0.096735], [51.524615, -0.128063], [51.545835, -0.139162], [51.525633, -0.135517], [51.528652, -0.13871], [51.526171, -0.129729], [51.52423, -0.137737], [51.549459, -0.14089], [51.556473, -0.146518], [51.540466, -0.095974], [51.529315, -0.140845], [51.530457, -0.1222], [51.521244, -0.114074], [51.558537, -0.118014], [51.556702, -0.138286], [51.553378, -0.104811], [51.563309, -0.118394], [51.517016, -0.130824], [51.521168, -0.131808], [51.562188, -0.110216], [51.530547, -0.122196], [51.546564, -0.12846], [51.541546, -0.140924], [51.536714, -0.142418], [51.524412, -0.087562], [51.567876, -0.122823], [51.565364, -0.134469], [51.547727, -0.191153], [51.551735, -0.125651], [51.552879, -0.141039], [51.552353, -0.141926], [51.525338, -0.089253], [51.55508, -0.11556], [51.538958, -0.142183], [51.528911, -0.126733], [51.569784, -0.124043], [51.523497, -0.108791], [51.562246, -0.18798], [51.534962, -0.122735], [51.543103, -0.103364], [51.546528, -0.087212], [51.551798, -0.192722], [51.518, -0.119253], [51.559147, -0.116834], [51.567385, -0.183014], [51.546992, -0.172721], [51.52023, -0.118152], [51.549842, -0.153711], [51.522356, -0.104947], [51.555372, -0.105738], [51.547414, -0.131021], [51.566539, -0.134854], [51.561387, -0.099573], [51.538604, -0.142486], [51.542557, -0.091849], [51.534874, -0.122883], [51.556004, -0.117109], [51.518586, -0.105391], [51.517828, -0.108594], [51.522121, -0.107119], [51.555265, -0.115841], [51.547836, -0.118023], [51.528376, -0.115798], [51.535117, -0.104417], [51.533344, -0.111555], [51.532489, -0.119954], [51.54654, -0.099038], [51.564044, -0.130628], [51.543507, -0.162621], [51.541687, -0.138466], [51.539756, -0.187431], [51.558283, -0.113408], [51.545093, -0.177845], [51.559412, -0.116535], [51.526235, -0.133763], [51.545639, -0.178256], [51.516926, -0.130828], [51.548653, -0.107316], [51.564672, -0.193655], [51.542117, -0.171474], [51.553901, -0.165953], [51.554873, -0.136341], [51.517207, -0.120295], [51.56618, -0.123614], [51.539322, -0.142456], [51.569063, -0.123928], [51.560108, -0.115063], [51.550761, -0.183821], [51.556237, -0.098057], [51.559963, -0.12286], [51.554065, -0.164936], [51.55196, -0.11165], [51.550219, -0.092971], [51.538878, -0.142763], [51.540592, -0.189129], [51.55134, -0.151775], [51.568996, -0.119746], [51.526233, -0.133619], [51.548356, -0.191128], [51.548732, -0.129092], [51.54929, -0.181716], [51.522489, -0.102058], [51.535671, -0.190766], [51.520015, -0.104756], [51.526505, -0.100161], [51.543101, -0.103219], [51.552177, -0.1252], [51.553405, -0.123274], [51.560293, -0.115344], [51.565645, -0.135179], [51.551382, -0.126098], [51.51629, -0.130422], [51.536456, -0.14315], [51.563194, -0.128065], [51.523242, -0.098567], [51.539756, -0.187431], [51.536273, -0.103648], [51.557555, -0.112861], [51.53143, -0.104426], [51.529281, -0.138684], [51.537432, -0.103023], [51.555636, -0.116547], [51.522121, -0.107119], [51.516382, -0.130562], [51.533778, -0.105049], [51.54773, -0.128268], [51.539482, -0.187154], [51.567652, -0.154], [51.544791, -0.10762], [51.546486, -0.180674], [51.537399, -0.140228], [51.539044, -0.136267], [51.516537, -0.12897], [51.519804, -0.119611], [51.525593, -0.144313], [51.539402, -0.102508], [51.555013, -0.150905], [51.542419, -0.144926], [51.539152, -0.14304], [51.564798, -0.132761], [51.521414, -0.113491], [51.557936, -0.11977], [51.548735, -0.129236], [51.546528, -0.087212], [51.519675, -0.122788], [51.538878, -0.142763], [51.526802, -0.124225], [51.515546, -0.128867], [51.549352, -0.12849], [51.571492, -0.118345], [51.525371, -0.13596], [51.550986, -0.084861], [51.531784, -0.120848], [51.52252, -0.137663], [51.52682, -0.10851], [51.528154, -0.135703], [51.563137, -0.107724], [51.541548, -0.17539], [51.540277, -0.140254], [51.525003, -0.129777], [51.517048, -0.12722], [51.526237, -0.133907], [51.521585, -0.112907], [51.524092, -0.129093], [51.556352, -0.116373], [51.537889, -0.142803], [51.551051, -0.208474], [51.540795, -0.14456], [51.525218, -0.087384], [51.543877, -0.090063], [51.529034, -0.095298], [51.569735, -0.143526], [51.542027, -0.171478], [51.553528, -0.176642], [51.545547, -0.178115], [51.567186, -0.141609], [51.531693, -0.109605], [51.533369, -0.118764], [51.536328, -0.112586], [51.535117, -0.104417], [51.561477, -0.099569], [51.570639, -0.115638], [51.535765, -0.111167], [51.53752, -0.102875], [51.525371, -0.13596], [51.542976, -0.084476], [51.539143, -0.142464], [51.52054, -0.087292], [51.525492, -0.10424], [51.555853, -0.170057], [51.562662, -0.117266], [51.548647, -0.129384], [51.565187, -0.134621], [51.541626, -0.145968], [51.563137, -0.107724], [51.522864, -0.136639], [51.556081, -0.190533], [51.551426, -0.157253], [51.550654, -0.206038], [51.549111, -0.107874], [51.564088, -0.12774], [51.545273, -0.177837], [51.539606, -0.14331], [51.568517, -0.123518], [51.546418, -0.141879], [51.537253, -0.10303], [51.516338, -0.122204], [51.521235, -0.124742], [51.527625, -0.091608], [51.546865, -0.141717], [51.55709, -0.134375], [51.545376, -0.184468], [51.546261, -0.087367], [51.543287, -0.125998], [51.570078, -0.108735], [51.540098, -0.186264], [51.517933, -0.120697], [51.524843, -0.131081], [51.55243, -0.141057], [51.546418, -0.141879], [51.572719, -0.161732], [51.563586, -0.118815], [51.559673, -0.115947], [51.529304, -0.140125], [51.544107, -0.149328], [51.555305, -0.175273], [51.562061, -0.107913], [51.527088, -0.130844], [51.547868, -0.125666], [51.539243, -0.19495], [51.552511, -0.112348], [51.533462, -0.118904], [51.53783, -0.099834], [51.528991, -0.126153], [51.527844, -0.127498], [51.531238, -0.114815], [51.530706, -0.120892], [51.553889, -0.114167], [51.530554, -0.122629], [51.516299, -0.119756], [51.523948, -0.14265], [51.526811, -0.130423], [51.520594, -0.112804], [51.526632, -0.124808], [51.517728, -0.11912], [51.553984, -0.165516], [51.559322, -0.110912], [51.525419, -0.088673], [51.523857, -0.131265], [51.551958, -0.111506], [51.542643, -0.142033], [51.548578, -0.205543], [51.554202, -0.191185], [51.542662, -0.137561], [51.525138, -0.138277], [51.534865, -0.122307], [51.56583, -0.13546], [51.523594, -0.13733], [51.546041, -0.101511], [51.551382, -0.126098], [51.51764, -0.119268], [51.547551, -0.105919], [51.538511, -0.194114], [51.526375, -0.136929], [51.537787, -0.102719], [51.541615, -0.179714], [51.527663, -0.13875], [51.547609, -0.098416], [51.521031, -0.106443], [51.53352, -0.105781], [51.562701, -0.119717], [51.551539, -0.085703], [51.531047, -0.103], [51.542476, -0.125887], [51.529011, -0.138695], [51.533433, -0.105928], [51.540556, -0.095971], [51.523872, -0.087585], [51.538738, -0.133972], [51.520479, -0.116845], [51.520903, -0.115241], [51.542119, -0.092588], [51.530203, -0.12322], [51.527611, -0.129814], [51.517299, -0.120435], [51.545587, -0.117971], [51.536415, -0.140556], [51.527532, -0.096947], [51.546345, -0.103661], [51.56331, -0.107284], [51.543427, -0.151808], [51.542459, -0.108005], [51.569703, -0.113368], [51.522087, -0.138689], [51.546861, -0.091092], [51.543708, -0.152517], [51.522967, -0.09829], [51.522906, -0.100023], [51.525979, -0.134638], [51.549644, -0.107419], [51.560852, -0.179235], [51.541353, -0.106321], [51.524105, -0.141202], [51.539493, -0.141873], [51.565139, -0.120338], [51.540362, -0.139963], [51.552586, -0.139608], [51.533519, -0.122506], [51.541786, -0.173362], [51.557295, -0.14735], [51.5563, -0.175666], [51.553551, -0.143752], [51.56236, -0.126513], [51.522351, -0.104659], [51.557601, -0.19581], [51.520988, -0.11495], [51.543829, -0.12612], [51.517016, -0.130824], [51.557518, -0.17302], [51.520765, -0.134707], [51.543, -0.141874], [51.554194, -0.144591], [51.535592, -0.139724], [51.530106, -0.134037], [51.569775, -0.129094], [51.518052, -0.111323], [51.568337, -0.123525], [51.525804, -0.129311], [51.569605, -0.12405], [51.52759, -0.089447], [51.521039, -0.123741], [51.535499, -0.116946], [51.540396, -0.102755], [51.549762, -0.098038], [51.528202, -0.138728], [51.523681, -0.109072], [51.518113, -0.126311], [51.555867, -0.194148], [51.547677, -0.130578], [51.543287, -0.125998], [51.5167, -0.127955], [51.517684, -0.127626], [51.52727, -0.130981], [51.518916, -0.086928], [51.518884, -0.135216], [51.518908, -0.119792], [51.545128, -0.191689], [51.519544, -0.120198], [51.524243, -0.144224], [51.555841, -0.090283], [51.528292, -0.138725], [51.524613, -0.127918], [51.544262, -0.164898], [51.52088, -0.091602], [51.520363, -0.087443], [51.54345, -0.141856], [51.572906, -0.167929], [51.560111, -0.115208], [51.516449, -0.129118], [51.546654, -0.083889], [51.544069, -0.175578], [51.523384, -0.135465], [51.547652, -0.180483], [51.519761, -0.105775], [51.537163, -0.103034], [51.541166, -0.094791], [51.549231, -0.087531], [51.55, -0.118366], [51.522119, -0.106975], [51.540979, -0.144841], [51.525343, -0.089541], [51.540367, -0.140251], [51.535642, -0.10353], [51.563637, -0.105251], [51.552645, -0.103976], [51.521412, -0.113347], [51.538095, -0.099534], [51.546022, -0.191365], [51.546526, -0.087068], [51.552906, -0.188784], [51.564134, -0.130624], [51.5602, -0.115204], [51.562101, -0.110364], [51.559935, -0.115503], [51.551735, -0.125651], [51.530296, -0.12336], [51.515845, -0.119486], [51.560108, -0.115063], [51.554437, -0.114721], [51.539699, -0.195365], [51.564599, -0.109106], [51.562246, -0.136328], [51.557531, -0.168115], [51.542368, -0.14738], [51.516377, -0.130274], [51.517938, -0.126607], [51.563007, -0.12764], [51.518841, -0.121236], [51.54333, -0.151379], [51.546058, -0.141894], [51.557155, -0.09369], [51.558765, -0.098672], [51.551, -0.176022], [51.540364, -0.140107], [51.532539, -0.106254], [51.518719, -0.124845], [51.55639, -0.146954], [51.525567, -0.125717], [51.565081, -0.133615], [51.54953, -0.128338], [51.522029, -0.106978], [51.552334, -0.118126], [51.543134, -0.184845], [51.518322, -0.122555], [51.516942, -0.126215], [51.550178, -0.14086], [51.532871, -0.138249], [51.533534, -0.106645], [51.522491, -0.124546], [51.54801, -0.106477], [51.506373, -0.239192], [51.514309, -0.234706], [51.5066, -0.242353], [51.478801, -0.200074], [51.506074, -0.231278], [51.484773, -0.220148], [51.502683, -0.251005], [51.515007, -0.221419], [51.467123, -0.212628], [51.502837, -0.219444], [51.486222, -0.220811], [51.465385, -0.193116], [51.469247, -0.210385], [51.477055, -0.19179], [51.50209, -0.2176], [51.47941, -0.187089], [51.513691, -0.235451], [51.492812, -0.234384], [51.513797, -0.248562], [51.495453, -0.218723], [51.482039, -0.205996], [51.502651, -0.224926], [51.493644, -0.22398], [51.480094, -0.196423], [51.475067, -0.214621], [51.508539, -0.245737], [51.51029, -0.224629], [51.487866, -0.222476], [51.507841, -0.229192], [51.509721, -0.234595], [51.493197, -0.224141], [51.51036, -0.2412], [51.504687, -0.22283], [51.51499, -0.226176], [51.48686, -0.221363], [51.532165, -0.238052], [51.478333, -0.21651], [51.515233, -0.224437], [51.497671, -0.222671], [51.470906, -0.207152], [51.505075, -0.224688], [51.487399, -0.203625], [51.493337, -0.239406], [51.494973, -0.234589], [51.493021, -0.224436], [51.5102, -0.224633], [51.472019, -0.203509], [51.492514, -0.232523], [51.491233, -0.21327], [51.474064, -0.196085], [51.506404, -0.2353], [51.479066, -0.199776], [51.493337, -0.239406], [51.485404, -0.202551], [51.519577, -0.226286], [51.479903, -0.19571], [51.489144, -0.206005], [51.486571, -0.232033], [51.47707, -0.216271], [51.493734, -0.223976], [51.513951, -0.246826], [51.470121, -0.191201], [51.527452, -0.235639], [51.515332, -0.22501], [51.49241, -0.207893], [51.506585, -0.241345], [51.504687, -0.22283], [51.502651, -0.224926], [51.499799, -0.238581], [51.52745, -0.235495], [51.494973, -0.234589], [51.478206, -0.208162], [51.505375, -0.226694], [51.505275, -0.225977], [51.500721, -0.234079], [51.476261, -0.204494], [51.508553, -0.23464], [51.492758, -0.224879], [51.511732, -0.224862], [51.490793, -0.231725], [51.46659, -0.189613], [51.492934, -0.224584], [51.479903, -0.19571], [51.476033, -0.207239], [51.48686, -0.221363], [51.491859, -0.224913], [51.491213, -0.223786], [51.467526, -0.192023], [51.495843, -0.208911], [51.53216, -0.237764], [51.485404, -0.202551], [51.481702, -0.213354], [51.485494, -0.220263], [51.479332, -0.199477], [51.491059, -0.225521], [51.47707, -0.216271], [51.476174, -0.192977], [51.469891, -0.205464], [51.506398, -0.234868], [51.494635, -0.224085], [51.531231, -0.247748], [51.500091, -0.222144], [51.484681, -0.220007], [51.482522, -0.214042], [51.514858, -0.229352], [51.466588, -0.189469], [51.509723, -0.234739], [51.490604, -0.213294], [51.483175, -0.209696], [51.48021, -0.198146], [51.492812, -0.234384], [51.506375, -0.239336], [51.470555, -0.201839], [51.494981, -0.211394], [51.480119, -0.192245], [51.478436, -0.21737], [51.471938, -0.204088], [51.486222, -0.220811], [51.492771, -0.225742], [51.483289, -0.217181], [51.493026, -0.224724], [51.472677, -0.199451], [51.470203, -0.208188], [51.499052, -0.212964], [51.476343, -0.215724], [51.494185, -0.224103], [51.47871, -0.194173], [51.49099, -0.23287], [51.488453, -0.219716], [51.467566, -0.212179], [51.485314, -0.202554], [51.485858, -0.220537], [51.510118, -0.231121], [51.493349, -0.234219], [51.480675, -0.199136], [51.49251, -0.232235], [51.503718, -0.224164], [51.490777, -0.206949], [51.492758, -0.224879], [51.493125, -0.237253], [51.479544, -0.195724], [51.514902, -0.226324], [51.492668, -0.224882], [51.494464, -0.212855], [51.468941, -0.196287], [51.514922, -0.221711], [51.476737, -0.182875], [51.485496, -0.202691], [51.479453, -0.219203], [51.486498, -0.209422], [51.472335, -0.218328], [51.478095, -0.200966], [51.466675, -0.189321], [51.514902, -0.226324], [51.477484, -0.190477], [51.504685, -0.222686], [51.513125, -0.245705], [51.472105, -0.203218], [51.492934, -0.224584], [51.493442, -0.24041], [51.488887, -0.206879], [51.502063, -0.227687], [51.502651, -0.224926], [51.483768, -0.201463], [51.515992, -0.221093], [51.503808, -0.224161], [51.492832, -0.200242], [51.491201, -0.234879], [51.5147, -0.230799], [51.481311, -0.187878], [51.506383, -0.23386], [51.485658, -0.201533], [51.486222, -0.220811], [51.494082, -0.241106], [51.480133, -0.193109], [51.515641, -0.221683], [51.494608, -0.222358], [51.477061, -0.209791], [51.515948, -0.236084], [51.481871, -0.218532], [51.495624, -0.21814], [51.474231, -0.207022], [51.490869, -0.20709], [51.532265, -0.238769], [51.498208, -0.222506], [51.506067, -0.230846], [51.504687, -0.22283], [51.476349, -0.204347], [51.487162, -0.205795], [51.474817, -0.192455], [51.46958, -0.191078], [51.478711, -0.188413], [51.483312, -0.201049], [51.4875, -0.222058], [51.494034, -0.214168], [51.494371, -0.230434], [51.502653, -0.22507], [51.504006, -0.219398], [51.506278, -0.232855], [51.50204, -0.220195], [51.467986, -0.186822], [51.5176, -0.250289], [51.497805, -0.21964], [51.492129, -0.201278], [51.492578, -0.224885], [51.503929, -0.220266], [51.484365, -0.205184], [51.468271, -0.211287], [51.503412, -0.221727], [51.499282, -0.222176], [51.474942, -0.194754], [51.497878, -0.242401], [51.475249, -0.214758], [51.50919, -0.235192], [51.474933, -0.182514], [51.477835, -0.189887], [51.515078, -0.220119], [51.494157, -0.210418], [51.497428, -0.236367], [51.506374, -0.233284], [51.487226, -0.22178], [51.474061, -0.213509], [51.501949, -0.232014], [51.492668, -0.224882], [51.475707, -0.215316], [51.479249, -0.211722], [51.471419, -0.211308], [51.492975, -0.221413], [51.486945, -0.203354], [51.488037, -0.210081], [51.499902, -0.239441], [51.493513, -0.245162], [51.50508, -0.224976], [51.481765, -0.199813], [51.506168, -0.231562], [51.50396, -0.216374], [51.505662, -0.227835], [51.506061, -0.230414], [51.493337, -0.239406], [51.506639, -0.244945], [51.490742, -0.216458], [51.515068, -0.249378], [51.491338, -0.238042], [51.494947, -0.244818], [51.493317, -0.23811], [51.515082, -0.226317], [51.529451, -0.237004], [51.492503, -0.231803], [51.518278, -0.247525], [51.484229, -0.219881], [51.475485, -0.200781], [51.518161, -0.227783], [51.475615, -0.215176], [51.49481, -0.211977], [51.4904, -0.22353], [51.517709, -0.245529], [51.486418, -0.198334], [51.493136, -0.22011], [51.505075, -0.224688], [51.500887, -0.233208], [51.526177, -0.234535], [51.51441, -0.235423], [51.506513, -0.224632], [51.527452, -0.235639], [51.493459, -0.241562], [51.514559, -0.233399], [51.503756, -0.220705], [51.504687, -0.22283], [51.510482, -0.243357], [51.493901, -0.211292], [51.503076, -0.223325], [51.516077, -0.22671], [51.491522, -0.208648], [51.490365, -0.209414], [51.486677, -0.197603], [51.503168, -0.223465], [51.515082, -0.226317], [51.504687, -0.22283], [51.510256, -0.246248], [51.493423, -0.245165], [51.485494, -0.220263], [51.510118, -0.231121], [51.515068, -0.249378], [51.504006, -0.219398], [51.509721, -0.234595], [51.494093, -0.223962], [51.492668, -0.224882], [51.492399, -0.224892], [51.490927, -0.228695], [51.491211, -0.223642], [51.510516, -0.239608], [51.492501, -0.231659], [51.492722, -0.234388], [51.506407, -0.235444], [51.504926, -0.238671], [51.493323, -0.244449], [51.491211, -0.223642], [51.494894, -0.211542], [51.51396, -0.23544], [51.491272, -0.227673], [51.480014, -0.191241], [51.501313, -0.231606], [51.51516, -0.249518], [51.486877, -0.216609], [51.520789, -0.229122], [51.502074, -0.222499], [51.467375, -0.205563], [51.482936, -0.211722], [51.482854, -0.200491], [51.502842, -0.237599], [51.498925, -0.222334], [51.486224, -0.203239], [51.477708, -0.216822], [51.493136, -0.22011], [51.468271, -0.211287], [51.493026, -0.224724], [51.499036, -0.241636], [51.515715, -0.22658], [51.503076, -0.223325], [51.48594, -0.19648], [51.501447, -0.240534], [51.514918, -0.221423], [51.494034, -0.214168], [51.519056, -0.22746], [51.499339, -0.237878], [51.468295, -0.189401], [51.491198, -0.234735], [51.5066, -0.242353], [51.490705, -0.21401], [51.485406, -0.202695], [51.483291, -0.217325], [51.496691, -0.223285], [51.470906, -0.207152], [51.465551, -0.192245], [51.488306, -0.204165], [51.471147, -0.211175], [51.478008, -0.207018], [51.488881, -0.218259], [51.49781, -0.243844], [51.489133, -0.223003], [51.466851, -0.189026], [51.46659, -0.189613], [51.494362, -0.229858], [51.48021, -0.198146], [51.530622, -0.237103], [51.505435, -0.224674], [51.469067, -0.210392], [51.490154, -0.213312], [51.504898, -0.236799], [51.483011, -0.21071], [51.471682, -0.204962], [51.487684, -0.222339], [51.494356, -0.229426], [51.478895, -0.194454], [51.490606, -0.213438], [51.483188, -0.216465], [51.503844, -0.220557], [51.49312, -0.219102], [51.477484, -0.190477], [51.498922, -0.22219], [51.496923, -0.21492], [51.503585, -0.239155], [51.512242, -0.234786], [51.495751, -0.244499], [51.506372, -0.23314], [51.491095, -0.233874], [51.506603, -0.224629], [51.503967, -0.234673], [51.485678, -0.202828], [51.527904, -0.235766], [51.518882, -0.227899], [51.485314, -0.202554], [51.497925, -0.227559], [51.475889, -0.215453], [51.510711, -0.216831], [51.49272, -0.234244], [51.52372, -0.232612], [51.494883, -0.234592], [51.511822, -0.224858], [51.490496, -0.212146], [51.506482, -0.240484], [51.498407, -0.223795], [51.48243, -0.213902], [51.499119, -0.2412], [51.498208, -0.222506], [51.490958, -0.230711], [51.483394, -0.218185], [51.46668, -0.189609], [51.515643, -0.221827], [51.513793, -0.248274], [51.502074, -0.222499], [51.492726, -0.234676], [51.491192, -0.234303], [51.469696, -0.210368], [51.489873, -0.242276], [51.485356, -0.2171], [51.467024, -0.188588], [51.526704, -0.210007], [51.502309, -0.220185], [51.468184, -0.211435], [51.504168, -0.218239], [51.494525, -0.21098], [51.495323, -0.239906], [51.506371, -0.239048], [51.511163, -0.246789], [51.502784, -0.227803], [51.509721, -0.234595], [51.498028, -0.222513], [51.513887, -0.248558], [51.480368, -0.1967], [51.491222, -0.236318], [51.492722, -0.234388], [51.472348, -0.20148], [51.494635, -0.224085], [51.47491, -0.186835], [51.490779, -0.207093], [51.491213, -0.223786], [51.51499, -0.220267], [51.493221, -0.237682], [51.498493, -0.235461], [51.466406, -0.189332], [51.495713, -0.224043], [51.494723, -0.212125], [51.50183, -0.242104], [51.490779, -0.207093], [51.489521, -0.213048], [51.48001, -0.190953], [51.487035, -0.203351], [51.509723, -0.234739], [51.479721, -0.195573], [51.473971, -0.18428], [51.472384, -0.209686], [51.503751, -0.220417], [51.530316, -0.228752], [51.503756, -0.220705], [51.493455, -0.241274], [51.472677, -0.199451], [51.480471, -0.19756], [51.473553, -0.186313], [51.503751, -0.220417], [51.49078, -0.230861], [51.472355, -0.201912], [51.505178, -0.225549], [51.506487, -0.240772], [51.471255, -0.206419], [51.474793, -0.214344], [51.492411, -0.231663], [51.503754, -0.220561], [51.472928, -0.198289], [51.488013, -0.208498], [51.492471, -0.211925], [51.481702, -0.213354], [51.482936, -0.211722], [51.482522, -0.214042], [51.490415, -0.206819], [51.488589, -0.205018], [51.532314, -0.236028], [51.506364, -0.238616], [51.504008, -0.219542], [51.487111, -0.202484], [51.486401, -0.203088], [51.506423, -0.224636], [51.492969, -0.220981], [51.516811, -0.227691], [51.478096, -0.189301], [51.500718, -0.233935], [51.499036, -0.241636], [51.50488, -0.223687], [51.482856, -0.200635], [51.467213, -0.212624], [51.515882, -0.249635], [51.472181, -0.202351], [51.499788, -0.237861], [51.48536, -0.205577], [51.520699, -0.229125], [51.50351, -0.222299], [51.494434, -0.23461], [51.483605, -0.208383], [51.477423, -0.192352], [51.483011, -0.21071], [51.493644, -0.22398], [51.485273, -0.217535], [51.498208, -0.222506], [51.512817, -0.225252], [51.476844, -0.201447], [51.506336, -0.236743], [51.467919, -0.211733], [51.480054, -0.193832], [51.514992, -0.22632], [51.501828, -0.24196], [51.478188, -0.189441], [51.514398, -0.240612], [51.476776, -0.20289], [51.485406, -0.202695], [51.470753, -0.19132], [51.497401, -0.222681], [51.477369, -0.194658], [51.47986, -0.198736], [51.479319, -0.204518], [51.493329, -0.24488], [51.48676, -0.197168], [51.501894, -0.228414], [51.502074, -0.222499], [51.477055, -0.19179], [51.491794, -0.226501], [51.504896, -0.236655], [51.490777, -0.206949], [51.490743, -0.228414], [51.495664, -0.244647], [51.503355, -0.22389], [51.500721, -0.234079], [51.480096, -0.196567], [51.475249, -0.214758], [51.484432, -0.197836], [51.506375, -0.239336], [51.474676, -0.200813], [51.483948, -0.201456], [51.504343, -0.217944], [51.504089, -0.218963], [51.493327, -0.244737], [51.504054, -0.216658], [51.499992, -0.239438], [51.503627, -0.235983], [51.482148, -0.201383], [51.492309, -0.224896], [51.493946, -0.226129], [51.505178, -0.225549], [51.468714, -0.210838], [51.491141, -0.207223], [51.493006, -0.223428], [51.475253, -0.22095], [51.503756, -0.220705], [51.49127, -0.227529], [51.468745, -0.189383], [51.497223, -0.222832], [51.471682, -0.210866], [51.515643, -0.221827], [51.494354, -0.229282], [51.493017, -0.224148], [51.504687, -0.22283], [51.513896, -0.249134], [51.496868, -0.223134], [51.498838, -0.198997], [51.473877, -0.183996], [51.479857, -0.198592], [51.472352, -0.201768], [51.472186, -0.202638], [51.485212, -0.195933], [51.482236, -0.201235], [51.49177, -0.207198], [51.517528, -0.227519], [51.479857, -0.198592], [51.504225, -0.216075], [51.466329, -0.190199], [51.489937, -0.228589], [51.505662, -0.227835], [51.503254, -0.223174], [51.5149, -0.22618], [51.477147, -0.191931], [51.481612, -0.213358], [51.499793, -0.238149], [51.490946, -0.218034], [51.502315, -0.226524], [51.494333, -0.233893], [51.500505, -0.219823], [51.481488, -0.199392], [51.499911, -0.222151], [51.514902, -0.226324], [51.492471, -0.229644], [51.471294, -0.191442], [51.497482, -0.210288], [51.51038, -0.224626], [51.478887, -0.211592], [51.481298, -0.19868], [51.515641, -0.221683], [51.49293, -0.236252], [51.495591, -0.210074], [51.473393, -0.199279], [51.493459, -0.241562], [51.515233, -0.224437], [51.466773, -0.195652], [51.494512, -0.216023], [51.478953, -0.204101], [51.517889, -0.227649], [51.509721, -0.234595], [51.506164, -0.231274], [51.503812, -0.242316], [51.498298, -0.222502], [51.476934, -0.201444], [51.50367, -0.220996], [51.478271, -0.189006], [51.479171, -0.194875], [51.468759, -0.19615], [51.516894, -0.227255], [51.492934, -0.224584], [51.468759, -0.19615], [51.527178, -0.235362], [51.47906, -0.187679], [51.493602, -0.209431], [51.498437, -0.243676], [51.488786, -0.229786], [51.503173, -0.223753], [51.493125, -0.21939], [51.473277, -0.197556], [51.515792, -0.237675], [51.493734, -0.223976], [51.500977, -0.382761], [51.490888, -0.23201], [51.516894, -0.227255], [51.468714, -0.210838], [51.488048, -0.222613], [51.513795, -0.248418], [51.480512, -0.217865], [51.483865, -0.219607], [51.501449, -0.240678], [51.509273, -0.222796], [51.490963, -0.21328], [51.493337, -0.239406], [51.509194, -0.223519], [51.490941, -0.223653], [51.508539, -0.245737], [51.482585, -0.200501], [51.493169, -0.234226], [51.492539, -0.2282], [51.515641, -0.221683], [51.531433, -0.237216], [51.509122, -0.224675], [51.495303, -0.226652], [51.4778, -0.216963], [51.477329, -0.192068], [51.497848, -0.22252], [51.484724, -0.20517], [51.517782, -0.250427], [51.482311, -0.200224], [51.482674, -0.200498], [51.493017, -0.224148], [51.528903, -0.236448], [51.469067, -0.210392], [51.491279, -0.204481], [51.49995, -0.23065], [51.47997, -0.211838], [51.488377, -0.208772], [51.514781, -0.23022], [51.515444, -0.220538], [51.478006, -0.20097], [51.485016, -0.21841], [51.503756, -0.220705], [51.49439, -0.23173], [51.505139, -0.217048], [51.47906, -0.187679], [51.480505, -0.205624], [51.515211, -0.222997], [51.492971, -0.221125], [51.490851, -0.223656], [51.472677, -0.199451], [51.529087, -0.236729], [51.490141, -0.206542], [51.489405, -0.223136], [51.501575, -0.184048], [51.502322, -0.226956], [51.514915, -0.221279], [51.469157, -0.210389], [51.506587, -0.241489], [51.490791, -0.231581], [51.503081, -0.223613], [51.47792, -0.189596], [51.495306, -0.244805], [51.488126, -0.204172], [51.487592, -0.222198], [51.469876, -0.192794], [51.546134, -0.074103], [51.521886, -0.087091], [51.561384, -0.060907], [51.530126, -0.074058], [51.543488, -0.055467], [51.5612, -0.082556], [51.534371, -0.080656], [51.546462, -0.083176], [51.565404, -0.103301], [51.558819, -0.074433], [51.522811, -0.077683], [51.554405, -0.090488], [51.561776, -0.057428], [51.545329, -0.063465], [51.529733, -0.077535], [51.558835, -0.06996], [51.563784, -0.103224], [51.550558, -0.075215], [51.536581, -0.061961], [51.549394, -0.059109], [51.525963, -0.083461], [51.549493, -0.059682], [51.566194, -0.102114], [51.538922, -0.056671], [51.537839, -0.045613], [51.551099, -0.021244], [51.541572, -0.070114], [51.573642, -0.073518], [51.534919, -0.070251], [51.574616, -0.083579], [51.546103, -0.07771], [51.563791, -0.092547], [51.559781, -0.05102], [51.565644, -0.084822], [51.565944, -0.081202], [51.560326, -0.056768], [51.54495, -0.04603], [51.527853, -0.078047], [51.557978, -0.056147], [51.523885, -0.077349], [51.560353, -0.085766], [51.529126, -0.095438], [51.56232, -0.057693], [51.534856, -0.07184], [51.53949, -0.085776], [51.534917, -0.070107], [51.555137, -0.069251], [51.57455, -0.085025], [51.570594, -0.096159], [51.547918, -0.046047], [51.546181, -0.071505], [51.550958, -0.072169], [51.552893, -0.074972], [51.54231, -0.076717], [51.537733, -0.060903], [51.528353, -0.092155], [51.565927, -0.10227], [51.540316, -0.070311], [51.552612, -0.057962], [51.570815, -0.093119], [51.548494, -0.075446], [51.548572, -0.042124], [51.52541, -0.082619], [51.526512, -0.084014], [51.548572, -0.042124], [51.526507, -0.083726], [51.56267, -0.062584], [51.551257, -0.030613], [51.534709, -0.073865], [51.570682, -0.096011], [51.544996, -0.076026], [51.547639, -0.056299], [51.549614, -0.061552], [51.558996, -0.074281], [51.540202, -0.063394], [51.538845, -0.073834], [51.535231, -0.089272], [51.570772, -0.096007], [51.537797, -0.070274], [51.556831, -0.090386], [51.550864, -0.055585], [51.541095, -0.057588], [51.53045, -0.077361], [51.565508, -0.060154], [51.545642, -0.05523], [51.553619, -0.053592], [51.5542, -0.088909], [51.542303, -0.076284], [51.527151, -0.079086], [51.546112, -0.072806], [51.546985, -0.049404], [51.564068, -0.060071], [51.55942, -0.056374], [51.57433, -0.077097], [51.537005, -0.076796], [51.541331, -0.02859], [51.572561, -0.067936], [51.528995, -0.08737], [51.528937, -0.09487], [51.526661, -0.082134], [51.543417, -0.03499], [51.544569, -0.055565], [51.550724, -0.052562], [51.554673, -0.068405], [51.570046, -0.095604], [51.547857, -0.04778], [51.529032, -0.095154], [51.522189, -0.078141], [51.527687, -0.089876], [51.561285, -0.082264], [51.549504, -0.054921], [51.563892, -0.054885], [51.570502, -0.096018], [51.545691, -0.063594], [51.574748, -0.086171], [51.535321, -0.089268], [51.550199, -0.07523], [51.548106, -0.068251], [51.56377, -0.085767], [51.545691, -0.063594], [51.562047, -0.079347], [51.570502, -0.096018], [51.549031, -0.075279], [51.542638, -0.080308], [51.561773, -0.057283], [51.565674, -0.064765], [51.567786, -0.0729], [51.522546, -0.077982], [51.574656, -0.086031], [51.540109, -0.057774], [51.539456, -0.056359], [51.551767, -0.072135], [51.528267, -0.075867], [51.548572, -0.042124], [51.567949, -0.060916], [51.537761, -0.057153], [51.570502, -0.096018], [51.570682, -0.096011], [51.560881, -0.085022], [51.538474, -0.051354], [51.570942, -0.095423], [51.537039, -0.057039], [51.573074, -0.07181], [51.552041, -0.083374], [51.560162, -0.074088], [51.567137, -0.060806], [51.543576, -0.055319], [51.550469, -0.075219], [51.550989, -0.068561], [51.546065, -0.069924], [51.527881, -0.090733], [51.567223, -0.071481], [51.570589, -0.09587], [51.54793, -0.046767], [51.574235, -0.076812], [51.56578, -0.060287], [51.546781, -0.04797], [51.565461, -0.084686], [51.558996, -0.074281], [51.570497, -0.09573], [51.556508, -0.076118], [51.568039, -0.09944], [51.565273, -0.07315], [51.562869, -0.058247], [51.545638, -0.054942], [51.531168, -0.066373], [51.551994, -0.07501], [51.567247, -0.072923], [51.529331, -0.074957], [51.561956, -0.05742], [51.549547, -0.03588], [51.537683, -0.047062], [51.55807, -0.056287], [51.527597, -0.08988], [51.53396, -0.02343], [51.547857, -0.04778], [51.546474, -0.083897], [51.541482, -0.070118], [51.532656, -0.080296], [51.538747, -0.056966], [51.530632, -0.082976], [51.560542, -0.091817], [51.562198, -0.077609], [51.52624, -0.083881], [51.540945, -0.081245], [51.551504, -0.067097], [51.526661, -0.082134], [51.561865, -0.073727], [51.543189, -0.064565], [51.562431, -0.091883], [51.550135, -0.033403], [51.532682, -0.08736], [51.561166, -0.047787], [51.560734, -0.070601], [51.538895, -0.076861], [51.53789, -0.054119], [51.53668, -0.057055], [51.545822, -0.055223], [51.559266, -0.07427], [51.559785, -0.056647], [51.570307, -0.067598], [51.574479, -0.086183], [51.548434, -0.050063], [51.570417, -0.09631], [51.52756, -0.076617], [51.547173, -0.055309], [51.570684, -0.096155], [51.561969, -0.080071], [51.546075, -0.075981], [51.57358, -0.064284], [51.550719, -0.052273], [51.564129, -0.091234], [51.546162, -0.075833], [51.534851, -0.077031], [51.562716, -0.081771], [51.542537, -0.041518], [51.546216, -0.073667], [51.574389, -0.086186], [51.552017, -0.049189], [51.535963, -0.057229], [51.560971, -0.074054], [51.530298, -0.084576], [51.553619, -0.053592], [51.556652, -0.068466], [51.551887, -0.052223], [51.535031, -0.077023], [51.528071, -0.080344], [51.527643, -0.08166], [51.562047, -0.068381], [51.527139, -0.078365], [51.548763, -0.075435], [51.556805, -0.055908], [51.541327, -0.05527], [51.570239, -0.096462], [51.529643, -0.077539], [51.561955, -0.073724], [51.54872, -0.040243], [51.545982, -0.075841], [51.537832, -0.045181], [51.557743, -0.069141], [51.560162, -0.074088], [51.549892, -0.035], [51.559197, -0.070089], [51.549394, -0.059109], [51.554291, -0.05616], [51.568304, -0.09914], [51.548527, -0.050203], [51.565812, -0.073128], [51.559602, -0.05651], [51.527136, -0.0837], [51.536393, -0.066872], [51.564825, -0.084279], [51.543758, -0.055455], [51.545404, -0.046299], [51.555768, -0.074851], [51.549122, -0.064457], [51.549722, -0.035584], [51.543738, -0.076079], [51.548231, -0.064928], [51.547848, -0.068983], [51.524386, -0.080499], [51.530403, -0.074479], [51.551994, -0.07501], [51.554895, -0.081956], [51.55474, -0.056141], [51.538895, -0.076861], [51.544112, -0.028182], [51.570682, -0.096011], [51.550887, -0.051545], [51.522724, -0.07783], [51.55005, -0.033695], [51.532266, -0.078438], [51.548584, -0.075442], [51.554834, -0.050943], [51.56725, -0.073067], [51.570592, -0.096014], [51.54325, -0.062832], [51.546072, -0.075837], [51.556575, -0.074672], [51.572283, -0.094934], [51.54616, -0.075689], [51.563677, -0.058212], [51.56351, -0.058941], [51.555856, -0.074703], [51.538772, -0.053072], [51.549549, -0.036024], [51.528932, -0.078001], [51.564374, -0.073188], [51.535482, -0.082628], [51.573642, -0.073518], [51.56596, -0.060279], [51.549436, -0.056223], [51.531168, -0.066373], [51.533022, -0.086192], [51.560126, -0.05014], [51.570765, -0.095574], [51.54575, -0.083639], [51.550732, -0.020828], [51.55737, -0.046651], [51.538028, -0.056997], [51.53632, -0.05707], [51.557344, -0.055885], [51.527134, -0.078077], [51.542392, -0.07628], [51.538713, -0.076724], [51.550108, -0.037154], [51.560947, -0.083577], [51.54708, -0.055169], [51.54815, -0.04921], [51.557289, -0.068871], [51.536199, -0.076974], [51.541316, -0.07647], [51.547314, -0.069294], [51.558528, -0.067665], [51.561251, -0.047495], [51.530516, -0.075916], [51.55487, -0.036949], [51.525129, -0.08191], [51.531681, -0.086681], [51.545855, -0.03027], [51.550722, -0.052417], [51.524558, -0.085538], [51.572567, -0.090304], [51.532857, -0.087064], [51.570754, -0.072919], [51.542047, -0.07168], [51.572229, -0.091617], [51.527975, -0.091017], [51.534402, -0.07705], [51.568326, -0.072877], [51.546219, -0.073811], [51.544032, -0.044915], [51.562917, -0.072096], [51.544333, -0.046777], [51.561866, -0.057424], [51.552477, -0.044409], [51.532065, -0.077148], [51.544888, -0.042282], [51.54142, -0.039259], [51.550469, -0.075219], [51.537444, -0.059762], [51.549776, -0.055054], [51.56823, -0.061626], [51.538803, -0.07672], [51.549007, -0.068357], [51.524027, -0.080515], [51.557691, -0.082415], [51.575243, -0.07244], [51.548109, -0.057577], [51.549471, -0.036749], [51.547777, -0.075621], [51.527125, -0.077501], [51.53803, -0.057141], [51.570942, -0.095423], [51.530109, -0.084007], [51.554583, -0.068409], [51.530735, -0.089316], [51.546141, -0.069055], [51.52762, -0.09132], [51.560124, -0.049996], [51.536078, -0.075105], [51.538291, -0.062033], [51.529065, -0.091692], [51.536199, -0.076974], [51.543206, -0.027788], [51.540037, -0.05345], [51.522012, -0.078293], [51.524966, -0.077448], [51.541621, -0.07862], [51.569517, -0.063303], [51.544609, -0.031045], [51.555465, -0.067362], [51.553075, -0.053327], [51.570782, -0.063682], [51.55732, -0.076228], [51.549352, -0.078439], [51.549963, -0.055479], [51.547784, -0.027302], [51.555344, -0.065492], [51.562049, -0.079491], [51.553462, -0.04956], [51.573445, -0.072516], [51.54305, -0.067023], [51.551575, -0.017473], [51.574538, -0.07882], [51.546004, -0.077138], [51.54943, -0.077714], [51.52717, -0.080238], [51.550995, -0.031058], [51.528265, -0.075723], [51.564969, -0.060177], [51.526685, -0.078096], [51.539456, -0.056359], [51.552853, -0.056221], [51.567247, -0.072923], [51.524665, -0.081064], [51.538429, -0.070391], [51.549105, -0.025658], [51.572391, -0.06852], [51.548205, -0.063343], [51.541481, -0.048341], [51.547173, -0.055309], [51.549422, -0.055358], [51.530961, -0.081088], [51.536936, -0.061658], [51.527389, -0.08268], [51.558351, -0.056997], [51.535369, -0.070232], [51.524389, -0.080643], [51.563051, -0.058383], [51.564297, -0.090506], [51.544675, -0.05657], [51.564464, -0.073185], [51.550253, -0.051283], [51.554316, -0.068565], [51.537826, -0.066523], [51.540687, -0.076497], [51.544859, -0.05137], [51.558914, -0.052933], [51.530627, -0.077209], [51.542437, -0.079019], [51.526942, -0.088321], [51.555639, -0.056102], [51.555991, -0.055655], [51.558413, -0.055263], [51.524937, -0.081197], [51.557073, -0.083163], [51.537039, -0.057039], [51.546987, -0.049548], [51.523374, -0.0791], [51.514371, -0.008424], [51.54486, -0.046033], [51.528125, -0.07818], [51.565404, -0.103301], [51.526178, -0.085614], [51.546342, -0.075825], [51.546233, -0.069195], [51.565183, -0.073154], [51.536109, -0.076978], [51.549852, -0.054185], [51.52676, -0.088185], [51.536558, -0.076959], [51.531894, -0.061296], [51.538004, -0.044741], [51.548651, -0.020052], [51.532772, -0.087356], [51.556111, -0.068344], [51.543495, -0.055899], [51.544926, -0.055405], [51.575153, -0.072444], [51.566104, -0.102118], [51.545892, -0.075844], [51.571682, -0.09669], [51.524204, -0.080363], [51.557888, -0.056151], [51.52551, -0.077713], [51.549046, -0.038209], [51.550892, -0.051833], [51.527648, -0.07647], [51.549381, -0.036753], [51.553192, -0.049571], [51.534891, -0.068522], [51.572909, -0.072683], [51.567144, -0.094138], [51.54111, -0.047636], [51.529352, -0.087211], [51.543983, -0.063666], [51.543187, -0.064421], [51.522906, -0.077967], [51.549493, -0.059682], [51.552715, -0.069642], [51.556575, -0.074672], [51.545982, -0.075841], [51.566626, -0.095459], [51.549013, -0.020181], [51.557196, -0.068731], [51.564554, -0.073181], [51.544716, -0.03205], [51.551476, -0.054549], [51.574384, -0.085898], [51.570236, -0.063272], [51.551679, -0.039683], [51.545852, -0.062433], [51.567774, -0.061212], [51.55972, -0.074539], [51.562127, -0.078766], [51.562532, -0.08149], [51.529958, -0.080265], [51.570417, -0.09631], [51.5446, -0.046621], [51.567065, -0.078269], [51.540964, -0.049661], [51.572397, -0.090888], [51.549403, -0.059686], [51.566107, -0.102262], [51.571906, -0.077343], [51.570407, -0.079138], [51.549214, -0.037481], [51.554671, -0.041141], [51.562958, -0.058243], [51.534891, -0.063043], [51.533779, -0.082988], [51.547061, -0.075795], [51.535388, -0.082344], [51.546841, -0.051574], [51.549752, -0.075393], [51.562412, -0.057833], [51.574471, -0.08575], [51.57354, -0.072801], [51.56383, -0.072923], [51.526507, -0.083726], [51.541832, -0.085967], [51.552164, -0.052644], [51.546691, -0.047974], [51.526004, -0.080431], [51.547004, -0.050557], [51.569406, -0.072976], [51.53045, -0.077361], [51.550632, -0.052421], [51.570682, -0.096011], [51.572395, -0.090744], [51.552559, -0.033154], [51.540698, -0.055297], [51.546238, -0.069484], [51.560372, -0.048687], [51.540687, -0.076497], [51.534915, -0.069963], [51.55865, -0.064197], [51.567065, -0.078269], [51.568039, -0.09944], [51.54292, -0.070057], [51.5412, -0.047632], [51.544851, -0.045457], [51.536141, -0.089954], [51.560742, -0.09859], [51.549555, -0.020302], [51.562312, -0.073564], [51.550133, -0.071194], [51.553148, -0.085059], [51.557563, -0.07463], [51.569763, -0.072816], [51.529643, -0.077539], [51.530767, -0.080231], [51.536475, -0.060957], [51.563745, -0.073215], [51.53054, -0.077357], [51.544952, -0.046174], [51.548134, -0.075461], [51.528907, -0.087518], [51.531103, -0.078775], [51.545078, -0.032178], [51.561891, -0.080796], [51.554675, -0.068549], [51.549496, -0.059826], [51.556353, -0.055783], [51.542813, -0.080012], [51.540964, -0.049661], [51.574476, -0.086038], [51.570594, -0.096159], [51.566457, -0.10167], [51.549505, -0.060403], [51.526093, -0.085906], [51.524386, -0.080499], [51.542752, -0.081746], [51.533384, -0.086321], [51.56587, -0.060283], [51.531077, -0.07719], [51.550305, -0.032818], [51.546134, -0.074103], [51.565034, -0.069553], [51.546146, -0.074824], [51.53241, -0.087227], [51.552569, -0.044549], [51.52633, -0.083878], [51.523741, -0.079517], [51.528167, -0.09173], [51.551082, -0.03091], [51.548069, -0.055127], [51.534468, -0.070126], [51.544098, -0.076064], [51.550556, -0.05329], [51.545494, -0.046295], [51.533657, -0.070016], [51.569586, -0.072968], [51.524052, -0.087577], [51.546838, -0.051429], [51.549572, -0.075401], [51.559785, -0.056647], [51.573951, -0.086926], [51.569586, -0.072968], [51.548494, -0.075446], [51.528261, -0.092014], [51.549887, -0.034711], [51.557369, -0.041169], [51.567918, -0.086458], [51.534671, -0.077039], [51.542597, -0.045121], [51.539025, -0.079307], [51.546682, -0.042061], [51.540777, -0.076493], [51.544382, -0.05514], [51.56795, -0.099444], [51.53063, -0.077353], [51.556662, -0.074524], [51.566194, -0.102114], [51.529034, -0.095298], [51.576326, -0.072683], [51.558547, -0.0743], [51.572909, -0.072683], [51.571823, -0.066812], [51.533193, -0.080129], [51.562312, -0.068082], [51.564554, -0.073181], [51.537324, -0.09077], [51.546148, -0.074968], [51.53695, -0.057043], [51.549466, -0.03646], [51.530469, -0.073035], [51.533326, -0.07724], [51.574536, -0.078676], [51.563791, -0.092547], [51.565577, -0.102861], [51.550575, -0.070743], [51.54292, -0.070057], [51.536828, -0.076948], [51.551721, -0.058433], [51.547011, -0.050989], [51.529835, -0.08373], [51.533807, -0.057321], [51.573552, -0.073522], [51.544349, -0.036969], [51.570061, -0.063568], [51.547857, -0.04778], [51.542627, -0.079588], [51.56578, -0.060287], [51.56671, -0.07309], [51.57113, -0.062945], [51.558879, -0.056253], [51.563141, -0.058379], [51.543118, -0.049425], [51.546689, -0.04783], [51.536402, -0.051154], [51.551782, -0.024388], [51.56212, -0.078333], [51.534494, -0.07719], [51.556735, -0.051728], [51.535852, -0.055936], [51.547074, -0.0494], [51.539398, -0.085636], [51.54606, -0.069635], [51.565172, -0.094509], [51.550918, -0.0752], [51.545256, -0.069958], [51.535065, -0.057268], [51.562048, -0.05756], [51.571136, -0.09628], [51.54656, -0.056345], [51.539456, -0.056359], [51.55375, -0.039882], [51.57201, -0.067237], [51.527148, -0.078942], [51.546448, -0.082311], [51.530946, -0.069266], [51.557291, -0.074498], [51.549547, -0.03588], [51.546497, -0.047117], [51.553165, -0.053323], [51.570592, -0.096014], [51.54934, -0.077718], [51.544942, -0.050934], [51.547952, -0.069844], [51.548763, -0.075435], [51.549839, -0.075245], [51.561974, -0.074877], [51.53727, -0.049243], [51.548264, -0.066946], [51.573833, -0.068747], [51.555753, -0.090431], [51.546134, -0.074103], [51.541992, -0.084806], [51.547731, -0.056439], [51.53483, -0.070255], [51.563964, -0.05921], [51.544994, -0.075882], [51.545365, -0.033176], [51.52651, -0.08387], [51.524294, -0.080359], [51.564888, -0.039115], [51.564151, -0.059635], [51.534042, -0.077065], [51.552084, -0.075006], [51.552254, -0.05264], [51.54659, -0.041921], [51.538742, -0.056678], [51.551249, -0.051674], [51.565139, -0.103601], [51.555946, -0.074699], [51.549422, -0.055358], [51.546565, -0.056633], [51.552176, -0.075146], [51.57132, -0.096561], [51.539983, -0.055616], [51.546631, -0.055188], [51.546242, -0.069772], [51.546124, -0.073527], [51.546772, -0.042057], [51.56814, -0.06163], [51.524384, -0.080355], [51.555197, -0.045735], [51.569881, -0.063576], [51.559176, -0.074274], [51.530956, -0.069842], [51.555227, -0.074729], [51.553342, -0.074953], [51.527141, -0.078509], [51.545049, -0.035785], [51.570677, -0.095722], [51.560649, -0.049108], [51.540314, -0.070167], [51.560108, -0.070772], [51.527212, -0.077353], [51.574689, -0.082566], [51.575333, -0.072436], [51.572397, -0.090888], [51.549498, -0.05997], [51.574535, -0.08416], [51.559785, -0.056647], [51.534098, -0.091482], [51.570305, -0.072938], [51.553021, -0.044674], [51.545146, -0.036214], [51.523705, -0.077357], [51.549384, -0.036897], [51.54078, -0.076637], [51.544961, -0.035933], [51.527141, -0.078509], [51.574386, -0.086042], [51.543066, -0.084473], [51.526817, -0.080685], [51.550052, -0.023165], [51.552346, -0.052781], [51.569113, -0.028254], [51.549417, -0.055069], [51.554128, -0.057177], [51.562044, -0.079202], [51.549433, -0.077859], [51.548494, -0.075446], [51.535508, -0.062295], [51.566171, -0.073112], [51.523582, -0.0974], [51.547989, -0.04489], [51.562685, -0.063449], [51.539276, -0.056367], [51.553609, -0.074797], [51.547952, -0.069844], [51.547549, -0.056303], [51.575079, -0.067973], [51.565738, -0.085107], [51.572487, -0.090884], [51.556664, -0.074668], [51.554493, -0.068413], [51.551882, -0.084679], [51.548572, -0.042124], [51.538924, -0.056815], [51.546892, -0.049264], [51.553282, -0.049567], [51.545802, -0.064887], [51.545436, -0.080912], [51.558604, -0.055976], [51.54478, -0.030461], [51.525831, -0.086349], [51.526001, -0.085766], [51.538609, -0.070383], [51.5353, -0.082492], [51.526578, -0.08257], [51.550139, -0.033691], [51.560092, -0.091836], [51.522189, -0.078141], [51.523835, -0.079802], [51.57407, -0.072201], [51.570502, -0.096018], [51.549026, -0.042393], [51.558746, -0.053662], [51.54624, -0.069628], [51.538834, -0.056819], [51.557643, -0.090496], [51.532228, -0.08709], [51.570956, -0.096288], [51.553347, -0.053459], [51.546339, -0.075681], [51.534914, -0.064484], [51.548314, -0.075454], [51.546091, -0.033577], [51.525502, -0.082759], [51.553801, -0.053728], [51.552205, -0.044276], [51.561684, -0.057287], [51.563791, -0.092547], [51.540654, -0.063519], [51.526905, -0.080538], [51.537605, -0.058601], [51.544811, -0.032334], [51.551254, -0.030469], [51.565577, -0.102861], [51.570682, -0.096011], [51.543859, -0.029202], [51.551811, -0.020781], [51.526505, -0.078104], [51.550222, -0.033255], [51.551646, -0.026991], [51.529034, -0.095298], [51.561418, -0.07389], [51.560266, -0.085914], [51.522724, -0.07783], [51.547011, -0.050989], [51.544331, -0.046633], [51.525297, -0.081182], [51.54378, -0.084154], [51.528248, -0.080193], [51.547942, -0.047488], [51.523611, -0.077072], [51.547933, -0.068691], [51.534895, -0.063331], [51.542636, -0.080164], [51.555819, -0.056095], [51.549498, -0.05997], [51.534922, -0.070395], [51.558996, -0.074281], [51.546143, -0.07468], [51.530991, -0.082961], [51.534491, -0.077046], [51.562869, -0.058247], [51.538744, -0.056822], [51.554746, -0.089319], [51.551462, -0.053684], [51.520917, -0.050086], [51.512213, -0.029704], [51.508989, -0.073797], [51.533357, -0.05734], [51.518431, -0.062876], [51.508303, -0.027135], [51.509296, -0.065137], [51.514678, -0.064333], [51.509177, -0.009659], [51.510931, -0.017653], [51.524033, -0.037411], [51.517209, -0.070567], [51.52001, -0.055025], [51.521923, -0.045718], [51.526138, -0.06673], [51.504806, -0.022386], [51.531257, -0.01778], [51.531484, -0.036658], [51.526916, -0.064823], [51.53231, -0.032297], [51.514616, -0.060588], [51.526375, -0.064702], [51.504779, -0.026134], [51.512484, -0.035169], [51.487942, -0.009], [51.500373, -0.02618], [51.528002, -0.076166], [51.515993, -0.062259], [51.521002, -0.049794], [51.518484, -0.022947], [51.516979, -0.06755], [51.510713, -0.042163], [51.518224, -0.045012], [51.52498, -0.034919], [51.512706, -0.032277], [51.518111, -0.038242], [51.527966, -0.019941], [51.509064, -0.067453], [51.521585, -0.04703], [51.508989, -0.073797], [51.502617, -0.025939], [51.525398, -0.033027], [51.522174, -0.044554], [51.529733, -0.039472], [51.512639, -0.039054], [51.514761, -0.015469], [51.509099, -0.02638], [51.517937, -0.038538], [51.529304, -0.046123], [51.508473, -0.069784], [51.528383, -0.018049], [51.525137, -0.055095], [51.512549, -0.001729], [51.527315, -0.024006], [51.523329, -0.011637], [51.513429, -0.048676], [51.527106, -0.027619], [51.525041, -0.049333], [51.527895, -0.021097], [51.530826, -0.040291], [51.52377, -0.037854], [51.526392, -0.027938], [51.513088, -0.044367], [51.508396, -0.00609], [51.509463, -0.058933], [51.530129, -0.014945], [51.531398, -0.063912], [51.510229, -0.045498], [51.528545, -0.059996], [51.513076, -0.043647], [51.530148, -0.042771], [51.527152, -0.057316], [51.509289, -0.026948], [51.517878, -0.040414], [51.527152, -0.057316], [51.53097, -0.027452], [51.530878, -0.070566], [51.526406, -0.028803], [51.53191, -0.056825], [51.530736, -0.040294], [51.509601, -0.002867], [51.517209, -0.070567], [51.519266, -0.021327], [51.508901, -0.073945], [51.513228, -0.047387], [51.522395, -0.041662], [51.514815, -0.06721], [51.51715, -0.066967], [51.524299, -0.075169], [51.52075, -0.056291], [51.528286, -0.049771], [51.529377, -0.055924], [51.520258, -0.053718], [51.52723, -0.024298], [51.532949, -0.048995], [51.49971, -0.01353], [51.521828, -0.018622], [51.495408, -0.009107], [51.514764, -0.053231], [51.521634, -0.033766], [51.520671, -0.051538], [51.510283, -0.043334], [51.516166, -0.072774], [51.52976, -0.014384], [51.514164, -0.054986], [51.517711, -0.05743], [51.526674, -0.055606], [51.516656, -0.042629], [51.527452, -0.053699], [51.527212, -0.077353], [51.510544, -0.026749], [51.512127, -0.003333], [51.526377, -0.064846], [51.510631, -0.010605], [51.519589, -0.056773], [51.524023, -0.058458], [51.521841, -0.046154], [51.519844, -0.055897], [51.507183, -0.014069], [51.526066, -0.029971], [51.526304, -0.065858], [51.527777, -0.067958], [51.51367, -0.020129], [51.530826, -0.040291], [51.527898, -0.021241], [51.509399, -0.060521], [51.524708, -0.034787], [51.517956, -0.034357], [51.521631, -0.033622], [51.519012, -0.059969], [51.511015, -0.065785], [51.529877, -0.0213], [51.514158, -0.070985], [51.525811, -0.030847], [51.510365, -0.026757], [51.514697, -0.060008], [51.51334, -0.04868], [51.51716, -0.024446], [51.53231, -0.032297], [51.523663, -0.074764], [51.51223, -0.020047], [51.50532, -0.026255], [51.5077, -0.007418], [51.507329, -0.017377], [51.523421, -0.038446], [51.512546, -0.001585], [51.517546, -0.010015], [51.53533, -0.062447], [51.519925, -0.055317], [51.529403, -0.014544], [51.510918, -0.016933], [51.524959, -0.071537], [51.487202, -0.013065], [51.496839, -0.024604], [51.508806, -0.068184], [51.500339, -0.018833], [51.568861, 0.007809], [51.524869, -0.071541], [51.523081, -0.03428], [51.509397, -0.060377], [51.512525, -0.037617], [51.523948, -0.037703], [51.52351, -0.038442], [51.531974, -0.060715], [51.522666, -0.047128], [51.525562, -0.069926], [51.511168, -0.010437], [51.511768, -0.056962], [51.520647, -0.071864], [51.527303, -0.05558], [51.522991, -0.034284], [51.532137, -0.059699], [51.514416, -0.032347], [51.531483, -0.06362], [51.492399, -0.006645], [51.526833, -0.059781], [51.529321, -0.01498], [51.513313, 0.000897], [51.51105, -0.056992], [51.517633, -0.009867], [51.495224, -0.014157], [51.519883, -0.02058], [51.523523, -0.07722], [51.518254, -0.063028], [51.518536, -0.052926], [51.511132, -0.024274], [51.515805, -0.018739], [51.533848, -0.022137], [51.509809, -0.025772], [51.522086, -0.044702], [51.510824, -0.027314], [51.531984, -0.061292], [51.538453, -0.023235], [51.514635, -0.06174], [51.525134, -0.071242], [51.500645, -0.020981], [51.520756, -0.051246], [51.488759, -0.020056], [51.530894, -0.071575], [51.527398, -0.055864], [51.511793, -0.069355], [51.508899, -0.073801], [51.527385, -0.076913], [51.514602, -0.059724], [51.52291, -0.040198], [51.511584, -0.013734], [51.509724, -0.026064], [51.501124, -0.02269], [51.509808, -0.047246], [51.526897, -0.025898], [51.514611, -0.0603], [51.508981, -0.067889], [51.513088, -0.044367], [51.506658, -0.009625], [51.529398, -0.014256], [51.511735, -0.027995], [51.509599, -0.050857], [51.503696, -0.025893], [51.512671, -0.040926], [51.51674, -0.04767], [51.516287, -0.069165], [51.517064, -0.067258], [51.521811, -0.071526], [51.512429, -0.010526], [51.514678, -0.064333], [51.514464, -0.056847], [51.50437, -0.012606], [51.51463, -0.061452], [51.516284, -0.069021], [51.488115, -0.00856], [51.532454, -0.05709], [51.515607, -0.06069], [51.527393, -0.055576], [51.509143, -0.028972], [51.524888, -0.034779], [51.515412, -0.070643], [51.530737, -0.056587], [51.523491, -0.010621], [51.509674, -0.007187], [51.525063, -0.034483], [51.5042, -0.007859], [51.507188, -0.014357], [51.517644, -0.042586], [51.527893, -0.047769], [51.518484, -0.022947], [51.51444, 0.003397], [51.512219, -0.003473], [51.523601, -0.011769], [51.517233, -0.028767], [51.525612, -0.035036], [51.52248, -0.04137], [51.522689, -0.053902], [51.521158, -0.07559], [51.513502, -0.031522], [51.512793, -0.010799], [51.524128, -0.059319], [51.528289, -0.017764], [51.542538, -0.014838], [51.507894, -0.008274], [51.521921, -0.045574], [51.511568, -0.06115], [51.511391, -0.007689], [51.527697, -0.052247], [51.516798, -0.02965], [51.520664, -0.067394], [51.519759, -0.056189], [51.522811, -0.077683], [51.522991, -0.034284], [51.511076, -0.020962], [51.508657, -0.010835], [51.529294, -0.013395], [51.535745, -0.027967], [51.528288, -0.049915], [51.510547, -0.000376], [51.52699, -0.063811], [51.525056, -0.034051], [51.524832, -0.031466], [51.533387, -0.021436], [51.52723, -0.024298], [51.51562, -0.072364], [51.531734, -0.035493], [51.514277, -0.056423], [51.509068, -0.019175], [51.512545, -0.038769], [51.513429, -0.048676], [51.521017, -0.056136], [51.510931, -0.017653], [51.512639, -0.039054], [51.527573, -0.055568], [51.5274, -0.023714], [51.51334, -0.04868], [51.528298, -0.018341], [51.512546, -0.001585], [51.511028, -0.023414], [51.510139, -0.045502], [51.531194, -0.046186], [51.500373, -0.02618], [51.514676, -0.064189], [51.527737, -0.076466], [51.522487, -0.041802], [51.523469, -0.073907], [51.526985, -0.02575], [51.511178, -0.048484], [51.514628, -0.061308], [51.508705, -0.078421], [51.513578, -0.019989], [51.517441, -0.073729], [51.514794, -0.038817], [51.52593, -0.011235], [51.521756, -0.046446], [51.511887, -0.031736], [51.510931, -0.017653], [51.514643, -0.008556], [51.522938, -0.015114], [51.518209, -0.03867], [51.514164, -0.054986], [51.523589, -0.075776], [51.52462, -0.072849], [51.514735, -0.062313], [51.518923, -0.059973], [51.517989, -0.074282], [51.518921, -0.076261], [51.527297, -0.077061], [51.527538, -0.031926], [51.514694, -0.059864], [51.531863, -0.059422], [51.525216, -0.070806], [51.52227, -0.01817], [51.528765, -0.062438], [51.516395, -0.075791], [51.514268, -0.055847], [51.511115, -0.012601], [51.531237, -0.065072], [51.511178, -0.048484], [51.513951, -0.036835], [51.512213, -0.029704], [51.511042, -0.05656], [51.508721, -0.068476], [51.511923, -0.039228], [51.513373, -0.066982], [51.511957, -0.003917], [51.51482, -0.067498], [51.526914, -0.064679], [51.514787, -0.070958], [51.5111, -0.011737], [51.522169, -0.044266], [51.519681, -0.056913], [51.514626, -0.061164], [51.511876, -0.041825], [51.518781, -0.067762], [51.531892, -0.061151], [51.526285, -0.064705], [51.52629, -0.016554], [51.514804, -0.066489], [51.511524, -0.042272], [51.487207, -0.013353], [51.528133, -0.019213], [51.520067, -0.058483], [51.5075, -0.006274], [51.518703, -0.063009], [51.525562, -0.069926], [51.491749, -0.021367], [51.512768, -0.041354], [51.524492, -0.04878], [51.522171, -0.04441], [51.523823, -0.062647], [51.533928, -0.026892], [51.518422, -0.05149], [51.510629, -0.010461], [51.509689, -0.050853], [51.513121, -0.014243], [51.522991, -0.034284], [51.517441, -0.073729], [51.508303, -0.027135], [51.511341, -0.025994], [51.512349, -0.032436], [51.51464, -0.062028], [51.495406, -0.014293], [51.494687, -0.008994], [51.514934, -0.068934], [51.515458, -0.019475], [51.519555, -0.011801], [51.517158, -0.029635], [51.511426, -0.025703], [51.516632, -0.068286], [51.521756, -0.046446], [51.510911, -0.027166], [51.509078, -0.073793], [51.501131, -0.023122], [51.50907, -0.024651], [51.523348, -0.077516], [51.533719, -0.030506], [51.517243, -0.029343], [51.506151, -0.027516], [51.516199, -0.069313], [51.527168, -0.036699], [51.512527, -0.000433], [51.511003, -0.016641], [51.518344, -0.063024], [51.509689, -0.050853], [51.506473, -0.004013], [51.52248, -0.04137], [51.518489, -0.023235], [51.528149, -0.074142], [51.509309, -0.060525], [51.520884, -0.075313], [51.514804, -0.066489], [51.519674, -0.056481], [51.514007, -0.008151], [51.513228, -0.047387], [51.510994, -0.016065], [51.530736, -0.040294], [51.514048, -0.053406], [51.507389, -0.010313], [51.514699, -0.065629], [51.518923, -0.059973], [51.527971, -0.020229], [51.507637, -0.01967], [51.527564, -0.049657], [51.50773, -0.01981], [51.528116, -0.050355], [51.530826, -0.040291], [51.531813, -0.018765], [51.523489, -0.010477], [51.513088, -0.044367], [51.529479, -0.013676], [51.518515, -0.035486], [51.525228, -0.033611], [51.514614, -0.060444], [51.520589, -0.051974], [51.515414, -0.070787], [51.516026, -0.069753], [51.510721, -0.010601], [51.527132, -0.077933], [51.522224, -0.063869], [51.518339, -0.062736], [51.51537, -0.019623], [51.513226, -0.047243], [51.507822, -0.030614], [51.5202, -0.072027], [51.52377, -0.037854], [51.491982, -0.024526], [51.499551, -0.009502], [51.518492, -0.055667], [51.512134, -0.003765], [51.51196, -0.020059], [51.499916, -0.015106], [51.507929, -0.020954], [51.530005, -0.039605], [51.514164, -0.054986], [51.529568, -0.013672], [51.529107, -0.055935], [51.529107, -0.055935], [51.518443, -0.074551], [51.512666, -0.040638], [51.503686, -0.025317], [51.511636, -0.006237], [51.504618, -0.075999], [51.529391, -0.013824], [51.528138, -0.019501], [51.505408, -0.026107], [51.516658, -0.042773], [51.510863, -0.018953], [51.508979, -0.067745], [51.518163, -0.025267], [51.509168, -0.073789], [51.509387, -0.059801], [51.509648, -0.075643], [51.509719, -0.06901], [51.534076, -0.05731], [51.512709, -0.000569], [51.511501, -0.008837], [51.528357, -0.064906], [51.535356, -0.031588], [51.514633, -0.061596], [51.514268, -0.055847], [51.51259, -0.041506], [51.521984, -0.076564], [51.52034, -0.053282], [51.524674, -0.011434], [51.511827, -0.028135], [51.518346, -0.063168], [51.51027, 4.3e-05], [51.526482, -0.027935], [51.512274, -0.027972], [51.510855, -0.018521], [51.529391, -0.013824], [51.518307, -0.023099], [51.510611, -0.041447], [51.515506, -0.070928], [51.51414, -0.053546], [51.510999, -0.016353], [51.531826, -0.040968], [51.517769, -0.033932], [51.527288, -0.03309], [51.512972, -0.042786], [51.514635, -0.06174], [51.519229, -0.051311], [51.514558, -0.073418], [51.516114, -0.069605], [51.538268, -0.02829], [51.525065, -0.034627], [51.524694, -0.071837], [51.517641, -0.058586], [51.524123, -0.059031], [51.524514, -0.077322], [51.513342, -0.048824], [51.516542, -0.06829], [51.512921, -0.007766], [51.524332, -0.071708], [51.529108, -0.061414], [51.518446, -0.069218], [51.530577, -0.063226], [51.518938, -0.071792], [51.508924, -0.048148], [51.51113, -0.013465], [51.503696, -0.025893], [51.515409, -0.070499], [51.510146, 0.002056], [51.53488, -0.024688], [51.53422, -0.022842], [51.523578, -0.075055], [51.527443, -0.036976], [51.511331, -0.009421], [51.525896, -0.030555], [51.507771, -0.02759], [51.514815, -0.06721], [51.514638, -0.061884], [51.513396, 0.001333], [51.509248, -0.062257], [51.519611, -0.063547], [51.506323, -0.027076], [51.528286, -0.049771], [51.523713, -0.034397], [51.534258, -0.057446], [51.52699, -0.063811], [51.511658, -0.007533], [51.524784, -0.071833], [51.532221, -0.0323], [51.532914, -0.041499], [51.510061, -0.046226], [51.527134, -0.078077], [51.524042, -0.043321], [51.514085, -0.034091], [51.517323, -0.028763], [51.519428, -0.057933], [51.510631, -0.010605], [51.514268, -0.055847], [51.52598, -0.068034], [51.521505, -0.04761], [51.521017, -0.056136], [51.507837, -0.020814], [51.517838, -0.065064], [51.509314, -0.060813], [51.515692, -0.038778], [51.509669, -0.049701], [51.53098, -0.017359], [51.487607, -0.010455], [51.514952, -0.010849], [51.512373, -0.033877], [51.510854, -0.039851], [51.512305, -0.029844], [51.487197, -0.012777], [51.532901, -0.029964], [51.530015, -0.050995], [51.515245, -0.060561], [51.514137, -0.053402], [51.519348, -0.058513], [51.508921, -0.058812], [51.527645, -0.022262], [51.54257, -0.027383], [51.509104, -0.026668], [51.517466, -0.021261], [51.533977, -0.029773], [51.511521, -0.025987], [51.534076, -0.05731], [51.509644, -0.053594], [51.511117, -0.012745], [51.510538, -0.075029], [51.526739, -0.027203], [51.510185, -0.026765], [51.514626, -0.061164], [51.519569, -0.071909], [51.493152, -0.024619], [51.515499, -0.048732], [51.511183, -0.011301], [51.511205, -0.012597], [51.521843, -0.046298], [51.522003, -0.072239], [51.510999, -0.016353], [51.530296, -0.067996], [51.503443, -0.021581], [51.511544, -0.006097], [51.499571, -0.010654], [51.511175, -0.010869], [51.512523, -0.037473], [51.531251, -0.065937], [51.517654, -0.043162], [51.519297, -0.050011], [51.514363, -0.056131], [51.524954, -0.071249], [51.531079, -0.066376], [51.501124, -0.02269], [51.51464, -0.062028], [51.509901, -0.074623], [51.528621, -0.048315], [51.498481, -0.025974], [51.507003, -0.008745], [51.487658, -0.013477], [51.514584, -0.053239], [51.512484, -0.035169], [51.521843, -0.046298], [51.516658, -0.042773], [51.515939, -0.0699], [51.517748, -0.065067], [51.533938, -0.022133], [51.513832, -0.051253], [51.523575, -0.063955], [51.517289, -0.069988], [51.511115, -0.012601], [51.502417, -0.008801], [51.530214, -0.052139], [51.511517, -0.068934], [51.521916, -0.045286], [51.532463, -0.057667], [51.509976, -0.046518], [51.516504, -0.076939], [51.510994, -0.016065], [51.524672, -0.01129], [51.524113, -0.058455], [51.524415, -0.054982], [51.504367, -0.066211], [51.50532, -0.026255], [51.523575, -0.074911], [51.504735, -0.05582], [51.519944, -0.05647], [51.512453, -0.027964], [51.508312, -0.070943], [51.510066, -0.046514], [51.511195, -0.012021], [51.525138, -0.033615], [51.528041, -0.019073], [51.526732, -0.02677], [51.490758, -0.015936], [51.537902, 0.035287], [51.514905, -0.067206], [51.51462, -0.028447], [51.515435, -0.072084], [51.507894, -0.008274], [51.487207, -0.013353], [51.514991, -0.072391], [51.524723, -0.035651], [51.527039, -0.066836], [51.523521, -0.071598], [51.514604, -0.059868], [51.530737, -0.056587], [51.524454, -0.019661], [51.517152, -0.067111], [51.509189, -0.064133], [51.501034, -0.022694], [51.520823, -0.028323], [51.530729, -0.072447], [51.510931, -0.017653], [51.5268, -0.014801], [51.514164, -0.054986], [51.525044, -0.071245], [51.528058, -0.020081], [51.511125, -0.013177], [51.512678, -0.041358], [51.52576, -0.011819], [51.527648, -0.022406], [51.521092, -0.04979], [51.511663, -0.007821], [51.529114, -0.013403], [51.516276, -0.036015], [51.514374, -0.008568], [51.527447, -0.053411], [51.539359, -0.023628], [51.510483, -0.007152], [51.512709, -0.000569], [51.509395, -0.060233], [51.522014, -0.072959], [51.49971, -0.01353], [51.514512, -0.006112], [51.536061, -0.025358], [51.52278, -0.016418], [51.512271, -0.027828], [51.521923, -0.045718], [51.519162, -0.074521], [51.517631, -0.009723], [51.515245, -0.060561], [51.503573, -0.00803], [51.51453, -0.028451], [51.519764, -0.056477], [51.519582, -0.024052], [51.519519, -0.063407], [51.52593, -0.011235], [51.516026, -0.069753], [51.527643, -0.022118], [51.523578, -0.075055], [51.515198, -0.063158], [51.506718, -0.007893], [51.503686, -0.025317], [51.514045, -0.053262], [51.510027, 0.00378], [51.517252, -0.029919], [51.51079, -0.019965], [51.520714, -0.075897], [51.53074, -0.040583], [51.512998, -0.044371], [51.51465, -0.062604], [51.514365, -0.056275], [51.514671, -0.063901], [51.51072, -0.053404], [51.518525, -0.046873], [51.51741, -0.066379], [51.516961, -0.071875], [51.519507, -0.068164], [51.518344, -0.063024], [51.517889, -0.030324], [51.528218, -0.018921], [51.512349, -0.032436], [51.511258, -0.047904], [51.523575, -0.074911], [51.523126, -0.053163], [51.526314, -0.028663], [51.530463, -0.05631], [51.514121, -0.041584], [51.511042, -0.013613], [51.509399, -0.060521], [51.514747, -0.063033], [51.509686, -0.050709], [51.533758, -0.022141], [51.518307, -0.023099], [51.517663, -0.065359], [51.529307, -0.046267], [51.511006, -0.02745], [51.517163, -0.029923], [51.527237, -0.057024], [51.518594, -0.06186], [51.529942, -0.014521], [51.533561, -0.026475], [51.530736, -0.040294], [51.510717, -0.020977], [51.530736, -0.040294], [51.500927, -0.02169], [51.513839, -0.073448], [51.509229, -0.061105], [51.527737, -0.022402], [51.534037, -0.038711], [51.510984, 0.000363], [51.512184, -0.027976], [51.542662, -0.022187], [51.509809, -0.074483], [51.526613, -0.062817], [51.526734, -0.026914], [51.52142, -0.047902], [51.510719, -0.021121], [51.510918, -0.016933], [51.513226, 0.000749], [51.509248, -0.062257], [51.515245, -0.060561], [51.516393, -0.021596], [51.513442, -0.027921], [51.523658, -0.074475], [51.512663, -0.040494], [51.511183, -0.011301], [51.511914, -0.027987], [51.512639, -0.039054], [51.517077, -0.073456], [51.520752, -0.050958], [51.509679, -0.050277], [51.51464, -0.062028], [51.517325, -0.066671], [51.528184, -0.065346], [51.534615, -0.057287], [51.493067, -0.024911], [51.536273, -0.043373], [51.535694, -0.057241], [51.512487, -0.035313], [51.530046, -0.052868], [51.51462, -0.028447], [51.511309, -0.07269], [51.509566, -0.076079], [51.517743, -0.016348], [51.459307, -0.446708], [51.494381, -0.453727], [51.479287, -0.48232], [51.468897, -0.424066], [51.470601, -0.457555], [51.462379, -0.489071], [51.467844, -0.419351], [51.45619, -0.448973], [51.458146, -0.447323], [51.458241, -0.468192], [51.476045, -0.420651], [51.457686, -0.43971], [51.48052, -0.43245], [51.462979, -0.493802], [51.46656, -0.424146], [51.459483, -0.446414], [51.472378, -0.455911], [51.47612, -0.426265], [51.471324, -0.457819], [51.4561, -0.448976], [51.470513, -0.457702], [51.463608, -0.493781], [51.466626, -0.422416], [51.45619, -0.448973], [51.46817, -0.423515], [51.458584, -0.446445], [51.458243, -0.468336], [51.457137, -0.445774], [51.473331, -0.453143], [51.467724, -0.423818], [51.479357, -0.453228], [51.479862, -0.471212], [51.47234, -0.453033], [51.476122, -0.426409], [51.479301, -0.428748], [51.471148, -0.458113], [51.581208, -0.345418], [51.494922, -0.453853], [51.470778, -0.505928], [51.470601, -0.457555], [51.45751, -0.460444], [51.474685, -0.495], [51.479366, -0.433642], [51.480963, -0.452309], [51.467904, -0.423812], [51.479848, -0.449611], [51.480302, -0.449883], [51.472415, -0.451878], [51.460434, -0.436737], [51.462736, -0.488915], [51.473149, -0.453006], [51.466294, -0.424443], [51.467351, -0.422823], [51.470816, -0.453372], [51.467717, -0.49163], [51.463607, -0.493637], [51.479827, -0.454796], [51.470829, -0.45438], [51.466988, -0.422548], [51.471932, -0.456214], [51.455367, -0.454758], [51.459072, -0.442542], [51.467447, -0.423252], [51.466625, -0.422272], [51.476049, -0.420939], [51.476034, -0.426556], [51.463418, -0.492924], [51.466727, -0.491519], [51.480663, -0.436478], [51.476308, -0.426834], [51.459369, -0.444547], [51.458011, -0.443873], [51.468352, -0.423653], [51.479896, -0.466891], [51.456102, -0.44912], [51.472508, -0.452163], [51.468623, -0.423787], [51.458149, -0.468051], [51.471191, -0.454512], [51.456968, -0.446644], [51.471101, -0.454515], [51.47247, -0.456052], [51.467445, -0.423108], [51.460346, -0.436884], [51.470333, -0.457708], [51.474048, -0.452975], [51.561339, 0.000697], [51.570502, 0.011778], [51.632128, -0.005581], [51.55905, -0.01282], [51.576821, -0.016086], [51.607486, -0.000162], [51.583912, 0.005874], [51.577599, -0.030196], [51.573228, 0.015362], [51.568689, -0.008504], [51.586255, -0.026213], [51.574961, -0.012415], [51.571522, -0.021801], [51.556944, -0.010604], [51.561887, -0.010388], [51.582223, -0.02711], [51.580909, -0.018506], [51.592411, -0.023347], [51.558739, 0.005488], [51.557106, 0.006281], [51.611137, -0.046077], [51.596463, 0.00816], [51.589827, -0.014076], [51.57135, -0.022241], [51.608769, -0.00155], [51.626872, 0.007336], [51.59884, -0.036641], [51.569628, -0.026789], [51.615062, 0.014326], [51.615615, -0.028839], [51.583566, -0.000203], [51.577732, -0.016768], [51.570018, 0.013777], [51.582779, -0.028096], [51.590637, -0.008843], [51.621731, 0.008264], [51.600321, -0.012463], [51.599233, -0.033303], [51.61682, -0.020264], [51.594272, -0.016336], [51.57524, -0.01298], [51.575702, -0.013681], [51.552533, 0.005503], [51.569545, -0.027226], [51.573135, -0.016102], [51.559518, 0.007253], [51.580587, -0.004808], [51.566533, -0.035292], [51.590302, -0.010301], [51.556375, 0.006971], [51.575048, -0.012267], [51.572686, 0.015482], [51.581358, -0.018487], [51.57632, -0.007737], [51.614, -0.029054], [51.567003, 0.005996], [51.562724, -0.044113], [51.589112, -0.009054], [51.584079, -0.025153], [51.573746, -0.009726], [51.567374, 9.6e-05], [51.562159, -0.01052], [51.60121, -0.017189], [51.569316, -0.008332], [51.572532, -0.017716], [51.600933, -0.016768], [51.572669, 0.016491], [51.580931, 0.001413], [51.557064, -0.01233], [51.582786, 0.003371], [51.580177, 0.0034], [51.573372, -0.008876], [51.566878, -0.034412], [51.562793, -0.010781], [51.565044, -0.010971], [51.569855, -0.008308], [51.580928, 0.001557], [51.6094, -0.017554], [51.590005, -0.024607], [51.589021, -0.03028], [51.619253, -0.025937], [51.616841, -0.016219], [51.562098, 0.003616], [51.616921, 0.010797], [51.591611, -0.039985], [51.600279, -0.004667], [51.587467, -0.028759], [51.602369, -0.016561], [51.597883, -0.001306], [51.576401, -0.033856], [51.57533, -0.012976], [51.575991, -0.014823], [51.590807, -0.008258], [51.55463, -0.01734], [51.575266, -0.009226], [51.57059, 0.017121], [51.635401, -0.012952], [51.614884, -0.01746], [51.564867, -0.011124], [51.600648, -0.005228], [51.55229, -0.001286], [51.572042, 0.016319], [51.565489, -0.010664], [51.623499, -0.005815], [51.58071, -0.001483], [51.565023, -0.020351], [51.600484, -0.016787], [51.562031, -0.04573], [51.601196, -0.016323], [51.594988, 0.010261], [51.58488, -0.019344], [51.631566, -0.014854], [51.576579, -0.028364], [51.578899, -0.006036], [51.600427, -0.008126], [51.592324, -0.018154], [51.588492, -0.004317], [51.557863, -0.017056], [51.591562, -0.005049], [51.576515, -0.029955], [51.556414, -0.005866], [51.560215, -0.001949], [51.567977, 0.006904], [51.600482, -0.016643], [51.62209, 0.00828], [51.599787, -0.02346], [51.573611, 0.00874], [51.598718, -0.040112], [51.574963, -0.012559], [51.618568, -0.001409], [51.570492, 0.01755], [51.60026, -0.014198], [51.561163, -0.010131], [51.606336, 0.055966], [51.553919, -0.017804], [51.618818, -0.000242], [51.618581, 0.008414], [51.561126, -0.007968], [51.60529, -0.008491], [51.575065, -0.013276], [51.62912, 0.002089], [51.555999, 0.013157], [51.567264, -0.009287], [51.562209, -0.045578], [51.587828, -0.034229], [51.612298, -0.00284], [51.610097, -0.016224], [51.559188, -0.005023], [51.626786, -0.008705], [51.58919, -0.008329], [51.601117, -0.03842], [51.585623, -0.015414], [51.596778, -0.015649], [51.587948, -0.004052], [51.612185, 0.003799], [51.599958, -0.001648], [51.611799, -0.031894], [51.580822, -0.018654], [51.624402, -0.000719], [51.582376, -0.025515], [51.58301, -0.020436], [51.570776, 0.011501], [51.562724, -0.044113], [51.585333, -0.008931], [51.635224, -0.013104], [51.593825, 0.009921], [51.576698, -0.030091], [51.579338, -0.021317], [51.56061, -0.014628], [51.585477, -0.038806], [51.580713, -0.001627], [51.587752, -0.008392], [51.610485, 0.019034], [51.572795, -0.027951], [51.574975, -0.01328], [51.595056, 0.011563], [51.575148, -0.012839], [51.567825, -0.031918], [51.589448, -0.028962], [51.59508, 0.01012], [51.567551, 0.010782], [51.55746, 0.017117], [51.600844, -0.016772], [51.587519, -0.037274], [51.631516, -0.001273], [51.581654, 0.001156], [51.619287, -0.017268], [51.597793, -0.00131], [51.555845, 0.001177], [51.586808, -0.032396], [51.563975, -0.006257], [51.580649, 0.002122], [51.59147, -0.004908], [51.554744, -0.008103], [51.568508, -0.029724], [51.630403, 0.0007], [51.616552, 0.011358], [51.590242, -0.017378], [51.601179, -0.015313], [51.59156, -0.004905], [51.593095, -0.00527], [51.571437, -0.022093], [51.593491, -0.039471], [51.598703, -0.039246], [51.561907, -0.01688], [51.559783, 0.007553], [51.609038, -0.017426], [51.633997, 0.011407], [51.590551, -0.019675], [51.575682, -0.012528], [51.581383, -0.019929], [51.565317, 0.009962], [51.619646, -0.017252], [51.576799, 0.011623], [51.60029, -0.021272], [51.584738, 0.020635], [51.572455, -0.018441], [51.552457, -0.000558], [51.566213, 0.010145], [51.5814, 0.000279], [51.592416, -0.018294], [51.598849, -0.037219], [51.625373, 0.010881], [51.574798, -0.013432], [51.600732, -0.015477], [51.616866, -0.017662], [51.563259, -0.011771], [51.573832, -0.014773], [51.590063, -0.017386], [51.552354, 0.005495], [51.578541, -0.032754], [51.633942, 0.014584], [51.590352, -0.018528], [51.612171, -0.0326], [51.56666, 0.010309], [51.58097, -0.000894], [51.566123, 0.010141], [51.615872, -0.017417], [51.589086, -0.01815], [51.611962, -0.030875], [51.581179, -0.018494], [51.580552, -0.029347], [51.563522, 0.009738], [51.587125, -0.040611], [51.573829, -0.014629], [51.607297, 0.000406], [51.5843, -0.001036], [51.604797, -0.0166], [51.60035, -0.008851], [51.633648, 0.016016], [51.570411, 0.006579], [51.557323, -0.006403], [51.560046, 0.00266], [51.590356, -0.040183], [51.63091, -0.013293], [51.567651, -0.032214], [51.568425, -0.03016], [51.567051, -0.033971], [51.59665, 0.007735], [51.582605, -0.001833], [51.585756, -0.039371], [51.571879, 0.010107], [51.608587, -0.001414], [51.600467, -0.015777], [51.579759, -0.003689], [51.556831, -0.014504], [51.577827, -0.033073], [51.565839, -0.020749], [51.601205, -0.0169], [51.613718, -0.017655], [51.55878, -0.007494], [51.567256, 0.007017], [51.600158, -0.01348], [51.586881, -0.0207], [51.562752, -0.013669], [51.582624, -0.018864], [51.611217, -0.002743], [51.634777, -0.013269], [51.607399, -0.000311], [51.596207, -0.035167], [51.592166, -0.024802], [51.585417, -0.029858], [51.619304, -0.023623], [51.603632, -0.022138], [51.608815, -0.02018], [51.601869, -0.018893], [51.584049, -0.028763], [51.627415, 0.012417], [51.559147, -0.007911], [51.589018, -0.030135], [51.549665, 0.004944], [51.568381, -0.006208], [51.567374, 9.6e-05], [51.583418, -0.028646], [51.587522, -0.000173], [51.552737, -0.00646], [51.571239, 0.015995], [51.556828, -0.01436], [51.554695, 0.00531], [51.559237, -0.007907], [51.56984, -0.002104], [51.572248, -0.027542], [51.558498, -0.006785], [51.594718, 0.010249], [51.585924, -0.011936], [51.585155, -0.003742], [51.596654, -0.029661], [51.555414, 0.005341], [51.573746, -0.009726], [51.58387, -0.02877], [51.569305, 0.008117], [51.57859, 0.006795], [51.586651, -0.044529], [51.568425, -0.03016], [51.591152, -0.007377], [51.582172, -0.01874], [51.577917, -0.017049], [51.566878, -0.034412], [51.57859, 0.006795], [51.618107, -0.027287], [51.575053, -0.012555], [51.556469, -0.014375], [51.558624, 0.006925], [51.619467, -0.01726], [51.612732, -0.033875], [51.578991, -0.006177], [51.588011, -0.023683], [51.601594, -0.018616], [51.601866, -0.018749], [51.579331, -0.005007], [51.554626, -0.017052], [51.566045, -0.038343], [51.565407, 0.009966], [51.639515, -0.011616], [51.555313, 0.011252], [51.580765, -0.009996], [51.581106, -0.00363], [51.582296, -0.026096], [51.558624, 0.006925], [51.559234, -0.007763], [51.612359, 0.004095], [51.567221, -0.033387], [51.570235, -0.025464], [51.572423, -0.027245], [51.55978, 0.007698], [51.587867, -0.015172], [51.576158, -0.030114], [51.584489, -0.022825], [51.597288, -0.035265], [51.603166, -0.021147], [51.574234, 0.014396], [51.586885, -0.042354], [51.59611, -0.024053], [51.55309, 0.004518], [51.568581, -0.023371], [51.579756, -0.003545], [51.591671, -0.027422], [51.572616, 0.014324], [51.580103, -0.002808], [51.604438, -0.016615], [51.629233, -0.004552], [51.60223, -0.019022], [51.578899, -0.006036], [51.570148, -0.025612], [51.589847, -0.025913], [51.567996, -0.031333], [51.56877, -0.029279], [51.621548, 0.008401], [51.617918, -0.005482], [51.580016, -0.002957], [51.615064, 0.014181], [51.601201, -0.016612], [51.618726, -0.000102], [51.642028, -0.006014], [51.623413, -0.011309], [51.60366, 0.002701], [51.58721, -0.008271], [51.580556, 0.002262], [51.56954, -0.026937], [51.571974, -0.027265], [51.627164, 0.006048], [51.574798, -0.029452], [51.598536, -0.013262], [51.558117, -0.042868], [51.551565, -0.016897], [51.59945, -0.030117], [51.604202, 0.002581], [51.622067, 0.004378], [51.627014, -0.011585], [51.565236, -0.038378], [51.562724, -0.044113], [51.571418, 0.016003], [51.575991, -0.014823], [51.565061, -0.038674], [51.577221, -0.007842], [51.600553, -0.004944], [51.570499, 0.011922], [51.590612, 0.008479], [51.585756, -0.039371], [51.569628, -0.026789], [51.5686, -0.029864], [51.573434, -0.0285], [51.600734, -0.015621], [51.56818, 0.010809], [51.569781, -0.030534], [51.589116, -0.030564], [51.566514, 0.018816], [51.558091, -0.009255], [51.557112, -0.009875], [51.560257, -0.009738], [51.615853, -0.000372], [51.608766, -0.001406], [51.57533, -0.012976], [51.588052, -0.020794], [51.614592, -0.010828], [51.572545, -0.018437], [51.634954, -0.013116], [51.63031, 0.00084], [51.570148, -0.025612], [51.582959, -0.001528], [51.600508, -0.01823], [51.603627, -0.016506], [51.586879, -0.020556], [51.570598, -0.00438], [51.641312, -0.011538], [51.586598, 0.00657], [51.569765, -0.008312], [51.556479, -0.014952], [51.589766, -0.015811], [51.580972, -0.001038], [51.567051, -0.033971], [51.576906, -0.010454], [51.557998, 0.006753], [51.5695, -0.040648], [51.560671, 0.00817], [51.589106, -0.029987], [51.578391, -0.023812], [51.558696, -0.018462], [51.58208, -0.018599], [51.589904, -0.01335], [51.568813, -0.005179], [51.586546, -0.022158], [51.616783, -0.023444], [51.574958, 0.003604], [51.566303, 0.010149], [51.58055, -0.029203], [51.573746, -0.009726], [51.597126, 0.006168], [51.586853, -0.040479], [51.605589, -0.015554], [51.59846, -0.040845], [51.571747, -0.008514], [51.580999, -0.018502], [51.575991, -0.014823], [51.60121, -0.017189], [51.592622, 0.001349], [51.617698, -0.008381], [51.556862, -0.01104], [51.580008, -0.018401], [51.579993, 0.003681], [51.571159, -0.005654], [51.557399, -0.010872], [51.570502, 0.011778], [51.580705, -0.033093], [51.614974, -0.017456], [51.589817, -0.013499], [51.594094, -0.016488], [51.571503, 0.016296], [51.579347, -0.032574], [51.573748, -0.00987], [51.623821, 0.001711], [51.563259, -0.011771], [51.58382, 0.006015], [51.589178, -0.039657], [51.572282, -0.018881], [51.598711, -0.039679], [51.575058, -0.012843], [51.579979, -0.032692], [51.575065, -0.013276], [51.568673, -0.023512], [51.569765, -0.008312], [51.562752, -0.013669], [51.630323, 0.015869], [51.597126, 0.006168], [51.583377, -0.026193], [51.558, -0.003921], [51.588933, -0.030428], [51.595902, -0.006447], [51.600441, -0.019533], [51.598684, -0.038092], [51.567395, -0.033091], [51.590458, -0.008851], [51.591472, -0.005053], [51.620319, -0.025168], [51.560899, 0.0001], [51.589771, -0.026782], [51.582221, -0.026965], [51.569146, 0.012151], [51.569625, -0.026645], [51.567643, 0.010641], [51.558962, -0.00763], [51.63594, -0.012929], [51.627107, -0.011725], [51.555499, 0.005634], [51.607297, 0.000406], [51.589749, -0.014801], [51.564369, -0.040291], [51.59123, -0.006651], [51.581161, -0.033506], [51.599382, -0.03142], [51.581654, 0.001156], [51.60291, -0.016682], [51.583083, -0.019422], [51.572913, -0.008319], [51.58315, -0.007438], [51.562376, -0.04485], [51.617211, -0.02747], [51.558411, -0.006933], [51.57314, -0.000516], [51.562184, 0.009102], [51.558212, -0.005787], [51.604438, -0.016615], [51.551717, 0.0059], [51.577668, -0.007678], [51.573043, 0.015642], [51.581828, -0.003743], [51.594094, -0.016488], [51.593506, -0.034995], [51.608312, -0.017024], [51.587766, -0.003916], [51.564066, 0.025201], [51.570796, -0.000186], [51.563432, 0.009734], [51.589822, -0.013787], [51.553981, 0.00499], [51.573921, -0.014769], [51.577134, -0.034691], [51.56593, -0.004873], [51.561525, -0.010259], [51.614977, 0.014033], [51.571938, 0.017181], [51.608872, 0.002931], [51.569715, -0.026641], [51.570148, -0.025612], [51.595991, -0.011641], [51.580016, -0.002957], [51.584087, 0.006171], [51.635379, -0.011653], [51.622369, -0.024068], [51.638798, -0.011792], [51.600851, -0.017205], [51.576831, -0.027343], [51.570502, 0.011778], [51.609903, 0.016264], [51.558386, -0.005491], [51.588771, 0.000458], [51.571777, -0.020924], [51.630483, 0.001282], [51.601198, -0.016468], [51.59059, -0.021983], [51.560801, -0.010002], [51.593201, 0.009604], [51.550736, -0.005105], [51.588761, -0.030868], [51.597122, -0.04148], [51.609366, -0.015534], [51.571485, -0.014298], [51.57299, -0.007594], [51.559515, 0.007397], [51.573919, -0.014625], [51.554805, -0.017044], [51.568433, -0.030593], [51.568343, -0.030597], [51.609049, 0.003083], [51.600472, -0.016066], [51.604076, -0.016487], [51.600355, -0.014483], [51.586198, -0.012213], [51.556414, -0.005866], [51.58725, -0.026603], [51.573841, -0.01001], [51.562204, 0.007949], [51.580199, -0.013774], [51.581086, -0.018354], [51.597404, -0.015478], [51.636117, -0.012776], [51.600571, -0.011296], [51.585446, -0.015566], [51.588394, -0.030451], [51.588848, -0.020037], [51.638174, -0.012108], [51.589582, 0.000349], [51.570228, -0.025031]],\n",
              "                {&quot;blur&quot;: 15, &quot;maxZoom&quot;: 18, &quot;minOpacity&quot;: 0.5, &quot;radius&quot;: 25}\n",
              "            ).addTo(map_f7dcdb556695b069b7c20a5dc90fe863);\n",
              "        \n",
              "&lt;/script&gt;\n",
              "&lt;/html&gt;\" style=\"position:absolute;width:100%;height:100%;left:0;top:0;border:none !important;\" allowfullscreen webkitallowfullscreen mozallowfullscreen></iframe></div></div>"
            ]
          },
          "metadata": {},
          "execution_count": 59
        }
      ]
    },
    {
      "cell_type": "markdown",
      "source": [
        "Most accidents took place at a speed of 30 miles per hour."
      ],
      "metadata": {
        "id": "OnvIB_Ftx77b"
      }
    },
    {
      "cell_type": "markdown",
      "source": [
        "##Ask and answer questions\n",
        "1. Which days of the week has highest no of accidents?\n",
        "2. Under which road surface condition is accident more prone?(wet/dry)\n",
        "3. What is the most common speed limit in which accidents take place?\n",
        "4. Which hour of the day has the most accidents."
      ],
      "metadata": {
        "id": "F0y7wygM53nZ"
      }
    },
    {
      "cell_type": "markdown",
      "source": [
        "##Summary and Conclusion\n",
        "Insights:\n",
        "1. The no of vehicles in the accident that have more than and equal to 1000 accidents is 25percent.\n",
        "2. Only 3 accidents have happened that invloved the accident of 8 vehicles.\n",
        "3. Over 95 of the accidents happen at 15:30pm\n",
        "4. Over 175 timestamps only have 1 accident.\n",
        "5. Only 2.3percent of accidents have timestamps that have more than 50 accidents.\n",
        "6. Day4 of the week i.e Thursday has the most number of accidents.\n",
        "7. 17th hour of the day has the most accidents.\n",
        "8. The speed limit of 30 miles per hour has most accidents.(Around 10000 accidents took place)\n",
        "9. Over 8550 cases are attended by the police. But still in around 2000 accidents the police was not present.(The police force needs to be more vigilant)"
      ],
      "metadata": {
        "id": "4p-DxXgtPJTV"
      }
    }
  ]
}